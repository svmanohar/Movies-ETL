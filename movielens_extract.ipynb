{
 "metadata": {
  "language_info": {
   "codemirror_mode": {
    "name": "ipython",
    "version": 3
   },
   "file_extension": ".py",
   "mimetype": "text/x-python",
   "name": "python",
   "nbconvert_exporter": "python",
   "pygments_lexer": "ipython3",
   "version": "3.7.9-final"
  },
  "orig_nbformat": 2,
  "kernelspec": {
   "name": "python3",
   "display_name": "Python 3",
   "language": "python"
  }
 },
 "nbformat": 4,
 "nbformat_minor": 2,
 "cells": [
  {
   "cell_type": "code",
   "execution_count": 77,
   "metadata": {},
   "outputs": [],
   "source": [
    "# import movie metadata into pandas Dataframes\n",
    "import pandas as pd\n",
    "import re\n",
    "kaggle_metadata = pd.read_csv('Data/movies_metadata.csv', low_memory=False)\n",
    "ratings = pd.read_csv('Data/ratings.csv')\n",
    "wiki_movies_df = pd.read_csv('Data/wikidata.csv')"
   ]
  },
  {
   "cell_type": "code",
   "execution_count": 78,
   "metadata": {},
   "outputs": [
    {
     "output_type": "execute_result",
     "data": {
      "text/plain": [
       "       adult belongs_to_collection    budget  \\\n",
       "15431  False                   NaN         0   \n",
       "5536   False                   NaN  25000000   \n",
       "21041  False                   NaN         0   \n",
       "38056  False                   NaN         0   \n",
       "26835  False                   NaN         0   \n",
       "11860  False                   NaN         0   \n",
       "28215  False                   NaN         0   \n",
       "1157   False                   NaN  15000000   \n",
       "39330  False                   NaN         0   \n",
       "15601  False                   NaN         0   \n",
       "\n",
       "                                                  genres  \\\n",
       "15431  [{'id': 35, 'name': 'Comedy'}, {'id': 18, 'nam...   \n",
       "5536   [{'id': 35, 'name': 'Comedy'}, {'id': 18, 'nam...   \n",
       "21041  [{'id': 35, 'name': 'Comedy'}, {'id': 10749, '...   \n",
       "38056                                                 []   \n",
       "26835  [{'id': 14, 'name': 'Fantasy'}, {'id': 878, 'n...   \n",
       "11860  [{'id': 9648, 'name': 'Mystery'}, {'id': 80, '...   \n",
       "28215                      [{'id': 18, 'name': 'Drama'}]   \n",
       "1157   [{'id': 35, 'name': 'Comedy'}, {'id': 878, 'na...   \n",
       "39330                [{'id': 99, 'name': 'Documentary'}]   \n",
       "15601  [{'id': 18, 'name': 'Drama'}, {'id': 35, 'name...   \n",
       "\n",
       "                             homepage      id    imdb_id original_language  \\\n",
       "15431                             NaN   51617  tt0037367                en   \n",
       "5536                              NaN    8051  tt0272338                en   \n",
       "21041                             NaN   42714  tt0060112                en   \n",
       "38056                             NaN  191427  tt0002985                en   \n",
       "26835                             NaN   16356  tt0310952                en   \n",
       "11860  http://www.paranoidpark.co.uk/    1990  tt0842929                en   \n",
       "28215                             NaN  320003  tt2711898                fr   \n",
       "1157                              NaN      68  tt0088846                en   \n",
       "39330  http://www.dragbecomeshim.com/  338063  tt3593124                en   \n",
       "15601                             NaN   46011  tt0045592                en   \n",
       "\n",
       "                       original_title  \\\n",
       "15431                This Happy Breed   \n",
       "5536                 Punch-Drunk Love   \n",
       "21041                   Any Wednesday   \n",
       "38056           The House of Darkness   \n",
       "26835                      Riverworld   \n",
       "11860                   Paranoid Park   \n",
       "28215  Journal d'une femme de chambre   \n",
       "1157                           Brazil   \n",
       "39330                Drag Becomes Him   \n",
       "15601                   Call Me Madam   \n",
       "\n",
       "                                                overview  ... release_date  \\\n",
       "15431  A middle-class family faces personal triumphs ...  ...   1944-06-01   \n",
       "5536   A beleaguered small-business owner gets a harm...  ...   2002-10-25   \n",
       "21041  Ellen Gordon, a New York executive's mistress ...  ...   1966-10-13   \n",
       "38056                                        No Overview  ...   1913-05-10   \n",
       "26835  A movie for the Sci Fi Channel based on the bo...  ...   2003-03-22   \n",
       "11860  The teenager and skateboarder Alex is intervie...  ...   2007-05-21   \n",
       "28215  France, around 1900. Coming from the vibrancy ...  ...   2015-02-07   \n",
       "1157   Low-level bureaucrat Sam Lowry escapes the mon...  ...   1985-02-20   \n",
       "39330  Drag Becomes Him provides an intimate glimpse ...  ...   2015-04-29   \n",
       "15601  Washington hostess Sally Adams becomes a Truma...  ...   1953-03-25   \n",
       "\n",
       "                   revenue              runtime  \\\n",
       "15431                 0.00               115.00   \n",
       "5536         17,000,000.00                95.00   \n",
       "21041                 0.00               109.00   \n",
       "38056                 0.00                17.00   \n",
       "26835                 0.00                86.00   \n",
       "11860           486,021.00                85.00   \n",
       "28215                 0.00                96.00   \n",
       "1157                  0.00               132.00   \n",
       "39330                 0.00                82.00   \n",
       "15601                 0.00               114.00   \n",
       "\n",
       "                                spoken_languages    status  \\\n",
       "15431   [{'iso_639_1': 'en', 'name': 'English'}]  Released   \n",
       "5536    [{'iso_639_1': 'en', 'name': 'English'}]  Released   \n",
       "21041   [{'iso_639_1': 'en', 'name': 'English'}]  Released   \n",
       "38056                                         []  Released   \n",
       "26835   [{'iso_639_1': 'en', 'name': 'English'}]  Released   \n",
       "11860   [{'iso_639_1': 'en', 'name': 'English'}]  Released   \n",
       "28215  [{'iso_639_1': 'fr', 'name': 'Français'}]  Released   \n",
       "1157    [{'iso_639_1': 'en', 'name': 'English'}]  Released   \n",
       "39330   [{'iso_639_1': 'en', 'name': 'English'}]  Released   \n",
       "15601   [{'iso_639_1': 'en', 'name': 'English'}]  Released   \n",
       "\n",
       "                                                tagline  \\\n",
       "15431                                               NaN   \n",
       "5536                                                NaN   \n",
       "21041  It's got some new ideas about multiple dwelling!   \n",
       "38056                                               NaN   \n",
       "26835                                               NaN   \n",
       "11860                   Could you hide a deadly secret?   \n",
       "28215                                               NaN   \n",
       "1157                         It's only a state of mind.   \n",
       "39330                                               NaN   \n",
       "15601                                               NaN   \n",
       "\n",
       "                        title  video         vote_average           vote_count  \n",
       "15431        This Happy Breed  False                 6.60                11.00  \n",
       "5536         Punch-Drunk Love  False                 6.90               542.00  \n",
       "21041           Any Wednesday  False                 6.10                 5.00  \n",
       "38056   The House of Darkness  False                 4.30                 3.00  \n",
       "26835              Riverworld  False                 4.40                10.00  \n",
       "11860           Paranoid Park  False                 6.30               126.00  \n",
       "28215  Diary of a Chambermaid  False                 5.20                41.00  \n",
       "1157                   Brazil  False                 7.60               877.00  \n",
       "39330        Drag Becomes Him  False                 8.00                 1.00  \n",
       "15601           Call Me Madam  False                 8.50                 2.00  \n",
       "\n",
       "[10 rows x 24 columns]"
      ],
      "text/html": "<div>\n<style scoped>\n    .dataframe tbody tr th:only-of-type {\n        vertical-align: middle;\n    }\n\n    .dataframe tbody tr th {\n        vertical-align: top;\n    }\n\n    .dataframe thead th {\n        text-align: right;\n    }\n</style>\n<table border=\"1\" class=\"dataframe\">\n  <thead>\n    <tr style=\"text-align: right;\">\n      <th></th>\n      <th>adult</th>\n      <th>belongs_to_collection</th>\n      <th>budget</th>\n      <th>genres</th>\n      <th>homepage</th>\n      <th>id</th>\n      <th>imdb_id</th>\n      <th>original_language</th>\n      <th>original_title</th>\n      <th>overview</th>\n      <th>...</th>\n      <th>release_date</th>\n      <th>revenue</th>\n      <th>runtime</th>\n      <th>spoken_languages</th>\n      <th>status</th>\n      <th>tagline</th>\n      <th>title</th>\n      <th>video</th>\n      <th>vote_average</th>\n      <th>vote_count</th>\n    </tr>\n  </thead>\n  <tbody>\n    <tr>\n      <th>15431</th>\n      <td>False</td>\n      <td>NaN</td>\n      <td>0</td>\n      <td>[{'id': 35, 'name': 'Comedy'}, {'id': 18, 'nam...</td>\n      <td>NaN</td>\n      <td>51617</td>\n      <td>tt0037367</td>\n      <td>en</td>\n      <td>This Happy Breed</td>\n      <td>A middle-class family faces personal triumphs ...</td>\n      <td>...</td>\n      <td>1944-06-01</td>\n      <td>0.00</td>\n      <td>115.00</td>\n      <td>[{'iso_639_1': 'en', 'name': 'English'}]</td>\n      <td>Released</td>\n      <td>NaN</td>\n      <td>This Happy Breed</td>\n      <td>False</td>\n      <td>6.60</td>\n      <td>11.00</td>\n    </tr>\n    <tr>\n      <th>5536</th>\n      <td>False</td>\n      <td>NaN</td>\n      <td>25000000</td>\n      <td>[{'id': 35, 'name': 'Comedy'}, {'id': 18, 'nam...</td>\n      <td>NaN</td>\n      <td>8051</td>\n      <td>tt0272338</td>\n      <td>en</td>\n      <td>Punch-Drunk Love</td>\n      <td>A beleaguered small-business owner gets a harm...</td>\n      <td>...</td>\n      <td>2002-10-25</td>\n      <td>17,000,000.00</td>\n      <td>95.00</td>\n      <td>[{'iso_639_1': 'en', 'name': 'English'}]</td>\n      <td>Released</td>\n      <td>NaN</td>\n      <td>Punch-Drunk Love</td>\n      <td>False</td>\n      <td>6.90</td>\n      <td>542.00</td>\n    </tr>\n    <tr>\n      <th>21041</th>\n      <td>False</td>\n      <td>NaN</td>\n      <td>0</td>\n      <td>[{'id': 35, 'name': 'Comedy'}, {'id': 10749, '...</td>\n      <td>NaN</td>\n      <td>42714</td>\n      <td>tt0060112</td>\n      <td>en</td>\n      <td>Any Wednesday</td>\n      <td>Ellen Gordon, a New York executive's mistress ...</td>\n      <td>...</td>\n      <td>1966-10-13</td>\n      <td>0.00</td>\n      <td>109.00</td>\n      <td>[{'iso_639_1': 'en', 'name': 'English'}]</td>\n      <td>Released</td>\n      <td>It's got some new ideas about multiple dwelling!</td>\n      <td>Any Wednesday</td>\n      <td>False</td>\n      <td>6.10</td>\n      <td>5.00</td>\n    </tr>\n    <tr>\n      <th>38056</th>\n      <td>False</td>\n      <td>NaN</td>\n      <td>0</td>\n      <td>[]</td>\n      <td>NaN</td>\n      <td>191427</td>\n      <td>tt0002985</td>\n      <td>en</td>\n      <td>The House of Darkness</td>\n      <td>No Overview</td>\n      <td>...</td>\n      <td>1913-05-10</td>\n      <td>0.00</td>\n      <td>17.00</td>\n      <td>[]</td>\n      <td>Released</td>\n      <td>NaN</td>\n      <td>The House of Darkness</td>\n      <td>False</td>\n      <td>4.30</td>\n      <td>3.00</td>\n    </tr>\n    <tr>\n      <th>26835</th>\n      <td>False</td>\n      <td>NaN</td>\n      <td>0</td>\n      <td>[{'id': 14, 'name': 'Fantasy'}, {'id': 878, 'n...</td>\n      <td>NaN</td>\n      <td>16356</td>\n      <td>tt0310952</td>\n      <td>en</td>\n      <td>Riverworld</td>\n      <td>A movie for the Sci Fi Channel based on the bo...</td>\n      <td>...</td>\n      <td>2003-03-22</td>\n      <td>0.00</td>\n      <td>86.00</td>\n      <td>[{'iso_639_1': 'en', 'name': 'English'}]</td>\n      <td>Released</td>\n      <td>NaN</td>\n      <td>Riverworld</td>\n      <td>False</td>\n      <td>4.40</td>\n      <td>10.00</td>\n    </tr>\n    <tr>\n      <th>11860</th>\n      <td>False</td>\n      <td>NaN</td>\n      <td>0</td>\n      <td>[{'id': 9648, 'name': 'Mystery'}, {'id': 80, '...</td>\n      <td>http://www.paranoidpark.co.uk/</td>\n      <td>1990</td>\n      <td>tt0842929</td>\n      <td>en</td>\n      <td>Paranoid Park</td>\n      <td>The teenager and skateboarder Alex is intervie...</td>\n      <td>...</td>\n      <td>2007-05-21</td>\n      <td>486,021.00</td>\n      <td>85.00</td>\n      <td>[{'iso_639_1': 'en', 'name': 'English'}]</td>\n      <td>Released</td>\n      <td>Could you hide a deadly secret?</td>\n      <td>Paranoid Park</td>\n      <td>False</td>\n      <td>6.30</td>\n      <td>126.00</td>\n    </tr>\n    <tr>\n      <th>28215</th>\n      <td>False</td>\n      <td>NaN</td>\n      <td>0</td>\n      <td>[{'id': 18, 'name': 'Drama'}]</td>\n      <td>NaN</td>\n      <td>320003</td>\n      <td>tt2711898</td>\n      <td>fr</td>\n      <td>Journal d'une femme de chambre</td>\n      <td>France, around 1900. Coming from the vibrancy ...</td>\n      <td>...</td>\n      <td>2015-02-07</td>\n      <td>0.00</td>\n      <td>96.00</td>\n      <td>[{'iso_639_1': 'fr', 'name': 'Français'}]</td>\n      <td>Released</td>\n      <td>NaN</td>\n      <td>Diary of a Chambermaid</td>\n      <td>False</td>\n      <td>5.20</td>\n      <td>41.00</td>\n    </tr>\n    <tr>\n      <th>1157</th>\n      <td>False</td>\n      <td>NaN</td>\n      <td>15000000</td>\n      <td>[{'id': 35, 'name': 'Comedy'}, {'id': 878, 'na...</td>\n      <td>NaN</td>\n      <td>68</td>\n      <td>tt0088846</td>\n      <td>en</td>\n      <td>Brazil</td>\n      <td>Low-level bureaucrat Sam Lowry escapes the mon...</td>\n      <td>...</td>\n      <td>1985-02-20</td>\n      <td>0.00</td>\n      <td>132.00</td>\n      <td>[{'iso_639_1': 'en', 'name': 'English'}]</td>\n      <td>Released</td>\n      <td>It's only a state of mind.</td>\n      <td>Brazil</td>\n      <td>False</td>\n      <td>7.60</td>\n      <td>877.00</td>\n    </tr>\n    <tr>\n      <th>39330</th>\n      <td>False</td>\n      <td>NaN</td>\n      <td>0</td>\n      <td>[{'id': 99, 'name': 'Documentary'}]</td>\n      <td>http://www.dragbecomeshim.com/</td>\n      <td>338063</td>\n      <td>tt3593124</td>\n      <td>en</td>\n      <td>Drag Becomes Him</td>\n      <td>Drag Becomes Him provides an intimate glimpse ...</td>\n      <td>...</td>\n      <td>2015-04-29</td>\n      <td>0.00</td>\n      <td>82.00</td>\n      <td>[{'iso_639_1': 'en', 'name': 'English'}]</td>\n      <td>Released</td>\n      <td>NaN</td>\n      <td>Drag Becomes Him</td>\n      <td>False</td>\n      <td>8.00</td>\n      <td>1.00</td>\n    </tr>\n    <tr>\n      <th>15601</th>\n      <td>False</td>\n      <td>NaN</td>\n      <td>0</td>\n      <td>[{'id': 18, 'name': 'Drama'}, {'id': 35, 'name...</td>\n      <td>NaN</td>\n      <td>46011</td>\n      <td>tt0045592</td>\n      <td>en</td>\n      <td>Call Me Madam</td>\n      <td>Washington hostess Sally Adams becomes a Truma...</td>\n      <td>...</td>\n      <td>1953-03-25</td>\n      <td>0.00</td>\n      <td>114.00</td>\n      <td>[{'iso_639_1': 'en', 'name': 'English'}]</td>\n      <td>Released</td>\n      <td>NaN</td>\n      <td>Call Me Madam</td>\n      <td>False</td>\n      <td>8.50</td>\n      <td>2.00</td>\n    </tr>\n  </tbody>\n</table>\n<p>10 rows × 24 columns</p>\n</div>"
     },
     "metadata": {},
     "execution_count": 78
    }
   ],
   "source": [
    "# Examine our extracted data --------------------------------\n",
    "# Instead of using head() and tail() methods, we can use the sample(n=<# of values to pull>) method to randomly pull a number of values from the dataframe\n",
    "# Pull 10 values from the kaggle_metadata dataframe\n",
    "kaggle_metadata.sample(n=10)"
   ]
  },
  {
   "cell_type": "code",
   "execution_count": 79,
   "metadata": {},
   "outputs": [],
   "source": [
    "# Convert output of read_csv to DataFrame\n",
    "kaggle_metadata = pd.DataFrame(kaggle_metadata)"
   ]
  },
  {
   "cell_type": "code",
   "execution_count": 80,
   "metadata": {},
   "outputs": [
    {
     "output_type": "execute_result",
     "data": {
      "text/plain": [
       "['adult',\n",
       " 'belongs_to_collection',\n",
       " 'budget',\n",
       " 'genres',\n",
       " 'homepage',\n",
       " 'id',\n",
       " 'imdb_id',\n",
       " 'original_language',\n",
       " 'original_title',\n",
       " 'overview',\n",
       " 'popularity',\n",
       " 'poster_path',\n",
       " 'production_companies',\n",
       " 'production_countries',\n",
       " 'release_date',\n",
       " 'revenue',\n",
       " 'runtime',\n",
       " 'spoken_languages',\n",
       " 'status',\n",
       " 'tagline',\n",
       " 'title',\n",
       " 'video',\n",
       " 'vote_average',\n",
       " 'vote_count']"
      ]
     },
     "metadata": {},
     "execution_count": 80
    }
   ],
   "source": [
    "# Cast the dataframe's columns to a list to inspect\n",
    "kaggle_metadata.columns.tolist()"
   ]
  },
  {
   "cell_type": "code",
   "execution_count": 81,
   "metadata": {},
   "outputs": [],
   "source": [
    "# Planning our ETL pipeline\n",
    "# 1. Inspect\n",
    "# 2. Plan\n",
    "# 3. Execute\n",
    "\n",
    "# We want to slim down the number of columns in the above dataframe to a more manageable and RELEVANT number"
   ]
  },
  {
   "cell_type": "code",
   "execution_count": 82,
   "metadata": {},
   "outputs": [
    {
     "output_type": "execute_result",
     "data": {
      "text/plain": [
       "adult                     object\n",
       "belongs_to_collection     object\n",
       "budget                    object\n",
       "genres                    object\n",
       "homepage                  object\n",
       "id                        object\n",
       "imdb_id                   object\n",
       "original_language         object\n",
       "original_title            object\n",
       "overview                  object\n",
       "popularity                object\n",
       "poster_path               object\n",
       "production_companies      object\n",
       "production_countries      object\n",
       "release_date              object\n",
       "revenue                  float64\n",
       "runtime                  float64\n",
       "spoken_languages          object\n",
       "status                    object\n",
       "tagline                   object\n",
       "title                     object\n",
       "video                     object\n",
       "vote_average             float64\n",
       "vote_count               float64\n",
       "dtype: object"
      ]
     },
     "metadata": {},
     "execution_count": 82
    }
   ],
   "source": [
    "kaggle_metadata.dtypes"
   ]
  },
  {
   "cell_type": "code",
   "execution_count": 83,
   "metadata": {},
   "outputs": [],
   "source": [
    "# Convert discrepant data types:\n",
    "# video: Boolean\n",
    "# budget: numeric\n",
    "# id: numeric\n",
    "# release_date: datetime\n",
    "# popularity: numeric\n",
    "# adult: Boolean\n"
   ]
  },
  {
   "cell_type": "code",
   "execution_count": 84,
   "metadata": {},
   "outputs": [
    {
     "output_type": "execute_result",
     "data": {
      "text/plain": [
       "False                                                                                                                             45454\n",
       "True                                                                                                                                  9\n",
       " - Written by Ørnås                                                                                                                   1\n",
       " Avalanche Sharks tells the story of a bikini contest that turns into a horrifying affair when it is hit by a shark avalanche.        1\n",
       " Rune Balot goes to a casino connected to the October corporation to try to wrap up her case once and for all.                        1\n",
       "Name: adult, dtype: int64"
      ]
     },
     "metadata": {},
     "execution_count": 84
    }
   ],
   "source": [
    "# Tackle Adult column:\n",
    "\n",
    "# Check data\n",
    "kaggle_metadata['adult'].value_counts()"
   ]
  },
  {
   "cell_type": "code",
   "execution_count": 85,
   "metadata": {},
   "outputs": [
    {
     "output_type": "execute_result",
     "data": {
      "text/plain": [
       "                                                   adult  \\\n",
       "19730                                 - Written by Ørnås   \n",
       "29503   Rune Balot goes to a casino connected to the ...   \n",
       "35587   Avalanche Sharks tells the story of a bikini ...   \n",
       "\n",
       "      belongs_to_collection                            budget  \\\n",
       "19730              0.065736  /ff9qCepilowshEtG2GYWwzt2bs4.jpg   \n",
       "29503              1.931659  /zV8bHuSL6WXoD6FWogP9j4x80bL.jpg   \n",
       "35587              2.185485  /zaSf5OG7V8X8gqFvly88zDdRm46.jpg   \n",
       "\n",
       "                                                  genres  \\\n",
       "19730  [{'name': 'Carousel Productions', 'id': 11176}...   \n",
       "29503  [{'name': 'Aniplex', 'id': 2883}, {'name': 'Go...   \n",
       "35587  [{'name': 'Odyssey Media', 'id': 17161}, {'nam...   \n",
       "\n",
       "                                                homepage          id imdb_id  \\\n",
       "19730  [{'iso_3166_1': 'CA', 'name': 'Canada'}, {'iso...  1997-08-20       0   \n",
       "29503  [{'iso_3166_1': 'US', 'name': 'United States o...  2012-09-29       0   \n",
       "35587           [{'iso_3166_1': 'CA', 'name': 'Canada'}]  2014-01-01       0   \n",
       "\n",
       "      original_language                            original_title  overview  \\\n",
       "19730             104.0  [{'iso_639_1': 'en', 'name': 'English'}]  Released   \n",
       "29503              68.0      [{'iso_639_1': 'ja', 'name': '日本語'}]  Released   \n",
       "35587              82.0  [{'iso_639_1': 'en', 'name': 'English'}]  Released   \n",
       "\n",
       "       ... release_date              revenue              runtime  \\\n",
       "19730  ...            1                  nan                  nan   \n",
       "29503  ...           12                  nan                  nan   \n",
       "35587  ...           22                  nan                  nan   \n",
       "\n",
       "      spoken_languages status  tagline  title video         vote_average  \\\n",
       "19730              NaN    NaN      NaN    NaN   NaN                  nan   \n",
       "29503              NaN    NaN      NaN    NaN   NaN                  nan   \n",
       "35587              NaN    NaN      NaN    NaN   NaN                  nan   \n",
       "\n",
       "                vote_count  \n",
       "19730                  nan  \n",
       "29503                  nan  \n",
       "35587                  nan  \n",
       "\n",
       "[3 rows x 24 columns]"
      ],
      "text/html": "<div>\n<style scoped>\n    .dataframe tbody tr th:only-of-type {\n        vertical-align: middle;\n    }\n\n    .dataframe tbody tr th {\n        vertical-align: top;\n    }\n\n    .dataframe thead th {\n        text-align: right;\n    }\n</style>\n<table border=\"1\" class=\"dataframe\">\n  <thead>\n    <tr style=\"text-align: right;\">\n      <th></th>\n      <th>adult</th>\n      <th>belongs_to_collection</th>\n      <th>budget</th>\n      <th>genres</th>\n      <th>homepage</th>\n      <th>id</th>\n      <th>imdb_id</th>\n      <th>original_language</th>\n      <th>original_title</th>\n      <th>overview</th>\n      <th>...</th>\n      <th>release_date</th>\n      <th>revenue</th>\n      <th>runtime</th>\n      <th>spoken_languages</th>\n      <th>status</th>\n      <th>tagline</th>\n      <th>title</th>\n      <th>video</th>\n      <th>vote_average</th>\n      <th>vote_count</th>\n    </tr>\n  </thead>\n  <tbody>\n    <tr>\n      <th>19730</th>\n      <td>- Written by Ørnås</td>\n      <td>0.065736</td>\n      <td>/ff9qCepilowshEtG2GYWwzt2bs4.jpg</td>\n      <td>[{'name': 'Carousel Productions', 'id': 11176}...</td>\n      <td>[{'iso_3166_1': 'CA', 'name': 'Canada'}, {'iso...</td>\n      <td>1997-08-20</td>\n      <td>0</td>\n      <td>104.0</td>\n      <td>[{'iso_639_1': 'en', 'name': 'English'}]</td>\n      <td>Released</td>\n      <td>...</td>\n      <td>1</td>\n      <td>nan</td>\n      <td>nan</td>\n      <td>NaN</td>\n      <td>NaN</td>\n      <td>NaN</td>\n      <td>NaN</td>\n      <td>NaN</td>\n      <td>nan</td>\n      <td>nan</td>\n    </tr>\n    <tr>\n      <th>29503</th>\n      <td>Rune Balot goes to a casino connected to the ...</td>\n      <td>1.931659</td>\n      <td>/zV8bHuSL6WXoD6FWogP9j4x80bL.jpg</td>\n      <td>[{'name': 'Aniplex', 'id': 2883}, {'name': 'Go...</td>\n      <td>[{'iso_3166_1': 'US', 'name': 'United States o...</td>\n      <td>2012-09-29</td>\n      <td>0</td>\n      <td>68.0</td>\n      <td>[{'iso_639_1': 'ja', 'name': '日本語'}]</td>\n      <td>Released</td>\n      <td>...</td>\n      <td>12</td>\n      <td>nan</td>\n      <td>nan</td>\n      <td>NaN</td>\n      <td>NaN</td>\n      <td>NaN</td>\n      <td>NaN</td>\n      <td>NaN</td>\n      <td>nan</td>\n      <td>nan</td>\n    </tr>\n    <tr>\n      <th>35587</th>\n      <td>Avalanche Sharks tells the story of a bikini ...</td>\n      <td>2.185485</td>\n      <td>/zaSf5OG7V8X8gqFvly88zDdRm46.jpg</td>\n      <td>[{'name': 'Odyssey Media', 'id': 17161}, {'nam...</td>\n      <td>[{'iso_3166_1': 'CA', 'name': 'Canada'}]</td>\n      <td>2014-01-01</td>\n      <td>0</td>\n      <td>82.0</td>\n      <td>[{'iso_639_1': 'en', 'name': 'English'}]</td>\n      <td>Released</td>\n      <td>...</td>\n      <td>22</td>\n      <td>nan</td>\n      <td>nan</td>\n      <td>NaN</td>\n      <td>NaN</td>\n      <td>NaN</td>\n      <td>NaN</td>\n      <td>NaN</td>\n      <td>nan</td>\n      <td>nan</td>\n    </tr>\n  </tbody>\n</table>\n<p>3 rows × 24 columns</p>\n</div>"
     },
     "metadata": {},
     "execution_count": 85
    }
   ],
   "source": [
    "# Clean data\n",
    "# The following uses Pandas boolean operator ~ (aka all values that are False for .isin(['True','False']), or values that aren't True or False)\n",
    "kaggle_metadata[~kaggle_metadata['adult'].isin(['True','False'])]\n"
   ]
  },
  {
   "cell_type": "code",
   "execution_count": 86,
   "metadata": {},
   "outputs": [],
   "source": [
    "# Since we don't want to include Adult movies in our HACKATHON dataset, we should keep rows where Adult is False, and drop all True rows\n",
    "kaggle_metadata = kaggle_metadata[kaggle_metadata['adult'] == 'False'].drop('adult',axis='columns')\n"
   ]
  },
  {
   "cell_type": "code",
   "execution_count": 87,
   "metadata": {},
   "outputs": [
    {
     "output_type": "execute_result",
     "data": {
      "text/plain": [
       "False    45358\n",
       "True        93\n",
       "Name: video, dtype: int64"
      ]
     },
     "metadata": {},
     "execution_count": 87
    }
   ],
   "source": [
    "# Check values of the video column\n",
    "kaggle_metadata['video'].value_counts()\n"
   ]
  },
  {
   "cell_type": "code",
   "execution_count": 88,
   "metadata": {},
   "outputs": [],
   "source": [
    "# This data is clean!\n",
    "# Since we're using the == Boolean comparator, we can automatically convert this string-Boolean column into a Boolean column\n",
    "# All values that equal the string 'True' will return the Boolean True\n",
    "# All else will be false\n",
    "# Convert, and reassign this to the 'video' column\n",
    "kaggle_metadata['video'] = kaggle_metadata['video'] == 'True'"
   ]
  },
  {
   "cell_type": "code",
   "execution_count": 89,
   "metadata": {},
   "outputs": [],
   "source": [
    "# Convert remaining data types\n",
    "\n",
    "# Convert budget to integer\n",
    "kaggle_metadata['budget'] = kaggle_metadata['budget'].astype(int)\n",
    "# Using to_numeric() method ['id']; if data cannot be converted to a number, use the errors='raise' argument to raise an error\n",
    "kaggle_metadata['id'] = pd.to_numeric(kaggle_metadata['id'], errors='raise')\n",
    "kaggle_metadata['popularity'] = pd.to_numeric(kaggle_metadata['popularity'], errors='raise')"
   ]
  },
  {
   "cell_type": "code",
   "execution_count": 90,
   "metadata": {},
   "outputs": [],
   "source": [
    "# Convert release_date to datetime\n",
    "kaggle_metadata['release_date'] = pd.to_datetime(kaggle_metadata['release_date'])\n"
   ]
  },
  {
   "cell_type": "code",
   "execution_count": 91,
   "metadata": {},
   "outputs": [
    {
     "output_type": "stream",
     "name": "stdout",
     "text": [
      "<class 'pandas.core.frame.DataFrame'>\nRangeIndex: 26024289 entries, 0 to 26024288\nData columns (total 4 columns):\n #   Column     Non-Null Count     Dtype  \n---  ------     --------------     -----  \n 0   userId     26024289 non-null  int64  \n 1   movieId    26024289 non-null  int64  \n 2   rating     26024289 non-null  float64\n 3   timestamp  26024289 non-null  int64  \ndtypes: float64(1), int64(3)\nmemory usage: 794.2 MB\n"
     ]
    }
   ],
   "source": [
    "# Reasonability checks on ratings data -------------------\n",
    "# Examine the ratings data\n",
    "# .info() method returns summary data on a dataframe\n",
    "ratings.info(null_counts=True)"
   ]
  },
  {
   "cell_type": "code",
   "execution_count": 92,
   "metadata": {},
   "outputs": [
    {
     "output_type": "execute_result",
     "data": {
      "text/plain": [
       "0          2015-03-09 22:52:09\n",
       "1          2015-03-09 23:07:15\n",
       "2          2015-03-09 22:52:03\n",
       "3          2015-03-09 22:52:26\n",
       "4          2015-03-09 22:52:36\n",
       "                   ...        \n",
       "26024284   2009-10-31 23:26:04\n",
       "26024285   2009-10-31 23:33:52\n",
       "26024286   2009-10-31 23:29:24\n",
       "26024287   2009-11-01 00:06:30\n",
       "26024288   2009-10-31 23:30:58\n",
       "Name: timestamp, Length: 26024289, dtype: datetime64[ns]"
      ]
     },
     "metadata": {},
     "execution_count": 92
    }
   ],
   "source": [
    "# Convert timestamp to the datetime format, specifically unix (seconds since epoch)\n",
    "# use the pd.to_dateimte() method\n",
    "\n",
    "pd.to_datetime(ratings['timestamp'], unit='s')\n",
    "\n",
    "# Examine the data"
   ]
  },
  {
   "cell_type": "code",
   "execution_count": 93,
   "metadata": {},
   "outputs": [],
   "source": [
    "# Reassign the newly formatted timestamp column\n",
    "ratings['timestamp'] = pd.to_datetime(ratings['timestamp'], unit='s')\n"
   ]
  },
  {
   "cell_type": "code",
   "execution_count": 94,
   "metadata": {},
   "outputs": [
    {
     "output_type": "execute_result",
     "data": {
      "text/plain": [
       "count          26,024,289.00\n",
       "mean                    3.53\n",
       "std                     1.07\n",
       "min                     0.50\n",
       "25%                     3.00\n",
       "50%                     3.50\n",
       "75%                     4.00\n",
       "max                     5.00\n",
       "Name: rating, dtype: float64"
      ]
     },
     "metadata": {},
     "execution_count": 94
    }
   ],
   "source": [
    "# Examine the rating data for outliers and dirty data using the .describe() method, following by reporting to a histogram\n",
    "\n",
    "# Format our description output to 2 decimals\n",
    "pd.options.display.float_format = '{:20,.2f}'.format\n",
    "# Plot our Series into a histogram\n",
    "ratings['rating'].plot(kind='hist')\n",
    "# Print descriptive statistics\n",
    "ratings['rating'].describe()"
   ]
  },
  {
   "cell_type": "code",
   "execution_count": 95,
   "metadata": {},
   "outputs": [],
   "source": [
    "# Combine Wikipedia and Kaggle datasets ------------\n",
    "\n",
    "# Since both data share the imdb_id column, we will use this as a PRIMARY KEY and perform an INNER JOIN (merge) on this\n",
    "# Check for redundant columns; by using the suffixes=[] argument, we can append suffixes to the columns taken from both datasets that share a name\n",
    "movies_df = pd.merge(wiki_movies_df, kaggle_metadata, on='imdb_id', suffixes=['_wiki','_kaggle'])\n",
    "\n",
    "\n"
   ]
  },
  {
   "cell_type": "code",
   "execution_count": 96,
   "metadata": {},
   "outputs": [
    {
     "output_type": "execute_result",
     "data": {
      "text/plain": [
       "['Unnamed: 0',\n",
       " 'url',\n",
       " 'year',\n",
       " 'imdb_link',\n",
       " 'title_wiki',\n",
       " 'Based on',\n",
       " 'Starring',\n",
       " 'Cinematography',\n",
       " 'Running time',\n",
       " 'Country',\n",
       " 'Language',\n",
       " 'Director',\n",
       " 'Distributor',\n",
       " 'Editor(s)',\n",
       " 'Composer(s)',\n",
       " 'Producer(s)',\n",
       " 'Production company(s)',\n",
       " 'Writer(s)',\n",
       " 'imdb_id',\n",
       " 'box_office',\n",
       " 'budget_wiki',\n",
       " 'release_date_wiki',\n",
       " 'running_time',\n",
       " 'belongs_to_collection',\n",
       " 'budget_kaggle',\n",
       " 'genres',\n",
       " 'homepage',\n",
       " 'id',\n",
       " 'original_language',\n",
       " 'original_title',\n",
       " 'overview',\n",
       " 'popularity',\n",
       " 'poster_path',\n",
       " 'production_companies',\n",
       " 'production_countries',\n",
       " 'release_date_kaggle',\n",
       " 'revenue',\n",
       " 'runtime',\n",
       " 'spoken_languages',\n",
       " 'status',\n",
       " 'tagline',\n",
       " 'title_kaggle',\n",
       " 'video',\n",
       " 'vote_average',\n",
       " 'vote_count']"
      ]
     },
     "metadata": {},
     "execution_count": 96
    }
   ],
   "source": [
    "# Check which columns are duplicated in both datasets\n",
    "movies_df.columns.to_list()"
   ]
  },
  {
   "cell_type": "code",
   "execution_count": 97,
   "metadata": {},
   "outputs": [],
   "source": [
    "# Documenting data merging resolutions\n",
    "# This is important for sharing your analysis -if we make decisions re: dropping data etc, we should have this documented clearly\n",
    "\n",
    "# Competing data:\n",
    "# Wiki                     Movielens                Resolution\n",
    "#--------------------------------------------------------------------------\n",
    "# title_wiki               title_kaggle             Drop Wiki\n",
    "# running_time             runtime                  Keep Kaggle, replace 0 values with Wiki\n",
    "# budget_wiki              budget_kaggle            Keep Kaggle, replace 0 values with Wiki\n",
    "# box_office               revenue                  Keep Kaggle, replace 0 values with Wiki\n",
    "# release_date_wiki        release_date_kaggle      Drop Wiki\n",
    "# Language                 original_language        Drop Wiki\n",
    "# Production company(s)    production_companies     Drop Wiki"
   ]
  },
  {
   "cell_type": "code",
   "execution_count": 98,
   "metadata": {},
   "outputs": [
    {
     "output_type": "execute_result",
     "data": {
      "text/plain": [
       "                           title_wiki                     title_kaggle\n",
       "0     The Adventures of Ford Fairlane  The Adventures of Ford Fairlane\n",
       "1                After Dark, My Sweet             After Dark, My Sweet\n",
       "2                         Air America                      Air America\n",
       "3                               Alice                            Alice\n",
       "4                     Almost an Angel                  Almost an Angel\n",
       "...                               ...                              ...\n",
       "6072                A Fantastic Woman                A Fantastic Woman\n",
       "6073                       Permission                       Permission\n",
       "6074                         Loveless                         Loveless\n",
       "6075                           Gemini                           Gemini\n",
       "6076  How to Talk to Girls at Parties  How to Talk to Girls at Parties\n",
       "\n",
       "[6077 rows x 2 columns]"
      ],
      "text/html": "<div>\n<style scoped>\n    .dataframe tbody tr th:only-of-type {\n        vertical-align: middle;\n    }\n\n    .dataframe tbody tr th {\n        vertical-align: top;\n    }\n\n    .dataframe thead th {\n        text-align: right;\n    }\n</style>\n<table border=\"1\" class=\"dataframe\">\n  <thead>\n    <tr style=\"text-align: right;\">\n      <th></th>\n      <th>title_wiki</th>\n      <th>title_kaggle</th>\n    </tr>\n  </thead>\n  <tbody>\n    <tr>\n      <th>0</th>\n      <td>The Adventures of Ford Fairlane</td>\n      <td>The Adventures of Ford Fairlane</td>\n    </tr>\n    <tr>\n      <th>1</th>\n      <td>After Dark, My Sweet</td>\n      <td>After Dark, My Sweet</td>\n    </tr>\n    <tr>\n      <th>2</th>\n      <td>Air America</td>\n      <td>Air America</td>\n    </tr>\n    <tr>\n      <th>3</th>\n      <td>Alice</td>\n      <td>Alice</td>\n    </tr>\n    <tr>\n      <th>4</th>\n      <td>Almost an Angel</td>\n      <td>Almost an Angel</td>\n    </tr>\n    <tr>\n      <th>...</th>\n      <td>...</td>\n      <td>...</td>\n    </tr>\n    <tr>\n      <th>6072</th>\n      <td>A Fantastic Woman</td>\n      <td>A Fantastic Woman</td>\n    </tr>\n    <tr>\n      <th>6073</th>\n      <td>Permission</td>\n      <td>Permission</td>\n    </tr>\n    <tr>\n      <th>6074</th>\n      <td>Loveless</td>\n      <td>Loveless</td>\n    </tr>\n    <tr>\n      <th>6075</th>\n      <td>Gemini</td>\n      <td>Gemini</td>\n    </tr>\n    <tr>\n      <th>6076</th>\n      <td>How to Talk to Girls at Parties</td>\n      <td>How to Talk to Girls at Parties</td>\n    </tr>\n  </tbody>\n</table>\n<p>6077 rows × 2 columns</p>\n</div>"
     },
     "metadata": {},
     "execution_count": 98
    }
   ],
   "source": [
    "# Inspect both title columns to see how the data aligns\n",
    "movies_df[['title_wiki','title_kaggle']]\n"
   ]
  },
  {
   "cell_type": "code",
   "execution_count": 99,
   "metadata": {},
   "outputs": [
    {
     "output_type": "execute_result",
     "data": {
      "text/plain": [
       "                                           title_wiki  \\\n",
       "27                                          China Cry   \n",
       "36               Daddy's Dyin' ...Who's Got the Will?   \n",
       "38                                                NaN   \n",
       "39                                                NaN   \n",
       "40                                                NaN   \n",
       "...                                               ...   \n",
       "5981                                            Chips   \n",
       "5996                                            Spark   \n",
       "6019  Pirates of the Caribbean:Dead Men Tell No Tales   \n",
       "6048       Valerian and the Cityof a Thousand Planets   \n",
       "6053            An Inconvenient Sequel:Truth to Power   \n",
       "\n",
       "                                           title_kaggle  \n",
       "27                              China Cry: A True Story  \n",
       "36                 Daddy's Dyin'... Who's Got the Will?  \n",
       "38                                             Delusion  \n",
       "39                                                 Show  \n",
       "40    How I Unleashed World War II Part III: Among F...  \n",
       "...                                                 ...  \n",
       "5981                                              CHiPS  \n",
       "5996                                Spark: A Space Tail  \n",
       "6019   Pirates of the Caribbean: Dead Men Tell No Tales  \n",
       "6048        Valerian and the City of a Thousand Planets  \n",
       "6053             An Inconvenient Sequel: Truth to Power  \n",
       "\n",
       "[460 rows x 2 columns]"
      ],
      "text/html": "<div>\n<style scoped>\n    .dataframe tbody tr th:only-of-type {\n        vertical-align: middle;\n    }\n\n    .dataframe tbody tr th {\n        vertical-align: top;\n    }\n\n    .dataframe thead th {\n        text-align: right;\n    }\n</style>\n<table border=\"1\" class=\"dataframe\">\n  <thead>\n    <tr style=\"text-align: right;\">\n      <th></th>\n      <th>title_wiki</th>\n      <th>title_kaggle</th>\n    </tr>\n  </thead>\n  <tbody>\n    <tr>\n      <th>27</th>\n      <td>China Cry</td>\n      <td>China Cry: A True Story</td>\n    </tr>\n    <tr>\n      <th>36</th>\n      <td>Daddy's Dyin' ...Who's Got the Will?</td>\n      <td>Daddy's Dyin'... Who's Got the Will?</td>\n    </tr>\n    <tr>\n      <th>38</th>\n      <td>NaN</td>\n      <td>Delusion</td>\n    </tr>\n    <tr>\n      <th>39</th>\n      <td>NaN</td>\n      <td>Show</td>\n    </tr>\n    <tr>\n      <th>40</th>\n      <td>NaN</td>\n      <td>How I Unleashed World War II Part III: Among F...</td>\n    </tr>\n    <tr>\n      <th>...</th>\n      <td>...</td>\n      <td>...</td>\n    </tr>\n    <tr>\n      <th>5981</th>\n      <td>Chips</td>\n      <td>CHiPS</td>\n    </tr>\n    <tr>\n      <th>5996</th>\n      <td>Spark</td>\n      <td>Spark: A Space Tail</td>\n    </tr>\n    <tr>\n      <th>6019</th>\n      <td>Pirates of the Caribbean:Dead Men Tell No Tales</td>\n      <td>Pirates of the Caribbean: Dead Men Tell No Tales</td>\n    </tr>\n    <tr>\n      <th>6048</th>\n      <td>Valerian and the Cityof a Thousand Planets</td>\n      <td>Valerian and the City of a Thousand Planets</td>\n    </tr>\n    <tr>\n      <th>6053</th>\n      <td>An Inconvenient Sequel:Truth to Power</td>\n      <td>An Inconvenient Sequel: Truth to Power</td>\n    </tr>\n  </tbody>\n</table>\n<p>460 rows × 2 columns</p>\n</div>"
     },
     "metadata": {},
     "execution_count": 99
    }
   ],
   "source": [
    "# Return only rows in which both title columns do not match\n",
    "# Note the first index set returns only the rows where values do not match; the second [] index returns only the title columns from the newly created dataframe\n",
    "movies_df[movies_df['title_wiki'] != movies_df['title_kaggle']][['title_wiki','title_kaggle']]\n"
   ]
  },
  {
   "cell_type": "code",
   "execution_count": 100,
   "metadata": {},
   "outputs": [
    {
     "output_type": "execute_result",
     "data": {
      "text/plain": [
       "Empty DataFrame\n",
       "Columns: [Unnamed: 0, url, year, imdb_link, title_wiki, Based on, Starring, Cinematography, Running time, Country, Language, Director, Distributor, Editor(s), Composer(s), Producer(s), Production company(s), Writer(s), imdb_id, box_office, budget_wiki, release_date_wiki, running_time, belongs_to_collection, budget_kaggle, genres, homepage, id, original_language, original_title, overview, popularity, poster_path, production_companies, production_countries, release_date_kaggle, revenue, runtime, spoken_languages, status, tagline, title_kaggle, video, vote_average, vote_count]\n",
       "Index: []\n",
       "\n",
       "[0 rows x 45 columns]"
      ],
      "text/html": "<div>\n<style scoped>\n    .dataframe tbody tr th:only-of-type {\n        vertical-align: middle;\n    }\n\n    .dataframe tbody tr th {\n        vertical-align: top;\n    }\n\n    .dataframe thead th {\n        text-align: right;\n    }\n</style>\n<table border=\"1\" class=\"dataframe\">\n  <thead>\n    <tr style=\"text-align: right;\">\n      <th></th>\n      <th>Unnamed: 0</th>\n      <th>url</th>\n      <th>year</th>\n      <th>imdb_link</th>\n      <th>title_wiki</th>\n      <th>Based on</th>\n      <th>Starring</th>\n      <th>Cinematography</th>\n      <th>Running time</th>\n      <th>Country</th>\n      <th>...</th>\n      <th>release_date_kaggle</th>\n      <th>revenue</th>\n      <th>runtime</th>\n      <th>spoken_languages</th>\n      <th>status</th>\n      <th>tagline</th>\n      <th>title_kaggle</th>\n      <th>video</th>\n      <th>vote_average</th>\n      <th>vote_count</th>\n    </tr>\n  </thead>\n  <tbody>\n  </tbody>\n</table>\n<p>0 rows × 45 columns</p>\n</div>"
     },
     "metadata": {},
     "execution_count": 100
    }
   ],
   "source": [
    "# Show any rows where title_kaggle is empty\n",
    "movies_df[(movies_df['title_kaggle'] == '') | (movies_df['title_kaggle'].isnull())]"
   ]
  },
  {
   "cell_type": "code",
   "execution_count": 101,
   "metadata": {},
   "outputs": [],
   "source": [
    "# Since there are no rows that title_kaggle is empty, we can assume the Kaggle data is higher resolution than wikipedia data and subsequently drop the title_wiki column\n",
    "\n",
    "# DECISION & DOCUMENT: Drop Wiki data\n",
    "movies_df.drop('title_wiki', axis=1, inplace=True)"
   ]
  },
  {
   "cell_type": "code",
   "execution_count": 102,
   "metadata": {},
   "outputs": [
    {
     "output_type": "display_data",
     "data": {
      "text/plain": "Canvas(toolbar=Toolbar(toolitems=[('Home', 'Reset original view', 'home', 'home'), ('Back', 'Back to previous …",
      "application/vnd.jupyter.widget-view+json": {
       "version_major": 2,
       "version_minor": 0,
       "model_id": "a0bf66c0f65b4ee6b716677d9641d6b1"
      }
     },
     "metadata": {}
    },
    {
     "output_type": "execute_result",
     "data": {
      "text/plain": [
       "<AxesSubplot:xlabel='running_time', ylabel='runtime'>"
      ]
     },
     "metadata": {},
     "execution_count": 102
    }
   ],
   "source": [
    "# Runtime vs running_time\n",
    "\n",
    "# If we create a scatter plot of runtime vs running_time, we can expect that, if the columns were equal, we would have a perfectly straight line where y = x\n",
    "# Deviations from this straight line indicate missing or discordant data in one of the datasets\n",
    "\n",
    "# We fill NaN values with 0 and plot our columns\n",
    "movies_df.fillna(0).plot(x='running_time', y='runtime', kind='scatter')\n",
    "\n",
    "# DECISION & DOCUMENT: Keep Kaggle data, replace missing values with Wiki data"
   ]
  },
  {
   "cell_type": "code",
   "execution_count": 103,
   "metadata": {},
   "outputs": [
    {
     "output_type": "display_data",
     "data": {
      "text/plain": "Canvas(toolbar=Toolbar(toolitems=[('Home', 'Reset original view', 'home', 'home'), ('Back', 'Back to previous …",
      "application/vnd.jupyter.widget-view+json": {
       "version_major": 2,
       "version_minor": 0,
       "model_id": "b61415baa55b4c4a9a82e77570a5d315"
      }
     },
     "metadata": {}
    },
    {
     "output_type": "execute_result",
     "data": {
      "text/plain": [
       "<AxesSubplot:xlabel='budget_wiki', ylabel='budget_kaggle'>"
      ]
     },
     "metadata": {},
     "execution_count": 103
    }
   ],
   "source": [
    "# budget_wiki and budget_kaggle\n",
    "\n",
    "# Create another scatter plot to compare values\n",
    "movies_df.fillna(0).plot(x='budget_wiki',y='budget_kaggle', kind='scatter')\n"
   ]
  },
  {
   "cell_type": "code",
   "execution_count": 104,
   "metadata": {},
   "outputs": [
    {
     "output_type": "execute_result",
     "data": {
      "text/plain": [
       "'\\nWhich dataset seems to have more outliers?\\nWhich dataset seems to have more missing data points?\\nIf we were to fill in the missing data points of one set with the other, which would be more likely to give us consistent data?\\nIs it better to start with a base of consistent data and fill in missing points with possible outliers? Or is it better to start with a base of data with outliers and fill in missing points with more consistent data?\\n'"
      ]
     },
     "metadata": {},
     "execution_count": 104
    }
   ],
   "source": [
    "# Questions to consider:\n",
    "'''\n",
    "Which dataset seems to have more outliers?\n",
    "Which dataset seems to have more missing data points?\n",
    "If we were to fill in the missing data points of one set with the other, which would be more likely to give us consistent data?\n",
    "Is it better to start with a base of consistent data and fill in missing points with possible outliers? Or is it better to start with a base of data with outliers and fill in missing points with more consistent data?\n",
    "'''\n",
    "# DECISION & DOCUMENT: Wikipedia data has more outliers and Kaggle data looks more complete; we can use Kaggle data and fill 0s with Wikipedia data\n"
   ]
  },
  {
   "cell_type": "code",
   "execution_count": 105,
   "metadata": {},
   "outputs": [
    {
     "output_type": "display_data",
     "data": {
      "text/plain": "Canvas(toolbar=Toolbar(toolitems=[('Home', 'Reset original view', 'home', 'home'), ('Back', 'Back to previous …",
      "application/vnd.jupyter.widget-view+json": {
       "version_major": 2,
       "version_minor": 0,
       "model_id": "f949edc4543047bc8ba8b2bdc07b44ce"
      }
     },
     "metadata": {}
    },
    {
     "output_type": "execute_result",
     "data": {
      "text/plain": [
       "<AxesSubplot:xlabel='box_office', ylabel='revenue'>"
      ]
     },
     "metadata": {},
     "execution_count": 105
    }
   ],
   "source": [
    "# box_office and revenue\n",
    "# Use another scatter plot\n",
    "\n",
    "movies_df.fillna(0).plot(x='box_office', y='revenue', kind='scatter')\n",
    "\n"
   ]
  },
  {
   "cell_type": "code",
   "execution_count": 106,
   "metadata": {},
   "outputs": [
    {
     "output_type": "display_data",
     "data": {
      "text/plain": "Canvas(toolbar=Toolbar(toolitems=[('Home', 'Reset original view', 'home', 'home'), ('Back', 'Back to previous …",
      "application/vnd.jupyter.widget-view+json": {
       "version_major": 2,
       "version_minor": 0,
       "model_id": "4be1c7bb216e423891fed04171a02f22"
      }
     },
     "metadata": {}
    },
    {
     "output_type": "execute_result",
     "data": {
      "text/plain": [
       "<AxesSubplot:xlabel='box_office', ylabel='revenue'>"
      ]
     },
     "metadata": {},
     "execution_count": 106
    }
   ],
   "source": [
    "# Graph is protracted due to the large >2.5 bil datapoint\n",
    "# Replace NaN values with 0 and return values less than 1 billion to increase resolution of majority of datapoints\n",
    "movies_df.fillna(0)[movies_df['box_office'] < 10**9].plot(x='box_office', y='revenue', kind='scatter')"
   ]
  },
  {
   "cell_type": "code",
   "execution_count": 107,
   "metadata": {},
   "outputs": [],
   "source": [
    "# DECISION & DOCUMENT: Wikipedia looks like it has more outliers, so use Kaggle data and fill 0 values with Wikipedia data"
   ]
  },
  {
   "cell_type": "code",
   "execution_count": 108,
   "metadata": {},
   "outputs": [
    {
     "output_type": "display_data",
     "data": {
      "text/plain": "Canvas(toolbar=Toolbar(toolitems=[('Home', 'Reset original view', 'home', 'home'), ('Back', 'Back to previous …",
      "application/vnd.jupyter.widget-view+json": {
       "version_major": 2,
       "version_minor": 0,
       "model_id": "8a6e7d0f1094476498285fa190a2f713"
      }
     },
     "metadata": {}
    },
    {
     "output_type": "execute_result",
     "data": {
      "text/plain": [
       "<AxesSubplot:xlabel='release_date_wiki'>"
      ]
     },
     "metadata": {},
     "execution_count": 108
    }
   ],
   "source": [
    "# release_date_wiki and release_date_kaggle\n",
    "\n",
    "# Since release date time is in datetime format, so we can't use a scatter plot to plot these\n",
    "# Instead, a line plot can be converted to use dots as the style using style='.' with the plot() method\n",
    "\n",
    "movies_df[['release_date_wiki','release_date_kaggle']].plot(x='release_date_wiki', y='release_date_kaggle', style='.')\n",
    "\n",
    "\n"
   ]
  },
  {
   "cell_type": "code",
   "execution_count": 109,
   "metadata": {},
   "outputs": [
    {
     "output_type": "execute_result",
     "data": {
      "text/plain": [
       "      Unnamed: 0                                        url  \\\n",
       "3631        4246  https://en.wikipedia.org/wiki/The_Holiday   \n",
       "\n",
       "                     year                               imdb_link Based on  \\\n",
       "3631             2,006.00  https://www.imdb.com/title/tt00457939/      NaN   \n",
       "\n",
       "                                               Starring Cinematography  \\\n",
       "3631  ['Kate Winslet', 'Cameron Diaz', 'Jude Law', '...    Dean Cundey   \n",
       "\n",
       "     Running time        Country Language  ... release_date_kaggle  \\\n",
       "3631  136 minutes  United States  English  ...          1953-08-28   \n",
       "\n",
       "                  revenue              runtime  \\\n",
       "3631        30,500,000.00               118.00   \n",
       "\n",
       "                              spoken_languages    status  \\\n",
       "3631  [{'iso_639_1': 'en', 'name': 'English'}]  Released   \n",
       "\n",
       "                                                tagline  \\\n",
       "3631  Pouring out of impassioned pages...brawling th...   \n",
       "\n",
       "               title_kaggle  video         vote_average           vote_count  \n",
       "3631  From Here to Eternity  False                 7.20               137.00  \n",
       "\n",
       "[1 rows x 44 columns]"
      ],
      "text/html": "<div>\n<style scoped>\n    .dataframe tbody tr th:only-of-type {\n        vertical-align: middle;\n    }\n\n    .dataframe tbody tr th {\n        vertical-align: top;\n    }\n\n    .dataframe thead th {\n        text-align: right;\n    }\n</style>\n<table border=\"1\" class=\"dataframe\">\n  <thead>\n    <tr style=\"text-align: right;\">\n      <th></th>\n      <th>Unnamed: 0</th>\n      <th>url</th>\n      <th>year</th>\n      <th>imdb_link</th>\n      <th>Based on</th>\n      <th>Starring</th>\n      <th>Cinematography</th>\n      <th>Running time</th>\n      <th>Country</th>\n      <th>Language</th>\n      <th>...</th>\n      <th>release_date_kaggle</th>\n      <th>revenue</th>\n      <th>runtime</th>\n      <th>spoken_languages</th>\n      <th>status</th>\n      <th>tagline</th>\n      <th>title_kaggle</th>\n      <th>video</th>\n      <th>vote_average</th>\n      <th>vote_count</th>\n    </tr>\n  </thead>\n  <tbody>\n    <tr>\n      <th>3631</th>\n      <td>4246</td>\n      <td>https://en.wikipedia.org/wiki/The_Holiday</td>\n      <td>2,006.00</td>\n      <td>https://www.imdb.com/title/tt00457939/</td>\n      <td>NaN</td>\n      <td>['Kate Winslet', 'Cameron Diaz', 'Jude Law', '...</td>\n      <td>Dean Cundey</td>\n      <td>136 minutes</td>\n      <td>United States</td>\n      <td>English</td>\n      <td>...</td>\n      <td>1953-08-28</td>\n      <td>30,500,000.00</td>\n      <td>118.00</td>\n      <td>[{'iso_639_1': 'en', 'name': 'English'}]</td>\n      <td>Released</td>\n      <td>Pouring out of impassioned pages...brawling th...</td>\n      <td>From Here to Eternity</td>\n      <td>False</td>\n      <td>7.20</td>\n      <td>137.00</td>\n    </tr>\n  </tbody>\n</table>\n<p>1 rows × 44 columns</p>\n</div>"
     },
     "metadata": {},
     "execution_count": 109
    }
   ],
   "source": [
    "# Investigate outliers\n",
    "\n",
    "movies_df[(movies_df['release_date_wiki'] > '1996-01-01') & (movies_df['release_date_kaggle'] < '1965-01-01')]\n",
    "\n",
    "\n"
   ]
  },
  {
   "cell_type": "code",
   "execution_count": 110,
   "metadata": {},
   "outputs": [
    {
     "output_type": "execute_result",
     "data": {
      "text/plain": [
       "    Unnamed: 0  url                 year imdb_link Based on Starring  \\\n",
       "41          46  NaN                  nan       NaN      NaN      NaN   \n",
       "44          46  NaN                  nan       NaN      NaN      NaN   \n",
       "54          46  NaN                  nan       NaN      NaN      NaN   \n",
       "\n",
       "   Cinematography Running time Country Language  ... release_date_kaggle  \\\n",
       "41            NaN          NaN     NaN      NaN  ...                 NaT   \n",
       "44            NaN          NaN     NaN      NaN  ...                 NaT   \n",
       "54            NaN          NaN     NaN      NaN  ...                 NaT   \n",
       "\n",
       "                revenue              runtime  \\\n",
       "41                 0.00               110.00   \n",
       "44                 0.00                98.00   \n",
       "54                 0.00                 0.00   \n",
       "\n",
       "                            spoken_languages    status  \\\n",
       "41                                        []  Released   \n",
       "44  [{'iso_639_1': 'en', 'name': 'English'}]  Released   \n",
       "54                                        []  Released   \n",
       "\n",
       "                                              tagline  \\\n",
       "41                       Fear is the greatest killer.   \n",
       "44  Rookie detective Endeavor Morse faces his firs...   \n",
       "54                                                NaN   \n",
       "\n",
       "                      title_kaggle  video         vote_average  \\\n",
       "41                     Dreamkiller  False                 5.00   \n",
       "44                       Endeavour  False                 6.60   \n",
       "54  The Garden of Afflictions 2017  False                 0.00   \n",
       "\n",
       "             vote_count  \n",
       "41                 1.00  \n",
       "44                19.00  \n",
       "54                 0.00  \n",
       "\n",
       "[3 rows x 44 columns]"
      ],
      "text/html": "<div>\n<style scoped>\n    .dataframe tbody tr th:only-of-type {\n        vertical-align: middle;\n    }\n\n    .dataframe tbody tr th {\n        vertical-align: top;\n    }\n\n    .dataframe thead th {\n        text-align: right;\n    }\n</style>\n<table border=\"1\" class=\"dataframe\">\n  <thead>\n    <tr style=\"text-align: right;\">\n      <th></th>\n      <th>Unnamed: 0</th>\n      <th>url</th>\n      <th>year</th>\n      <th>imdb_link</th>\n      <th>Based on</th>\n      <th>Starring</th>\n      <th>Cinematography</th>\n      <th>Running time</th>\n      <th>Country</th>\n      <th>Language</th>\n      <th>...</th>\n      <th>release_date_kaggle</th>\n      <th>revenue</th>\n      <th>runtime</th>\n      <th>spoken_languages</th>\n      <th>status</th>\n      <th>tagline</th>\n      <th>title_kaggle</th>\n      <th>video</th>\n      <th>vote_average</th>\n      <th>vote_count</th>\n    </tr>\n  </thead>\n  <tbody>\n    <tr>\n      <th>41</th>\n      <td>46</td>\n      <td>NaN</td>\n      <td>nan</td>\n      <td>NaN</td>\n      <td>NaN</td>\n      <td>NaN</td>\n      <td>NaN</td>\n      <td>NaN</td>\n      <td>NaN</td>\n      <td>NaN</td>\n      <td>...</td>\n      <td>NaT</td>\n      <td>0.00</td>\n      <td>110.00</td>\n      <td>[]</td>\n      <td>Released</td>\n      <td>Fear is the greatest killer.</td>\n      <td>Dreamkiller</td>\n      <td>False</td>\n      <td>5.00</td>\n      <td>1.00</td>\n    </tr>\n    <tr>\n      <th>44</th>\n      <td>46</td>\n      <td>NaN</td>\n      <td>nan</td>\n      <td>NaN</td>\n      <td>NaN</td>\n      <td>NaN</td>\n      <td>NaN</td>\n      <td>NaN</td>\n      <td>NaN</td>\n      <td>NaN</td>\n      <td>...</td>\n      <td>NaT</td>\n      <td>0.00</td>\n      <td>98.00</td>\n      <td>[{'iso_639_1': 'en', 'name': 'English'}]</td>\n      <td>Released</td>\n      <td>Rookie detective Endeavor Morse faces his firs...</td>\n      <td>Endeavour</td>\n      <td>False</td>\n      <td>6.60</td>\n      <td>19.00</td>\n    </tr>\n    <tr>\n      <th>54</th>\n      <td>46</td>\n      <td>NaN</td>\n      <td>nan</td>\n      <td>NaN</td>\n      <td>NaN</td>\n      <td>NaN</td>\n      <td>NaN</td>\n      <td>NaN</td>\n      <td>NaN</td>\n      <td>NaN</td>\n      <td>...</td>\n      <td>NaT</td>\n      <td>0.00</td>\n      <td>0.00</td>\n      <td>[]</td>\n      <td>Released</td>\n      <td>NaN</td>\n      <td>The Garden of Afflictions 2017</td>\n      <td>False</td>\n      <td>0.00</td>\n      <td>0.00</td>\n    </tr>\n  </tbody>\n</table>\n<p>3 rows × 44 columns</p>\n</div>"
     },
     "metadata": {},
     "execution_count": 110
    }
   ],
   "source": [
    "# The above row got accidentally merged (from two movies to one). We can drop this row by accessing the index property of the row (.index)\n",
    "movies_df = movies_df.drop(movies_df[(movies_df['release_date_wiki'] > '1996-01-01') & (movies_df['release_date_kaggle'] < '1965-01-01')].index)\n",
    "\n",
    "# Compare number of missing rows from Kaggle release_date column and Wiki column\n",
    "movies_df[movies_df['release_date_kaggle'].isnull()]\n",
    "\n"
   ]
  },
  {
   "cell_type": "code",
   "execution_count": 132,
   "metadata": {},
   "outputs": [
    {
     "output_type": "execute_result",
     "data": {
      "text/plain": [
       "ps://en.wikipedia.org/wiki/Stevie_(2002_film)   \n",
       "3198        3751  https://en.wikipedia.org/wiki/Return_to_Sender...   \n",
       "3675        4300  https://en.wikipedia.org/wiki/Live_Free_or_Die...   \n",
       "4992        5782  https://en.wikipedia.org/wiki/For_the_Love_of_...   \n",
       "5376        6214            https://en.wikipedia.org/wiki/The_Purge   \n",
       "\n",
       "                     year                              imdb_link Based on  \\\n",
       "38                    nan                                    NaN      NaN   \n",
       "39                    nan                                    NaN      NaN   \n",
       "40                    nan                                    NaN      NaN   \n",
       "41                    nan                                    NaN      NaN   \n",
       "42                    nan                                    NaN      NaN   \n",
       "43                    nan                                    NaN      NaN   \n",
       "44                    nan                                    NaN      NaN   \n",
       "45                    nan                                    NaN      NaN   \n",
       "46                    nan                                    NaN      NaN   \n",
       "47                    nan                                    NaN      NaN   \n",
       "48                    nan                                    NaN      NaN   \n",
       "49                    nan                                    NaN      NaN   \n",
       "50                    nan                                    NaN      NaN   \n",
       "51                    nan                                    NaN      NaN   \n",
       "52                    nan                                    NaN      NaN   \n",
       "53                    nan                                    NaN      NaN   \n",
       "54                    nan                                    NaN      NaN   \n",
       "180              1,990.00  https://www.imdb.com/title/tt0100530/      NaN   \n",
       "260              1,991.00  https://www.imdb.com/title/tt0101664/      NaN   \n",
       "1030             1,995.00  https://www.imdb.com/title/tt0112519/      NaN   \n",
       "1083             1,995.00  https://www.imdb.com/title/tt0113080/      NaN   \n",
       "1143             1,995.00  https://www.imdb.com/title/tt0113638/      NaN   \n",
       "1420             1,996.00  https://www.imdb.com/title/tt0056196/      NaN   \n",
       "1588             1,997.00  https://www.imdb.com/title/tt0118782/      NaN   \n",
       "1657             1,997.00  https://www.imdb.com/title/tt0119291/      NaN   \n",
       "1799             1,997.00  https://www.imdb.com/title/tt0120435/      NaN   \n",
       "2410             2,000.00  https://www.imdb.com/title/tt0199129/      NaN   \n",
       "2810             2,002.00  https://www.imdb.com/title/tt0334416/      NaN   \n",
       "3198             2,004.00  https://www.imdb.com/title/tt0396190/      NaN   \n",
       "3675             2,006.00  https://www.imdb.com/title/tt0432318/      NaN   \n",
       "4992             2,012.00  https://www.imdb.com/title/tt1730294/      NaN   \n",
       "5376             2,013.00  https://www.imdb.com/title/tt4094724/      NaN   \n",
       "\n",
       "                                               Starring  \\\n",
       "38                                                  NaN   \n",
       "39                                                  NaN   \n",
       "40                                                  NaN   \n",
       "41                                                  NaN   \n",
       "42                                                  NaN   \n",
       "43                                                  NaN   \n",
       "44                                                  NaN   \n",
       "45                                                  NaN   \n",
       "46                                                  NaN   \n",
       "47                                                  NaN   \n",
       "48                                                  NaN   \n",
       "49                                                  NaN   \n",
       "50                                                  NaN   \n",
       "51                                                  NaN   \n",
       "52                                                  NaN   \n",
       "53                                                  NaN   \n",
       "54                                                  NaN   \n",
       "180                                                 NaN   \n",
       "260                                                 NaN   \n",
       "1030  ['Joan Severance', 'Bruce Abbott', 'Garrett Mo...   \n",
       "1083      ['Bill Sage', 'Dwight Ewell', 'Miho Nikaido']   \n",
       "1143                                                NaN   \n",
       "1420                                                NaN   \n",
       "1588                                                NaN   \n",
       "1657  ['Justine Bateman', 'Peter Bogdanovich', 'Chri...   \n",
       "1799  ['Olivier Gruner', 'Alicia Coppola', 'Ken Olan...   \n",
       "2410  ['Hill Harper', 'Billy Dee Williams', 'Obba Ba...   \n",
       "2810                                                NaN   \n",
       "3198   ['Aidan Quinn', 'Connie Nielsen', 'Mark Holton']   \n",
       "3675  ['Aaron Stanford', 'Paul Schneider', 'Ebon Mos...   \n",
       "4992  ['Yehuda Levi', 'Edward Furlong', 'James Caan'...   \n",
       "5376                                                NaN   \n",
       "\n",
       "                                        Cinematography Running time  \\\n",
       "38                                                 NaN          NaN   \n",
       "39                                                 NaN          NaN   \n",
       "40                                                 NaN          NaN   \n",
       "41                                                 NaN          NaN   \n",
       "42                                                 NaN          NaN   \n",
       "43                                                 NaN          NaN   \n",
       "44                                                 NaN          NaN   \n",
       "45                                                 NaN          NaN   \n",
       "46                                                 NaN          NaN   \n",
       "47                                                 NaN          NaN   \n",
       "48                                                 NaN          NaN   \n",
       "49                                                 NaN          NaN   \n",
       "50                                                 NaN          NaN   \n",
       "51                                                 NaN          NaN   \n",
       "52                                                 NaN          NaN   \n",
       "53                                                 NaN          NaN   \n",
       "54                                                 NaN          NaN   \n",
       "180                                                NaN          NaN   \n",
       "260                                                NaN          NaN   \n",
       "1030                                      Geoff George      90 min.   \n",
       "1083                                   Michael Spiller   83 minutes   \n",
       "1143                                 Miroslav Ondrícek          NaN   \n",
       "1420                                               NaN          NaN   \n",
       "1588                                        Ken Kelsch          NaN   \n",
       "1657                                  Steven Bernstein  110 minutes   \n",
       "1799                                Philip D. Schwartz   89 minutes   \n",
       "2410                                 John L. Demps Jr.  107 minutes   \n",
       "2810  ['Dana Kupper', 'Gordon Quinn', 'Peter Gilbert']      144 min   \n",
       "3198                                               NaN          NaN   \n",
       "3675                                               NaN   89 minutes   \n",
       "4992                                    Andrzej Sekuła   93 minutes   \n",
       "5376                                               NaN          NaN   \n",
       "\n",
       "                                           Country        Language  ...  \\\n",
       "38                                             NaN             NaN  ...   \n",
       "39                                             NaN             NaN  ...   \n",
       "40                                             NaN             NaN  ...   \n",
       "41                                             NaN             NaN  ...   \n",
       "42                                             NaN             NaN  ...   \n",
       "43                                             NaN             NaN  ...   \n",
       "44                                             NaN             NaN  ...   \n",
       "45                                             NaN             NaN  ...   \n",
       "46                                             NaN             NaN  ...   \n",
       "47                                             NaN             NaN  ...   \n",
       "48                                             NaN             NaN  ...   \n",
       "49                                             NaN             NaN  ...   \n",
       "50                                             NaN             NaN  ...   \n",
       "51                                             NaN             NaN  ...   \n",
       "52                                             NaN             NaN  ...   \n",
       "53                                             NaN             NaN  ...   \n",
       "54                                             NaN             NaN  ...   \n",
       "180                                 United Kingdom         English  ...   \n",
       "260                                            USA         English  ...   \n",
       "1030                                 United States             NaN  ...   \n",
       "1083  ['United States', 'Germany', 'Japan', '[1]']             NaN  ...   \n",
       "1143                                           NaN             NaN  ...   \n",
       "1420                                           NaN             NaN  ...   \n",
       "1588                                           NaN             NaN  ...   \n",
       "1657                                 United States         English  ...   \n",
       "1799                                 United States             NaN  ...   \n",
       "2410                                           NaN         English  ...   \n",
       "2810                                 United States         English  ...   \n",
       "3198                      ['Denmark', 'USA', 'UK']             NaN  ...   \n",
       "3675                                 United States         English  ...   \n",
       "4992                                 United States  English/Hebrew  ...   \n",
       "5376                                           NaN             NaN  ...   \n",
       "\n",
       "     release_date_kaggle              revenue              runtime  \\\n",
       "38            1991-06-07                 0.00               100.00   \n",
       "39            2003-03-19                 0.00                  nan   \n",
       "40            1970-04-06                 0.00                73.00   \n",
       "41                   NaT                 0.00               110.00   \n",
       "42            1979-03-09                 0.00                78.00   \n",
       "43            2005-11-05                 0.00                87.00   \n",
       "44                   NaT                 0.00                98.00   \n",
       "45            2009-01-27                 0.00                38.00   \n",
       "46            1997-01-19                 0.00                 0.00   \n",
       "47            1995-01-01                 0.00                 0.00   \n",
       "48            2008-10-23                 0.00               100.00   \n",
       "49            2006-10-01                 0.00               180.00   \n",
       "50            2017-01-01                 0.00               109.00   \n",
       "51            2004-03-06                 0.00                 0.00   \n",
       "52            2011-10-10                 0.00                91.00   \n",
       "53            2016-12-16                 0.00                  nan   \n",
       "54                   NaT                 0.00                 0.00   \n",
       "180           1990-12-19                 0.00               122.00   \n",
       "260           1991-01-01                 0.00               111.00   \n",
       "1030          1995-08-22                 0.00                92.00   \n",
       "1083          1995-09-14                 0.00                85.00   \n",
       "1143          1995-11-17                 0.00                95.00   \n",
       "1420          1962-10-09                 0.00               174.00   \n",
       "1588          1998-01-01                 0.00                89.00   \n",
       "1657          1997-01-01                 0.00               110.00   \n",
       "1799          1999-02-22                 0.00                86.00   \n",
       "2410          2000-01-01                 0.00               107.00   \n",
       "2810          2002-09-09            97,000.00               140.00   \n",
       "3198          2004-09-17                 0.00               109.00   \n",
       "3675          2006-03-11                 0.00                89.00   \n",
       "4992          2012-06-08                 0.00                93.00   \n",
       "5376          2016-06-29       118,587,880.00               105.00   \n",
       "\n",
       "                                       spoken_languages    status  \\\n",
       "38             [{'iso_639_1': 'en', 'name': 'English'}]  Released   \n",
       "39                                                   []  Released   \n",
       "40    [{'iso_639_1': 'de', 'name': 'Deutsch'}, {'iso...  Released   \n",
       "41                                                   []  Released   \n",
       "42                                                   []   Rumored   \n",
       "43    [{'iso_639_1': 'en', 'name': 'English'}, {'iso...  Released   \n",
       "44             [{'iso_639_1': 'en', 'name': 'English'}]  Released   \n",
       "45             [{'iso_639_1': 'en', 'name': 'English'}]  Released   \n",
       "46    [{'iso_639_1': 'en', 'name': 'English'}, {'iso...  Released   \n",
       "47                                                   []  Released   \n",
       "48    [{'iso_639_1': 'fr', 'name': 'Français'}, {'is...   Rumored   \n",
       "49                 [{'iso_639_1': 'ja', 'name': '日本語'}]  Released   \n",
       "50                                                   []  Released   \n",
       "51                                                   []  Released   \n",
       "52    [{'iso_639_1': 'en', 'name': 'English'}, {'iso...  Released   \n",
       "53            [{'iso_639_1': 'fr', 'name': 'Français'}]  Released   \n",
       "54                                                   []  Released   \n",
       "180   [{'iso_639_1': 'en', 'name': 'English'}, {'iso...  Released   \n",
       "260            [{'iso_639_1': 'en', 'name': 'English'}]  Released   \n",
       "1030           [{'iso_639_1': 'en', 'name': 'English'}]  Released   \n",
       "1083  [{'iso_639_1': 'en', 'name': 'English'}, {'iso...  Released   \n",
       "1143                                                 []  Released   \n",
       "1420           [{'iso_639_1': 'en', 'name': 'English'}]  Released   \n",
       "1588           [{'iso_639_1': 'en', 'name': 'English'}]  Released   \n",
       "1657           [{'iso_639_1': 'en', 'name': 'English'}]  Released   \n",
       "1799           [{'iso_639_1': 'en', 'name': 'English'}]  Released   \n",
       "2410  [{'iso_639_1': 'en', 'name': 'English'}, {'iso...   Rumored   \n",
       "2810                                                 []       NaN   \n",
       "3198           [{'iso_639_1': 'en', 'name': 'English'}]  Released   \n",
       "3675           [{'iso_639_1': 'en', 'name': 'English'}]  Released   \n",
       "4992  [{'iso_639_1': 'en', 'name': 'English'}, {'iso...  Released   \n",
       "5376           [{'iso_639_1': 'en', 'name': 'English'}]  Released   \n",
       "\n",
       "                                                tagline  \\\n",
       "38    She only wanted love. But money's better than ...   \n",
       "39                                                  NaN   \n",
       "40                                                  NaN   \n",
       "41                         Fear is the greatest killer.   \n",
       "42                                                  NaN   \n",
       "43                                                  NaN   \n",
       "44    Rookie detective Endeavor Morse faces his firs...   \n",
       "45                                                  NaN   \n",
       "46                                                  NaN   \n",
       "47                                                  NaN   \n",
       "48                                                  NaN   \n",
       "49                                                  NaN   \n",
       "50                                                  NaN   \n",
       "51                                                  NaN   \n",
       "52                          Do you believe in mermaids?   \n",
       "53                                                  NaN   \n",
       "54                                                  NaN   \n",
       "180                                                 NaN   \n",
       "260                                                 NaN   \n",
       "1030                         Justice has a nasty sting.   \n",
       "1083                                                NaN   \n",
       "1143                                                NaN   \n",
       "1420                    PRIDE...POWER...PASSION...PAIN!   \n",
       "1588                                                NaN   \n",
       "1657                                                NaN   \n",
       "1799                        Crime at the Speed of Light   \n",
       "2410                                                NaN   \n",
       "2810                                                NaN   \n",
       "3198  How can you save someone, who won't save herself?   \n",
       "3675                                                NaN   \n",
       "4992     For the love of money is the root of all evil.   \n",
       "5376                                 Keep America great   \n",
       "\n",
       "                                           title_kaggle  video  \\\n",
       "38                                             Delusion  False   \n",
       "39                                                 Show  False   \n",
       "40    How I Unleashed World War II Part III: Among F...  False   \n",
       "41                                          Dreamkiller  False   \n",
       "42                                           The Winner  False   \n",
       "43         Before The Dinosaurs - Walking With Monsters  False   \n",
       "44                                            Endeavour  False   \n",
       "45                                   Hulk vs. Wolverine  False   \n",
       "46                            Last Stand at Saber River  False   \n",
       "47                                         Running Wild  False   \n",
       "48                                                    8  False   \n",
       "49    Gunbuster vs Diebuster Aim for the Top! The GA...  False   \n",
       "50                                           The Master  False   \n",
       "51                                       Doraemon:貓狗時空傳  False   \n",
       "52                       H2O Just Add Water - The Movie  False   \n",
       "53                                    Le passe-muraille  False   \n",
       "54                       The Garden of Afflictions 2017  False   \n",
       "180                                    The Russia House  False   \n",
       "260                                       The Dark Wind  False   \n",
       "1030                                     Black Scorpion  False   \n",
       "1083                                              Flirt  False   \n",
       "1143                                       Let It Be Me  False   \n",
       "1420                      Long Day's Journey Into Night  False   \n",
       "1588                           A Brooklyn State of Mind  False   \n",
       "1657                                           Highball  False   \n",
       "1799                                      Velocity Trap  False   \n",
       "2410                                          The Visit  False   \n",
       "2810                                             Stevie  False   \n",
       "3198                                   Return to Sender  False   \n",
       "3675                                   Live Free or Die  False   \n",
       "4992                              For the Love of Money  False   \n",
       "5376                           The Purge: Election Year  False   \n",
       "\n",
       "             vote_average           vote_count  \n",
       "38                   4.80                 3.00  \n",
       "39                   6.30                 2.00  \n",
       "40                   7.00                 3.00  \n",
       "41                   5.00                 1.00  \n",
       "42                   0.00                 0.00  \n",
       "43                   7.30                12.00  \n",
       "44                   6.60                19.00  \n",
       "45                   6.80                48.00  \n",
       "46                   3.70                 3.00  \n",
       "47                  10.00                 1.00  \n",
       "48                   0.00                 0.00  \n",
       "49                   6.50                 5.00  \n",
       "50                   0.00                 0.00  \n",
       "51                   0.00                 0.00  \n",
       "52                   6.40                37.00  \n",
       "53                   0.00                 0.00  \n",
       "54                   0.00                 0.00  \n",
       "180                  6.30                54.00  \n",
       "260                  6.00                 1.00  \n",
       "1030                 6.10                 7.00  \n",
       "1083                 7.50                 4.00  \n",
       "1143                 8.00                 2.00  \n",
       "1420                 6.20                13.00  \n",
       "1588                 5.00                 1.00  \n",
       "1657                 4.50                 4.00  \n",
       "1799                 4.70                 6.00  \n",
       "2410                 0.00                 0.00  \n",
       "2810                 6.70                13.00  \n",
       "3198                 5.90                13.00  \n",
       "3675                 5.50                 8.00  \n",
       "4992                 5.60                 9.00  \n",
       "5376                 6.10             1,356.00  \n",
       "\n",
       "[32 rows x 44 columns]"
      ],
      "text/html": "<div>\n<style scoped>\n    .dataframe tbody tr th:only-of-type {\n        vertical-align: middle;\n    }\n\n    .dataframe tbody tr th {\n        vertical-align: top;\n    }\n\n    .dataframe thead th {\n        text-align: right;\n    }\n</style>\n<table border=\"1\" class=\"dataframe\">\n  <thead>\n    <tr style=\"text-align: right;\">\n      <th></th>\n      <th>Unnamed: 0</th>\n      <th>url</th>\n      <th>year</th>\n      <th>imdb_link</th>\n      <th>Based on</th>\n      <th>Starring</th>\n      <th>Cinematography</th>\n      <th>Running time</th>\n      <th>Country</th>\n      <th>Language</th>\n      <th>...</th>\n      <th>release_date_kaggle</th>\n      <th>revenue</th>\n      <th>runtime</th>\n      <th>spoken_languages</th>\n      <th>status</th>\n      <th>tagline</th>\n      <th>title_kaggle</th>\n      <th>video</th>\n      <th>vote_average</th>\n      <th>vote_count</th>\n    </tr>\n  </thead>\n  <tbody>\n    <tr>\n      <th>38</th>\n      <td>46</td>\n      <td>NaN</td>\n      <td>nan</td>\n      <td>NaN</td>\n      <td>NaN</td>\n      <td>NaN</td>\n      <td>NaN</td>\n      <td>NaN</td>\n      <td>NaN</td>\n      <td>NaN</td>\n      <td>...</td>\n      <td>1991-06-07</td>\n      <td>0.00</td>\n      <td>100.00</td>\n      <td>[{'iso_639_1': 'en', 'name': 'English'}]</td>\n      <td>Released</td>\n      <td>She only wanted love. But money's better than ...</td>\n      <td>Delusion</td>\n      <td>False</td>\n      <td>4.80</td>\n      <td>3.00</td>\n    </tr>\n    <tr>\n      <th>39</th>\n      <td>46</td>\n      <td>NaN</td>\n      <td>nan</td>\n      <td>NaN</td>\n      <td>NaN</td>\n      <td>NaN</td>\n      <td>NaN</td>\n      <td>NaN</td>\n      <td>NaN</td>\n      <td>NaN</td>\n      <td>...</td>\n      <td>2003-03-19</td>\n      <td>0.00</td>\n      <td>nan</td>\n      <td>[]</td>\n      <td>Released</td>\n      <td>NaN</td>\n      <td>Show</td>\n      <td>False</td>\n      <td>6.30</td>\n      <td>2.00</td>\n    </tr>\n    <tr>\n      <th>40</th>\n      <td>46</td>\n      <td>NaN</td>\n      <td>nan</td>\n      <td>NaN</td>\n      <td>NaN</td>\n      <td>NaN</td>\n      <td>NaN</td>\n      <td>NaN</td>\n      <td>NaN</td>\n      <td>NaN</td>\n      <td>...</td>\n      <td>1970-04-06</td>\n      <td>0.00</td>\n      <td>73.00</td>\n      <td>[{'iso_639_1': 'de', 'name': 'Deutsch'}, {'iso...</td>\n      <td>Released</td>\n      <td>NaN</td>\n      <td>How I Unleashed World War II Part III: Among F...</td>\n      <td>False</td>\n      <td>7.00</td>\n      <td>3.00</td>\n    </tr>\n    <tr>\n      <th>41</th>\n      <td>46</td>\n      <td>NaN</td>\n      <td>nan</td>\n      <td>NaN</td>\n      <td>NaN</td>\n      <td>NaN</td>\n      <td>NaN</td>\n      <td>NaN</td>\n      <td>NaN</td>\n      <td>NaN</td>\n      <td>...</td>\n      <td>NaT</td>\n      <td>0.00</td>\n      <td>110.00</td>\n      <td>[]</td>\n      <td>Released</td>\n      <td>Fear is the greatest killer.</td>\n      <td>Dreamkiller</td>\n      <td>False</td>\n      <td>5.00</td>\n      <td>1.00</td>\n    </tr>\n    <tr>\n      <th>42</th>\n      <td>46</td>\n      <td>NaN</td>\n      <td>nan</td>\n      <td>NaN</td>\n      <td>NaN</td>\n      <td>NaN</td>\n      <td>NaN</td>\n      <td>NaN</td>\n      <td>NaN</td>\n      <td>NaN</td>\n      <td>...</td>\n      <td>1979-03-09</td>\n      <td>0.00</td>\n      <td>78.00</td>\n      <td>[]</td>\n      <td>Rumored</td>\n      <td>NaN</td>\n      <td>The Winner</td>\n      <td>False</td>\n      <td>0.00</td>\n      <td>0.00</td>\n    </tr>\n    <tr>\n      <th>43</th>\n      <td>46</td>\n      <td>NaN</td>\n      <td>nan</td>\n      <td>NaN</td>\n      <td>NaN</td>\n      <td>NaN</td>\n      <td>NaN</td>\n      <td>NaN</td>\n      <td>NaN</td>\n      <td>NaN</td>\n      <td>...</td>\n      <td>2005-11-05</td>\n      <td>0.00</td>\n      <td>87.00</td>\n      <td>[{'iso_639_1': 'en', 'name': 'English'}, {'iso...</td>\n      <td>Released</td>\n      <td>NaN</td>\n      <td>Before The Dinosaurs - Walking With Monsters</td>\n      <td>False</td>\n      <td>7.30</td>\n      <td>12.00</td>\n    </tr>\n    <tr>\n      <th>44</th>\n      <td>46</td>\n      <td>NaN</td>\n      <td>nan</td>\n      <td>NaN</td>\n      <td>NaN</td>\n      <td>NaN</td>\n      <td>NaN</td>\n      <td>NaN</td>\n      <td>NaN</td>\n      <td>NaN</td>\n      <td>...</td>\n      <td>NaT</td>\n      <td>0.00</td>\n      <td>98.00</td>\n      <td>[{'iso_639_1': 'en', 'name': 'English'}]</td>\n      <td>Released</td>\n      <td>Rookie detective Endeavor Morse faces his firs...</td>\n      <td>Endeavour</td>\n      <td>False</td>\n      <td>6.60</td>\n      <td>19.00</td>\n    </tr>\n    <tr>\n      <th>45</th>\n      <td>46</td>\n      <td>NaN</td>\n      <td>nan</td>\n      <td>NaN</td>\n      <td>NaN</td>\n      <td>NaN</td>\n      <td>NaN</td>\n      <td>NaN</td>\n      <td>NaN</td>\n      <td>NaN</td>\n      <td>...</td>\n      <td>2009-01-27</td>\n      <td>0.00</td>\n      <td>38.00</td>\n      <td>[{'iso_639_1': 'en', 'name': 'English'}]</td>\n      <td>Released</td>\n      <td>NaN</td>\n      <td>Hulk vs. Wolverine</td>\n      <td>False</td>\n      <td>6.80</td>\n      <td>48.00</td>\n    </tr>\n    <tr>\n      <th>46</th>\n      <td>46</td>\n      <td>NaN</td>\n      <td>nan</td>\n      <td>NaN</td>\n      <td>NaN</td>\n      <td>NaN</td>\n      <td>NaN</td>\n      <td>NaN</td>\n      <td>NaN</td>\n      <td>NaN</td>\n      <td>...</td>\n      <td>1997-01-19</td>\n      <td>0.00</td>\n      <td>0.00</td>\n      <td>[{'iso_639_1': 'en', 'name': 'English'}, {'iso...</td>\n      <td>Released</td>\n      <td>NaN</td>\n      <td>Last Stand at Saber River</td>\n      <td>False</td>\n      <td>3.70</td>\n      <td>3.00</td>\n    </tr>\n    <tr>\n      <th>47</th>\n      <td>46</td>\n      <td>NaN</td>\n      <td>nan</td>\n      <td>NaN</td>\n      <td>NaN</td>\n      <td>NaN</td>\n      <td>NaN</td>\n      <td>NaN</td>\n      <td>NaN</td>\n      <td>NaN</td>\n      <td>...</td>\n      <td>1995-01-01</td>\n      <td>0.00</td>\n      <td>0.00</td>\n      <td>[]</td>\n      <td>Released</td>\n      <td>NaN</td>\n      <td>Running Wild</td>\n      <td>False</td>\n      <td>10.00</td>\n      <td>1.00</td>\n    </tr>\n    <tr>\n      <th>48</th>\n      <td>46</td>\n      <td>NaN</td>\n      <td>nan</td>\n      <td>NaN</td>\n      <td>NaN</td>\n      <td>NaN</td>\n      <td>NaN</td>\n      <td>NaN</td>\n      <td>NaN</td>\n      <td>NaN</td>\n      <td>...</td>\n      <td>2008-10-23</td>\n      <td>0.00</td>\n      <td>100.00</td>\n      <td>[{'iso_639_1': 'fr', 'name': 'Français'}, {'is...</td>\n      <td>Rumored</td>\n      <td>NaN</td>\n      <td>8</td>\n      <td>False</td>\n      <td>0.00</td>\n      <td>0.00</td>\n    </tr>\n    <tr>\n      <th>49</th>\n      <td>46</td>\n      <td>NaN</td>\n      <td>nan</td>\n      <td>NaN</td>\n      <td>NaN</td>\n      <td>NaN</td>\n      <td>NaN</td>\n      <td>NaN</td>\n      <td>NaN</td>\n      <td>NaN</td>\n      <td>...</td>\n      <td>2006-10-01</td>\n      <td>0.00</td>\n      <td>180.00</td>\n      <td>[{'iso_639_1': 'ja', 'name': '日本語'}]</td>\n      <td>Released</td>\n      <td>NaN</td>\n      <td>Gunbuster vs Diebuster Aim for the Top! The GA...</td>\n      <td>False</td>\n      <td>6.50</td>\n      <td>5.00</td>\n    </tr>\n    <tr>\n      <th>50</th>\n      <td>46</td>\n      <td>NaN</td>\n      <td>nan</td>\n      <td>NaN</td>\n      <td>NaN</td>\n      <td>NaN</td>\n      <td>NaN</td>\n      <td>NaN</td>\n      <td>NaN</td>\n      <td>NaN</td>\n      <td>...</td>\n      <td>2017-01-01</td>\n      <td>0.00</td>\n      <td>109.00</td>\n      <td>[]</td>\n      <td>Released</td>\n      <td>NaN</td>\n      <td>The Master</td>\n      <td>False</td>\n      <td>0.00</td>\n      <td>0.00</td>\n    </tr>\n    <tr>\n      <th>51</th>\n      <td>46</td>\n      <td>NaN</td>\n      <td>nan</td>\n      <td>NaN</td>\n      <td>NaN</td>\n      <td>NaN</td>\n      <td>NaN</td>\n      <td>NaN</td>\n      <td>NaN</td>\n      <td>NaN</td>\n      <td>...</td>\n      <td>2004-03-06</td>\n      <td>0.00</td>\n      <td>0.00</td>\n      <td>[]</td>\n      <td>Released</td>\n      <td>NaN</td>\n      <td>Doraemon:貓狗時空傳</td>\n      <td>False</td>\n      <td>0.00</td>\n      <td>0.00</td>\n    </tr>\n    <tr>\n      <th>52</th>\n      <td>46</td>\n      <td>NaN</td>\n      <td>nan</td>\n      <td>NaN</td>\n      <td>NaN</td>\n      <td>NaN</td>\n      <td>NaN</td>\n      <td>NaN</td>\n      <td>NaN</td>\n      <td>NaN</td>\n      <td>...</td>\n      <td>2011-10-10</td>\n      <td>0.00</td>\n      <td>91.00</td>\n      <td>[{'iso_639_1': 'en', 'name': 'English'}, {'iso...</td>\n      <td>Released</td>\n      <td>Do you believe in mermaids?</td>\n      <td>H2O Just Add Water - The Movie</td>\n      <td>False</td>\n      <td>6.40</td>\n      <td>37.00</td>\n    </tr>\n    <tr>\n      <th>53</th>\n      <td>46</td>\n      <td>NaN</td>\n      <td>nan</td>\n      <td>NaN</td>\n      <td>NaN</td>\n      <td>NaN</td>\n      <td>NaN</td>\n      <td>NaN</td>\n      <td>NaN</td>\n      <td>NaN</td>\n      <td>...</td>\n      <td>2016-12-16</td>\n      <td>0.00</td>\n      <td>nan</td>\n      <td>[{'iso_639_1': 'fr', 'name': 'Français'}]</td>\n      <td>Released</td>\n      <td>NaN</td>\n      <td>Le passe-muraille</td>\n      <td>False</td>\n      <td>0.00</td>\n      <td>0.00</td>\n    </tr>\n    <tr>\n      <th>54</th>\n      <td>46</td>\n      <td>NaN</td>\n      <td>nan</td>\n      <td>NaN</td>\n      <td>NaN</td>\n      <td>NaN</td>\n      <td>NaN</td>\n      <td>NaN</td>\n      <td>NaN</td>\n      <td>NaN</td>\n      <td>...</td>\n      <td>NaT</td>\n      <td>0.00</td>\n      <td>0.00</td>\n      <td>[]</td>\n      <td>Released</td>\n      <td>NaN</td>\n      <td>The Garden of Afflictions 2017</td>\n      <td>False</td>\n      <td>0.00</td>\n      <td>0.00</td>\n    </tr>\n    <tr>\n      <th>180</th>\n      <td>209</td>\n      <td>https://en.wikipedia.org/wiki/The_Russia_House</td>\n      <td>1,990.00</td>\n      <td>https://www.imdb.com/title/tt0100530/</td>\n      <td>NaN</td>\n      <td>NaN</td>\n      <td>NaN</td>\n      <td>NaN</td>\n      <td>United Kingdom</td>\n      <td>English</td>\n      <td>...</td>\n      <td>1990-12-19</td>\n      <td>0.00</td>\n      <td>122.00</td>\n      <td>[{'iso_639_1': 'en', 'name': 'English'}, {'iso...</td>\n      <td>Released</td>\n      <td>NaN</td>\n      <td>The Russia House</td>\n      <td>False</td>\n      <td>6.30</td>\n      <td>54.00</td>\n    </tr>\n    <tr>\n      <th>260</th>\n      <td>313</td>\n      <td>https://en.wikipedia.org/wiki/The_Dark_Wind</td>\n      <td>1,991.00</td>\n      <td>https://www.imdb.com/title/tt0101664/</td>\n      <td>NaN</td>\n      <td>NaN</td>\n      <td>NaN</td>\n      <td>NaN</td>\n      <td>USA</td>\n      <td>English</td>\n      <td>...</td>\n      <td>1991-01-01</td>\n      <td>0.00</td>\n      <td>111.00</td>\n      <td>[{'iso_639_1': 'en', 'name': 'English'}]</td>\n      <td>Released</td>\n      <td>NaN</td>\n      <td>The Dark Wind</td>\n      <td>False</td>\n      <td>6.00</td>\n      <td>1.00</td>\n    </tr>\n    <tr>\n      <th>1030</th>\n      <td>1219</td>\n      <td>https://en.wikipedia.org/wiki/Black_Scorpion_(...</td>\n      <td>1,995.00</td>\n      <td>https://www.imdb.com/title/tt0112519/</td>\n      <td>NaN</td>\n      <td>['Joan Severance', 'Bruce Abbott', 'Garrett Mo...</td>\n      <td>Geoff George</td>\n      <td>90 min.</td>\n      <td>United States</td>\n      <td>NaN</td>\n      <td>...</td>\n      <td>1995-08-22</td>\n      <td>0.00</td>\n      <td>92.00</td>\n      <td>[{'iso_639_1': 'en', 'name': 'English'}]</td>\n      <td>Released</td>\n      <td>Justice has a nasty sting.</td>\n      <td>Black Scorpion</td>\n      <td>False</td>\n      <td>6.10</td>\n      <td>7.00</td>\n    </tr>\n    <tr>\n      <th>1083</th>\n      <td>1284</td>\n      <td>https://en.wikipedia.org/wiki/Flirt_(1995_film)</td>\n      <td>1,995.00</td>\n      <td>https://www.imdb.com/title/tt0113080/</td>\n      <td>NaN</td>\n      <td>['Bill Sage', 'Dwight Ewell', 'Miho Nikaido']</td>\n      <td>Michael Spiller</td>\n      <td>83 minutes</td>\n      <td>['United States', 'Germany', 'Japan', '[1]']</td>\n      <td>NaN</td>\n      <td>...</td>\n      <td>1995-09-14</td>\n      <td>0.00</td>\n      <td>85.00</td>\n      <td>[{'iso_639_1': 'en', 'name': 'English'}, {'iso...</td>\n      <td>Released</td>\n      <td>NaN</td>\n      <td>Flirt</td>\n      <td>False</td>\n      <td>7.50</td>\n      <td>4.00</td>\n    </tr>\n    <tr>\n      <th>1143</th>\n      <td>1355</td>\n      <td>https://en.wikipedia.org/wiki/Let_It_Be_Me_(19...</td>\n      <td>1,995.00</td>\n      <td>https://www.imdb.com/title/tt0113638/</td>\n      <td>NaN</td>\n      <td>NaN</td>\n      <td>Miroslav Ondrícek</td>\n      <td>NaN</td>\n      <td>NaN</td>\n      <td>NaN</td>\n      <td>...</td>\n      <td>1995-11-17</td>\n      <td>0.00</td>\n      <td>95.00</td>\n      <td>[]</td>\n      <td>Released</td>\n      <td>NaN</td>\n      <td>Let It Be Me</td>\n      <td>False</td>\n      <td>8.00</td>\n      <td>2.00</td>\n    </tr>\n    <tr>\n      <th>1420</th>\n      <td>1714</td>\n      <td>https://en.wikipedia.org/wiki/Long_Day%27s_Jou...</td>\n      <td>1,996.00</td>\n      <td>https://www.imdb.com/title/tt0056196/</td>\n      <td>NaN</td>\n      <td>NaN</td>\n      <td>NaN</td>\n      <td>NaN</td>\n      <td>NaN</td>\n      <td>NaN</td>\n      <td>...</td>\n      <td>1962-10-09</td>\n      <td>0.00</td>\n      <td>174.00</td>\n      <td>[{'iso_639_1': 'en', 'name': 'English'}]</td>\n      <td>Released</td>\n      <td>PRIDE...POWER...PASSION...PAIN!</td>\n      <td>Long Day's Journey Into Night</td>\n      <td>False</td>\n      <td>6.20</td>\n      <td>13.00</td>\n    </tr>\n    <tr>\n      <th>1588</th>\n      <td>1922</td>\n      <td>https://en.wikipedia.org/wiki/A_Brooklyn_State...</td>\n      <td>1,997.00</td>\n      <td>https://www.imdb.com/title/tt0118782/</td>\n      <td>NaN</td>\n      <td>NaN</td>\n      <td>Ken Kelsch</td>\n      <td>NaN</td>\n      <td>NaN</td>\n      <td>NaN</td>\n      <td>...</td>\n      <td>1998-01-01</td>\n      <td>0.00</td>\n      <td>89.00</td>\n      <td>[{'iso_639_1': 'en', 'name': 'English'}]</td>\n      <td>Released</td>\n      <td>NaN</td>\n      <td>A Brooklyn State of Mind</td>\n      <td>False</td>\n      <td>5.00</td>\n      <td>1.00</td>\n    </tr>\n    <tr>\n      <th>1657</th>\n      <td>2012</td>\n      <td>https://en.wikipedia.org/wiki/Highball_(film)</td>\n      <td>1,997.00</td>\n      <td>https://www.imdb.com/title/tt0119291/</td>\n      <td>NaN</td>\n      <td>['Justine Bateman', 'Peter Bogdanovich', 'Chri...</td>\n      <td>Steven Bernstein</td>\n      <td>110 minutes</td>\n      <td>United States</td>\n      <td>English</td>\n      <td>...</td>\n      <td>1997-01-01</td>\n      <td>0.00</td>\n      <td>110.00</td>\n      <td>[{'iso_639_1': 'en', 'name': 'English'}]</td>\n      <td>Released</td>\n      <td>NaN</td>\n      <td>Highball</td>\n      <td>False</td>\n      <td>4.50</td>\n      <td>4.00</td>\n    </tr>\n    <tr>\n      <th>1799</th>\n      <td>2205</td>\n      <td>https://en.wikipedia.org/wiki/Velocity_Trap</td>\n      <td>1,997.00</td>\n      <td>https://www.imdb.com/title/tt0120435/</td>\n      <td>NaN</td>\n      <td>['Olivier Gruner', 'Alicia Coppola', 'Ken Olan...</td>\n      <td>Philip D. Schwartz</td>\n      <td>89 minutes</td>\n      <td>United States</td>\n      <td>NaN</td>\n      <td>...</td>\n      <td>1999-02-22</td>\n      <td>0.00</td>\n      <td>86.00</td>\n      <td>[{'iso_639_1': 'en', 'name': 'English'}]</td>\n      <td>Released</td>\n      <td>Crime at the Speed of Light</td>\n      <td>Velocity Trap</td>\n      <td>False</td>\n      <td>4.70</td>\n      <td>6.00</td>\n    </tr>\n    <tr>\n      <th>2410</th>\n      <td>2885</td>\n      <td>https://en.wikipedia.org/wiki/The_Visit_(2000_...</td>\n      <td>2,000.00</td>\n      <td>https://www.imdb.com/title/tt0199129/</td>\n      <td>NaN</td>\n      <td>['Hill Harper', 'Billy Dee Williams', 'Obba Ba...</td>\n      <td>John L. Demps Jr.</td>\n      <td>107 minutes</td>\n      <td>NaN</td>\n      <td>English</td>\n      <td>...</td>\n      <td>2000-01-01</td>\n      <td>0.00</td>\n      <td>107.00</td>\n      <td>[{'iso_639_1': 'en', 'name': 'English'}, {'iso...</td>\n      <td>Rumored</td>\n      <td>NaN</td>\n      <td>The Visit</td>\n      <td>False</td>\n      <td>0.00</td>\n      <td>0.00</td>\n    </tr>\n    <tr>\n      <th>2810</th>\n      <td>3324</td>\n      <td>https://en.wikipedia.org/wiki/Stevie_(2002_film)</td>\n      <td>2,002.00</td>\n      <td>https://www.imdb.com/title/tt0334416/</td>\n      <td>NaN</td>\n      <td>NaN</td>\n      <td>['Dana Kupper', 'Gordon Quinn', 'Peter Gilbert']</td>\n      <td>144 min</td>\n      <td>United States</td>\n      <td>English</td>\n      <td>...</td>\n      <td>2002-09-09</td>\n      <td>97,000.00</td>\n      <td>140.00</td>\n      <td>[]</td>\n      <td>NaN</td>\n      <td>NaN</td>\n      <td>Stevie</td>\n      <td>False</td>\n      <td>6.70</td>\n      <td>13.00</td>\n    </tr>\n    <tr>\n      <th>3198</th>\n      <td>3751</td>\n      <td>https://en.wikipedia.org/wiki/Return_to_Sender...</td>\n      <td>2,004.00</td>\n      <td>https://www.imdb.com/title/tt0396190/</td>\n      <td>NaN</td>\n      <td>['Aidan Quinn', 'Connie Nielsen', 'Mark Holton']</td>\n      <td>NaN</td>\n      <td>NaN</td>\n      <td>['Denmark', 'USA', 'UK']</td>\n      <td>NaN</td>\n      <td>...</td>\n      <td>2004-09-17</td>\n      <td>0.00</td>\n      <td>109.00</td>\n      <td>[{'iso_639_1': 'en', 'name': 'English'}]</td>\n      <td>Released</td>\n      <td>How can you save someone, who won't save herself?</td>\n      <td>Return to Sender</td>\n      <td>False</td>\n      <td>5.90</td>\n      <td>13.00</td>\n    </tr>\n    <tr>\n      <th>3675</th>\n      <td>4300</td>\n      <td>https://en.wikipedia.org/wiki/Live_Free_or_Die...</td>\n      <td>2,006.00</td>\n      <td>https://www.imdb.com/title/tt0432318/</td>\n      <td>NaN</td>\n      <td>['Aaron Stanford', 'Paul Schneider', 'Ebon Mos...</td>\n      <td>NaN</td>\n      <td>89 minutes</td>\n      <td>United States</td>\n      <td>English</td>\n      <td>...</td>\n      <td>2006-03-11</td>\n      <td>0.00</td>\n      <td>89.00</td>\n      <td>[{'iso_639_1': 'en', 'name': 'English'}]</td>\n      <td>Released</td>\n      <td>NaN</td>\n      <td>Live Free or Die</td>\n      <td>False</td>\n      <td>5.50</td>\n      <td>8.00</td>\n    </tr>\n    <tr>\n      <th>4992</th>\n      <td>5782</td>\n      <td>https://en.wikipedia.org/wiki/For_the_Love_of_...</td>\n      <td>2,012.00</td>\n      <td>https://www.imdb.com/title/tt1730294/</td>\n      <td>NaN</td>\n      <td>['Yehuda Levi', 'Edward Furlong', 'James Caan'...</td>\n      <td>Andrzej Sekuła</td>\n      <td>93 minutes</td>\n      <td>United States</td>\n      <td>English/Hebrew</td>\n      <td>...</td>\n      <td>2012-06-08</td>\n      <td>0.00</td>\n      <td>93.00</td>\n      <td>[{'iso_639_1': 'en', 'name': 'English'}, {'iso...</td>\n      <td>Released</td>\n      <td>For the love of money is the root of all evil.</td>\n      <td>For the Love of Money</td>\n      <td>False</td>\n      <td>5.60</td>\n      <td>9.00</td>\n    </tr>\n    <tr>\n      <th>5376</th>\n      <td>6214</td>\n      <td>https://en.wikipedia.org/wiki/The_Purge</td>\n      <td>2,013.00</td>\n      <td>https://www.imdb.com/title/tt4094724/</td>\n      <td>NaN</td>\n      <td>NaN</td>\n      <td>NaN</td>\n      <td>NaN</td>\n      <td>NaN</td>\n      <td>NaN</td>\n      <td>...</td>\n      <td>2016-06-29</td>\n      <td>118,587,880.00</td>\n      <td>105.00</td>\n      <td>[{'iso_639_1': 'en', 'name': 'English'}]</td>\n      <td>Released</td>\n      <td>Keep America great</td>\n      <td>The Purge: Election Year</td>\n      <td>False</td>\n      <td>6.10</td>\n      <td>1,356.00</td>\n    </tr>\n  </tbody>\n</table>\n<p>32 rows × 44 columns</p>\n</div>"
     },
     "metadata": {},
     "execution_count": 132
    }
   ],
   "source": [
    "# Check wiki data\n",
    "movies_df[movies_df['release_date_wiki'].isnull()]\n"
   ]
  },
  {
   "cell_type": "code",
   "execution_count": 112,
   "metadata": {},
   "outputs": [],
   "source": [
    "# DECISION & DOCUMENT: Drop Wiki data, as Kaggle data only has 3 NaN values"
   ]
  },
  {
   "cell_type": "code",
   "execution_count": 113,
   "metadata": {},
   "outputs": [],
   "source": [
    "# Drop NaN values from Kaggle Dataset\n",
    "movies_df = movies_df.dropna(subset=['release_date_kaggle'])\n"
   ]
  },
  {
   "cell_type": "code",
   "execution_count": 209,
   "metadata": {},
   "outputs": [
    {
     "output_type": "execute_result",
     "data": {
      "text/plain": [
       "Empty DataFrame\n",
       "Columns: [Unnamed: 0, url, year, imdb_link, Based on, Starring, Cinematography, Running time, Country, Language, Director, Distributor, Editor(s), Composer(s), Producer(s), Production company(s), Writer(s), imdb_id, box_office, budget_wiki, release_date_wiki, running_time, belongs_to_collection, budget_kaggle, genres, homepage, id, original_language, original_title, overview, popularity, poster_path, production_companies, production_countries, release_date_kaggle, revenue, runtime, spoken_languages, status, tagline, title_kaggle, video, vote_average, vote_count]\n",
       "Index: []\n",
       "\n",
       "[0 rows x 44 columns]"
      ],
      "text/html": "<div>\n<style scoped>\n    .dataframe tbody tr th:only-of-type {\n        vertical-align: middle;\n    }\n\n    .dataframe tbody tr th {\n        vertical-align: top;\n    }\n\n    .dataframe thead th {\n        text-align: right;\n    }\n</style>\n<table border=\"1\" class=\"dataframe\">\n  <thead>\n    <tr style=\"text-align: right;\">\n      <th></th>\n      <th>Unnamed: 0</th>\n      <th>url</th>\n      <th>year</th>\n      <th>imdb_link</th>\n      <th>Based on</th>\n      <th>Starring</th>\n      <th>Cinematography</th>\n      <th>Running time</th>\n      <th>Country</th>\n      <th>Language</th>\n      <th>...</th>\n      <th>release_date_kaggle</th>\n      <th>revenue</th>\n      <th>runtime</th>\n      <th>spoken_languages</th>\n      <th>status</th>\n      <th>tagline</th>\n      <th>title_kaggle</th>\n      <th>video</th>\n      <th>vote_average</th>\n      <th>vote_count</th>\n    </tr>\n  </thead>\n  <tbody>\n  </tbody>\n</table>\n<p>0 rows × 44 columns</p>\n</div>"
     },
     "metadata": {},
     "execution_count": 209
    }
   ],
   "source": [
    "movies_df[movies_df['release_date_kaggle'].isnull() == True]"
   ]
  },
  {
   "cell_type": "code",
   "execution_count": 213,
   "metadata": {},
   "outputs": [
    {
     "output_type": "execute_result",
     "data": {
      "text/plain": [
       "English                      5482\n",
       "['English', 'Spanish']         68\n",
       "['English', 'French']          35\n",
       "['English', 'Japanese']        25\n",
       "['English', 'Russian']         23\n",
       "                             ... \n",
       "['English', 'Aramaic']          1\n",
       "['Portuguese', 'English']       1\n",
       "['English', 'Navajo']           1\n",
       "['English', 'Ku']               1\n",
       "['English', 'Hindi']            1\n",
       "Name: Language, Length: 197, dtype: int64"
      ]
     },
     "metadata": {},
     "execution_count": 213
    }
   ],
   "source": [
    "# Language data\n",
    "\n",
    "# Check wiki data for language categories \n",
    "movies_df['Language'].value_counts()"
   ]
  },
  {
   "cell_type": "code",
   "execution_count": 214,
   "metadata": {},
   "outputs": [
    {
     "output_type": "execute_result",
     "data": {
      "text/plain": [
       "en    6005\n",
       "fr      17\n",
       "es      10\n",
       "it       8\n",
       "de       6\n",
       "ja       5\n",
       "pt       4\n",
       "zh       4\n",
       "da       2\n",
       "hi       2\n",
       "pl       2\n",
       "sv       1\n",
       "ar       1\n",
       "he       1\n",
       "ab       1\n",
       "ko       1\n",
       "cn       1\n",
       "ru       1\n",
       "tr       1\n",
       "Name: original_language, dtype: int64"
      ]
     },
     "metadata": {},
     "execution_count": 214
    }
   ],
   "source": [
    "# Check Kaggle data for langauge categories\n",
    "movies_df['original_language'].value_counts(dropna=False)\n"
   ]
  },
  {
   "cell_type": "code",
   "execution_count": null,
   "metadata": {},
   "outputs": [],
   "source": [
    "# Comparing the two datasets, the Wikipedia data is less consistent and will prove more costly to clean\n",
    "# DECISION & DOCUMENT: Drop Wikipedia"
   ]
  },
  {
   "cell_type": "code",
   "execution_count": 215,
   "metadata": {},
   "outputs": [
    {
     "output_type": "execute_result",
     "data": {
      "text/plain": [
       "                                  Production company(s)  \\\n",
       "0                                       Silver Pictures   \n",
       "1                                       Avenue Pictures   \n",
       "2             ['Carolco Pictures', 'IndieProd Company']   \n",
       "3                                                   NaN   \n",
       "4                                                   NaN   \n",
       "...                                                 ...   \n",
       "6072                       ['Fabula', 'Komplizen Film']   \n",
       "6073                           Ball & Chain Productions   \n",
       "6074      ['Arte France Cinéma', 'Why Not Productions']   \n",
       "6075  ['Film Science', 'Rough House Pictures', 'Sync...   \n",
       "6076   ['HanWay Films', 'Little Punk', 'See-Saw Films']   \n",
       "\n",
       "                                   production_companies  \n",
       "0     [{'name': 'Twentieth Century Fox Film Corporat...  \n",
       "1     [{'name': 'Avenue Pictures Productions', 'id':...  \n",
       "2     [{'name': 'IndieProd Company Productions', 'id...  \n",
       "3                [{'name': 'Orion Pictures', 'id': 41}]  \n",
       "4             [{'name': 'Paramount Pictures', 'id': 4}]  \n",
       "...                                                 ...  \n",
       "6072  [{'name': 'Komplizen Film', 'id': 1618}, {'nam...  \n",
       "6073  [{'name': 'Ball & Chain Productions', 'id': 74...  \n",
       "6074  [{'name': 'ARTE France Cinéma', 'id': 94}, {'n...  \n",
       "6075  [{'name': 'Film Science', 'id': 1976}, {'name'...  \n",
       "6076  [{'name': 'HanWay Films', 'id': 2395}, {'name'...  \n",
       "\n",
       "[6073 rows x 2 columns]"
      ],
      "text/html": "<div>\n<style scoped>\n    .dataframe tbody tr th:only-of-type {\n        vertical-align: middle;\n    }\n\n    .dataframe tbody tr th {\n        vertical-align: top;\n    }\n\n    .dataframe thead th {\n        text-align: right;\n    }\n</style>\n<table border=\"1\" class=\"dataframe\">\n  <thead>\n    <tr style=\"text-align: right;\">\n      <th></th>\n      <th>Production company(s)</th>\n      <th>production_companies</th>\n    </tr>\n  </thead>\n  <tbody>\n    <tr>\n      <th>0</th>\n      <td>Silver Pictures</td>\n      <td>[{'name': 'Twentieth Century Fox Film Corporat...</td>\n    </tr>\n    <tr>\n      <th>1</th>\n      <td>Avenue Pictures</td>\n      <td>[{'name': 'Avenue Pictures Productions', 'id':...</td>\n    </tr>\n    <tr>\n      <th>2</th>\n      <td>['Carolco Pictures', 'IndieProd Company']</td>\n      <td>[{'name': 'IndieProd Company Productions', 'id...</td>\n    </tr>\n    <tr>\n      <th>3</th>\n      <td>NaN</td>\n      <td>[{'name': 'Orion Pictures', 'id': 41}]</td>\n    </tr>\n    <tr>\n      <th>4</th>\n      <td>NaN</td>\n      <td>[{'name': 'Paramount Pictures', 'id': 4}]</td>\n    </tr>\n    <tr>\n      <th>...</th>\n      <td>...</td>\n      <td>...</td>\n    </tr>\n    <tr>\n      <th>6072</th>\n      <td>['Fabula', 'Komplizen Film']</td>\n      <td>[{'name': 'Komplizen Film', 'id': 1618}, {'nam...</td>\n    </tr>\n    <tr>\n      <th>6073</th>\n      <td>Ball &amp; Chain Productions</td>\n      <td>[{'name': 'Ball &amp; Chain Productions', 'id': 74...</td>\n    </tr>\n    <tr>\n      <th>6074</th>\n      <td>['Arte France Cinéma', 'Why Not Productions']</td>\n      <td>[{'name': 'ARTE France Cinéma', 'id': 94}, {'n...</td>\n    </tr>\n    <tr>\n      <th>6075</th>\n      <td>['Film Science', 'Rough House Pictures', 'Sync...</td>\n      <td>[{'name': 'Film Science', 'id': 1976}, {'name'...</td>\n    </tr>\n    <tr>\n      <th>6076</th>\n      <td>['HanWay Films', 'Little Punk', 'See-Saw Films']</td>\n      <td>[{'name': 'HanWay Films', 'id': 2395}, {'name'...</td>\n    </tr>\n  </tbody>\n</table>\n<p>6073 rows × 2 columns</p>\n</div>"
     },
     "metadata": {},
     "execution_count": 215
    }
   ],
   "source": [
    "# Production companies\n",
    "\n",
    "movies_df[['Production company(s)','production_companies']]\n"
   ]
  },
  {
   "cell_type": "code",
   "execution_count": null,
   "metadata": {},
   "outputs": [],
   "source": [
    "# Wiki                     Movielens                Resolution\n",
    "#--------------------------------------------------------------------------\n",
    "# title_wiki               title_kaggle             Drop Wiki\n",
    "# running_time             runtime                  Keep Kaggle, replace 0 values with Wiki\n",
    "# budget_wiki              budget_kaggle            Keep Kaggle, replace 0 values with Wiki\n",
    "# box_office               revenue                  Keep Kaggle, replace 0 values with Wiki\n",
    "# release_date_wiki        release_date_kaggle      Drop Wiki\n",
    "# Language                 original_language        Drop Wiki\n",
    "# Production company(s)    production_companies     Drop Wiki"
   ]
  },
  {
   "cell_type": "code",
   "execution_count": 217,
   "metadata": {},
   "outputs": [],
   "source": [
    "# Execution\n",
    "\n",
    "\n",
    "\n",
    "movies_df.drop(columns=['release_date_wiki','Language','Production company(s)'], inplace=True)\n"
   ]
  },
  {
   "cell_type": "code",
   "execution_count": 218,
   "metadata": {},
   "outputs": [],
   "source": [
    "# Create a column to drop redundant columns in the future and replace missing Kaggle Data with wiki\n",
    "def fill_missing_kaggle_data(df, kaggle_column, wiki_column):\n",
    "    df[kaggle_column] = df.apply(\n",
    "        lambda row: row[wiki_column] if row[kaggle_column] == 0 else row[kaggle_column]\n",
    "        , axis=1)\n",
    "    df.drop(columns=wiki_column, inplace=True)\n"
   ]
  },
  {
   "cell_type": "code",
   "execution_count": 220,
   "metadata": {},
   "outputs": [
    {
     "output_type": "error",
     "ename": "KeyError",
     "evalue": "\"['running_time'] not found in axis\"",
     "traceback": [
      "\u001b[0;31m---------------------------------------------------------------------------\u001b[0m",
      "\u001b[0;31mKeyError\u001b[0m                                  Traceback (most recent call last)",
      "\u001b[0;32m<ipython-input-220-0562191fbdab>\u001b[0m in \u001b[0;36m<module>\u001b[0;34m\u001b[0m\n\u001b[1;32m      1\u001b[0m \u001b[0;31m# Use our function to apply our strategy to runtime, budget, and revenue columns\u001b[0m\u001b[0;34m\u001b[0m\u001b[0;34m\u001b[0m\u001b[0;34m\u001b[0m\u001b[0m\n\u001b[0;32m----> 2\u001b[0;31m \u001b[0mfill_missing_kaggle_data\u001b[0m\u001b[0;34m(\u001b[0m\u001b[0mmovies_df\u001b[0m\u001b[0;34m,\u001b[0m \u001b[0;34m'runtime'\u001b[0m\u001b[0;34m,\u001b[0m \u001b[0;34m'running_time'\u001b[0m\u001b[0;34m)\u001b[0m\u001b[0;34m\u001b[0m\u001b[0;34m\u001b[0m\u001b[0m\n\u001b[0m\u001b[1;32m      3\u001b[0m \u001b[0mfill_missing_kaggle_data\u001b[0m\u001b[0;34m(\u001b[0m\u001b[0mmovies_df\u001b[0m\u001b[0;34m,\u001b[0m \u001b[0;34m'budget_kaggle'\u001b[0m\u001b[0;34m,\u001b[0m \u001b[0;34m'budget_wiki'\u001b[0m\u001b[0;34m)\u001b[0m\u001b[0;34m\u001b[0m\u001b[0;34m\u001b[0m\u001b[0m\n\u001b[1;32m      4\u001b[0m \u001b[0mfill_missing_kaggle_data\u001b[0m\u001b[0;34m(\u001b[0m\u001b[0mmovies_df\u001b[0m\u001b[0;34m,\u001b[0m \u001b[0;34m'revenue'\u001b[0m\u001b[0;34m,\u001b[0m \u001b[0;34m'box_office'\u001b[0m\u001b[0;34m)\u001b[0m\u001b[0;34m\u001b[0m\u001b[0;34m\u001b[0m\u001b[0m\n\u001b[1;32m      5\u001b[0m \u001b[0mmovies_df\u001b[0m\u001b[0;34m\u001b[0m\u001b[0;34m\u001b[0m\u001b[0m\n",
      "\u001b[0;32m<ipython-input-218-abc54eac5e1c>\u001b[0m in \u001b[0;36mfill_missing_kaggle_data\u001b[0;34m(df, kaggle_column, wiki_column)\u001b[0m\n\u001b[1;32m      4\u001b[0m         \u001b[0;32mlambda\u001b[0m \u001b[0mrow\u001b[0m\u001b[0;34m:\u001b[0m \u001b[0mrow\u001b[0m\u001b[0;34m[\u001b[0m\u001b[0mwiki_column\u001b[0m\u001b[0;34m]\u001b[0m \u001b[0;32mif\u001b[0m \u001b[0mrow\u001b[0m\u001b[0;34m[\u001b[0m\u001b[0mkaggle_column\u001b[0m\u001b[0;34m]\u001b[0m \u001b[0;34m==\u001b[0m \u001b[0;36m0\u001b[0m \u001b[0;32melse\u001b[0m \u001b[0mrow\u001b[0m\u001b[0;34m[\u001b[0m\u001b[0mkaggle_column\u001b[0m\u001b[0;34m]\u001b[0m\u001b[0;34m\u001b[0m\u001b[0;34m\u001b[0m\u001b[0m\n\u001b[1;32m      5\u001b[0m         , axis=1)\n\u001b[0;32m----> 6\u001b[0;31m     \u001b[0mdf\u001b[0m\u001b[0;34m.\u001b[0m\u001b[0mdrop\u001b[0m\u001b[0;34m(\u001b[0m\u001b[0mcolumns\u001b[0m\u001b[0;34m=\u001b[0m\u001b[0mwiki_column\u001b[0m\u001b[0;34m,\u001b[0m \u001b[0minplace\u001b[0m\u001b[0;34m=\u001b[0m\u001b[0;32mTrue\u001b[0m\u001b[0;34m)\u001b[0m\u001b[0;34m\u001b[0m\u001b[0;34m\u001b[0m\u001b[0m\n\u001b[0m",
      "\u001b[0;32m~/anaconda3/envs/PythonData/lib/python3.7/site-packages/pandas/core/frame.py\u001b[0m in \u001b[0;36mdrop\u001b[0;34m(self, labels, axis, index, columns, level, inplace, errors)\u001b[0m\n\u001b[1;32m   4168\u001b[0m             \u001b[0mlevel\u001b[0m\u001b[0;34m=\u001b[0m\u001b[0mlevel\u001b[0m\u001b[0;34m,\u001b[0m\u001b[0;34m\u001b[0m\u001b[0;34m\u001b[0m\u001b[0m\n\u001b[1;32m   4169\u001b[0m             \u001b[0minplace\u001b[0m\u001b[0;34m=\u001b[0m\u001b[0minplace\u001b[0m\u001b[0;34m,\u001b[0m\u001b[0;34m\u001b[0m\u001b[0;34m\u001b[0m\u001b[0m\n\u001b[0;32m-> 4170\u001b[0;31m             \u001b[0merrors\u001b[0m\u001b[0;34m=\u001b[0m\u001b[0merrors\u001b[0m\u001b[0;34m,\u001b[0m\u001b[0;34m\u001b[0m\u001b[0;34m\u001b[0m\u001b[0m\n\u001b[0m\u001b[1;32m   4171\u001b[0m         )\n\u001b[1;32m   4172\u001b[0m \u001b[0;34m\u001b[0m\u001b[0m\n",
      "\u001b[0;32m~/anaconda3/envs/PythonData/lib/python3.7/site-packages/pandas/core/generic.py\u001b[0m in \u001b[0;36mdrop\u001b[0;34m(self, labels, axis, index, columns, level, inplace, errors)\u001b[0m\n\u001b[1;32m   3885\u001b[0m         \u001b[0;32mfor\u001b[0m \u001b[0maxis\u001b[0m\u001b[0;34m,\u001b[0m \u001b[0mlabels\u001b[0m \u001b[0;32min\u001b[0m \u001b[0maxes\u001b[0m\u001b[0;34m.\u001b[0m\u001b[0mitems\u001b[0m\u001b[0;34m(\u001b[0m\u001b[0;34m)\u001b[0m\u001b[0;34m:\u001b[0m\u001b[0;34m\u001b[0m\u001b[0;34m\u001b[0m\u001b[0m\n\u001b[1;32m   3886\u001b[0m             \u001b[0;32mif\u001b[0m \u001b[0mlabels\u001b[0m \u001b[0;32mis\u001b[0m \u001b[0;32mnot\u001b[0m \u001b[0;32mNone\u001b[0m\u001b[0;34m:\u001b[0m\u001b[0;34m\u001b[0m\u001b[0;34m\u001b[0m\u001b[0m\n\u001b[0;32m-> 3887\u001b[0;31m                 \u001b[0mobj\u001b[0m \u001b[0;34m=\u001b[0m \u001b[0mobj\u001b[0m\u001b[0;34m.\u001b[0m\u001b[0m_drop_axis\u001b[0m\u001b[0;34m(\u001b[0m\u001b[0mlabels\u001b[0m\u001b[0;34m,\u001b[0m \u001b[0maxis\u001b[0m\u001b[0;34m,\u001b[0m \u001b[0mlevel\u001b[0m\u001b[0;34m=\u001b[0m\u001b[0mlevel\u001b[0m\u001b[0;34m,\u001b[0m \u001b[0merrors\u001b[0m\u001b[0;34m=\u001b[0m\u001b[0merrors\u001b[0m\u001b[0;34m)\u001b[0m\u001b[0;34m\u001b[0m\u001b[0;34m\u001b[0m\u001b[0m\n\u001b[0m\u001b[1;32m   3888\u001b[0m \u001b[0;34m\u001b[0m\u001b[0m\n\u001b[1;32m   3889\u001b[0m         \u001b[0;32mif\u001b[0m \u001b[0minplace\u001b[0m\u001b[0;34m:\u001b[0m\u001b[0;34m\u001b[0m\u001b[0;34m\u001b[0m\u001b[0m\n",
      "\u001b[0;32m~/anaconda3/envs/PythonData/lib/python3.7/site-packages/pandas/core/generic.py\u001b[0m in \u001b[0;36m_drop_axis\u001b[0;34m(self, labels, axis, level, errors)\u001b[0m\n\u001b[1;32m   3919\u001b[0m                 \u001b[0mnew_axis\u001b[0m \u001b[0;34m=\u001b[0m \u001b[0maxis\u001b[0m\u001b[0;34m.\u001b[0m\u001b[0mdrop\u001b[0m\u001b[0;34m(\u001b[0m\u001b[0mlabels\u001b[0m\u001b[0;34m,\u001b[0m \u001b[0mlevel\u001b[0m\u001b[0;34m=\u001b[0m\u001b[0mlevel\u001b[0m\u001b[0;34m,\u001b[0m \u001b[0merrors\u001b[0m\u001b[0;34m=\u001b[0m\u001b[0merrors\u001b[0m\u001b[0;34m)\u001b[0m\u001b[0;34m\u001b[0m\u001b[0;34m\u001b[0m\u001b[0m\n\u001b[1;32m   3920\u001b[0m             \u001b[0;32melse\u001b[0m\u001b[0;34m:\u001b[0m\u001b[0;34m\u001b[0m\u001b[0;34m\u001b[0m\u001b[0m\n\u001b[0;32m-> 3921\u001b[0;31m                 \u001b[0mnew_axis\u001b[0m \u001b[0;34m=\u001b[0m \u001b[0maxis\u001b[0m\u001b[0;34m.\u001b[0m\u001b[0mdrop\u001b[0m\u001b[0;34m(\u001b[0m\u001b[0mlabels\u001b[0m\u001b[0;34m,\u001b[0m \u001b[0merrors\u001b[0m\u001b[0;34m=\u001b[0m\u001b[0merrors\u001b[0m\u001b[0;34m)\u001b[0m\u001b[0;34m\u001b[0m\u001b[0;34m\u001b[0m\u001b[0m\n\u001b[0m\u001b[1;32m   3922\u001b[0m             \u001b[0mresult\u001b[0m \u001b[0;34m=\u001b[0m \u001b[0mself\u001b[0m\u001b[0;34m.\u001b[0m\u001b[0mreindex\u001b[0m\u001b[0;34m(\u001b[0m\u001b[0;34m**\u001b[0m\u001b[0;34m{\u001b[0m\u001b[0maxis_name\u001b[0m\u001b[0;34m:\u001b[0m \u001b[0mnew_axis\u001b[0m\u001b[0;34m}\u001b[0m\u001b[0;34m)\u001b[0m\u001b[0;34m\u001b[0m\u001b[0;34m\u001b[0m\u001b[0m\n\u001b[1;32m   3923\u001b[0m \u001b[0;34m\u001b[0m\u001b[0m\n",
      "\u001b[0;32m~/anaconda3/envs/PythonData/lib/python3.7/site-packages/pandas/core/indexes/base.py\u001b[0m in \u001b[0;36mdrop\u001b[0;34m(self, labels, errors)\u001b[0m\n\u001b[1;32m   5280\u001b[0m         \u001b[0;32mif\u001b[0m \u001b[0mmask\u001b[0m\u001b[0;34m.\u001b[0m\u001b[0many\u001b[0m\u001b[0;34m(\u001b[0m\u001b[0;34m)\u001b[0m\u001b[0;34m:\u001b[0m\u001b[0;34m\u001b[0m\u001b[0;34m\u001b[0m\u001b[0m\n\u001b[1;32m   5281\u001b[0m             \u001b[0;32mif\u001b[0m \u001b[0merrors\u001b[0m \u001b[0;34m!=\u001b[0m \u001b[0;34m\"ignore\"\u001b[0m\u001b[0;34m:\u001b[0m\u001b[0;34m\u001b[0m\u001b[0;34m\u001b[0m\u001b[0m\n\u001b[0;32m-> 5282\u001b[0;31m                 \u001b[0;32mraise\u001b[0m \u001b[0mKeyError\u001b[0m\u001b[0;34m(\u001b[0m\u001b[0;34mf\"{labels[mask]} not found in axis\"\u001b[0m\u001b[0;34m)\u001b[0m\u001b[0;34m\u001b[0m\u001b[0;34m\u001b[0m\u001b[0m\n\u001b[0m\u001b[1;32m   5283\u001b[0m             \u001b[0mindexer\u001b[0m \u001b[0;34m=\u001b[0m \u001b[0mindexer\u001b[0m\u001b[0;34m[\u001b[0m\u001b[0;34m~\u001b[0m\u001b[0mmask\u001b[0m\u001b[0;34m]\u001b[0m\u001b[0;34m\u001b[0m\u001b[0;34m\u001b[0m\u001b[0m\n\u001b[1;32m   5284\u001b[0m         \u001b[0;32mreturn\u001b[0m \u001b[0mself\u001b[0m\u001b[0;34m.\u001b[0m\u001b[0mdelete\u001b[0m\u001b[0;34m(\u001b[0m\u001b[0mindexer\u001b[0m\u001b[0;34m)\u001b[0m\u001b[0;34m\u001b[0m\u001b[0;34m\u001b[0m\u001b[0m\n",
      "\u001b[0;31mKeyError\u001b[0m: \"['running_time'] not found in axis\""
     ]
    }
   ],
   "source": [
    "# Use our function to apply our strategy to runtime, budget, and revenue columns\n",
    "fill_missing_kaggle_data(movies_df, 'runtime', 'running_time')\n",
    "fill_missing_kaggle_data(movies_df, 'budget_kaggle', 'budget_wiki')\n",
    "fill_missing_kaggle_data(movies_df, 'revenue', 'box_office')\n",
    "movies_df"
   ]
  },
  {
   "cell_type": "code",
   "execution_count": 223,
   "metadata": {},
   "outputs": [
    {
     "output_type": "stream",
     "name": "stdout",
     "text": [
      "video\n"
     ]
    }
   ],
   "source": [
    "# Since we just merged data and done some transforms (filling in missing values), we should check if there are any columns with only one value (ie all data False in a Boolean column)\n",
    "for col in movies_df.columns:\n",
    "    value_counts = movies_df[col].value_counts(dropna=False)\n",
    "    num_values = len(value_counts)\n",
    "    if num_values == 1:\n",
    "        print(col)"
   ]
  },
  {
   "cell_type": "code",
   "execution_count": 224,
   "metadata": {},
   "outputs": [
    {
     "output_type": "stream",
     "name": "stdout",
     "text": [
      "video\n"
     ]
    },
    {
     "output_type": "execute_result",
     "data": {
      "text/plain": [
       "[None]"
      ]
     },
     "metadata": {},
     "execution_count": 224
    }
   ],
   "source": [
    "# Alternative list comprehension of the for loop above\n",
    "[print(col) for col in movies_df.columns if len(movies_df[col].value_counts(dropna=False)) == 1]"
   ]
  },
  {
   "cell_type": "code",
   "execution_count": 227,
   "metadata": {},
   "outputs": [],
   "source": [
    "# Drop the video column\n",
    "movies_df.drop(columns='video',inplace=True)"
   ]
  },
  {
   "cell_type": "code",
   "execution_count": 230,
   "metadata": {},
   "outputs": [
    {
     "output_type": "error",
     "ename": "KeyError",
     "evalue": "\"Passing list-likes to .loc or [] with any missing labels is no longer supported. The following labels were missing: Index(['id', 'title_kaggle', 'url', 'budget_kaggle', 'release_date_kaggle',\\n       ...\\n       'Cinematography', 'Editor(s)', 'Writer(s)', 'Composer(s)', 'Based on'],\\n      dtype='object', length=15). See https://pandas.pydata.org/pandas-docs/stable/user_guide/indexing.html#deprecate-loc-reindex-listlike\"",
     "traceback": [
      "\u001b[0;31m---------------------------------------------------------------------------\u001b[0m",
      "\u001b[0;31mKeyError\u001b[0m                                  Traceback (most recent call last)",
      "\u001b[0;32m<ipython-input-230-3e78575183dd>\u001b[0m in \u001b[0;36m<module>\u001b[0;34m\u001b[0m\n\u001b[1;32m     13\u001b[0m                        \u001b[0;34m'genres'\u001b[0m\u001b[0;34m,\u001b[0m\u001b[0;34m'original_language'\u001b[0m\u001b[0;34m,\u001b[0m\u001b[0;34m'overview'\u001b[0m\u001b[0;34m,\u001b[0m\u001b[0;34m'spoken_languages'\u001b[0m\u001b[0;34m,\u001b[0m\u001b[0;34m'Country'\u001b[0m\u001b[0;34m,\u001b[0m\u001b[0;34m\u001b[0m\u001b[0;34m\u001b[0m\u001b[0m\n\u001b[1;32m     14\u001b[0m                        \u001b[0;34m'production_companies'\u001b[0m\u001b[0;34m,\u001b[0m\u001b[0;34m'production_countries'\u001b[0m\u001b[0;34m,\u001b[0m\u001b[0;34m'Distributor'\u001b[0m\u001b[0;34m,\u001b[0m\u001b[0;34m\u001b[0m\u001b[0;34m\u001b[0m\u001b[0m\n\u001b[0;32m---> 15\u001b[0;31m                        \u001b[0;34m'Producer(s)'\u001b[0m\u001b[0;34m,\u001b[0m\u001b[0;34m'Director'\u001b[0m\u001b[0;34m,\u001b[0m\u001b[0;34m'Starring'\u001b[0m\u001b[0;34m,\u001b[0m\u001b[0;34m'Cinematography'\u001b[0m\u001b[0;34m,\u001b[0m\u001b[0;34m'Editor(s)'\u001b[0m\u001b[0;34m,\u001b[0m\u001b[0;34m'Writer(s)'\u001b[0m\u001b[0;34m,\u001b[0m\u001b[0;34m'Composer(s)'\u001b[0m\u001b[0;34m,\u001b[0m\u001b[0;34m'Based on'\u001b[0m\u001b[0;34m\u001b[0m\u001b[0;34m\u001b[0m\u001b[0m\n\u001b[0m\u001b[1;32m     16\u001b[0m                       ]]\n\u001b[1;32m     17\u001b[0m \u001b[0;34m\u001b[0m\u001b[0m\n",
      "\u001b[0;32m~/anaconda3/envs/PythonData/lib/python3.7/site-packages/pandas/core/indexing.py\u001b[0m in \u001b[0;36m__getitem__\u001b[0;34m(self, key)\u001b[0m\n\u001b[1;32m    871\u001b[0m                     \u001b[0;31m# AttributeError for IntervalTree get_value\u001b[0m\u001b[0;34m\u001b[0m\u001b[0;34m\u001b[0m\u001b[0;34m\u001b[0m\u001b[0m\n\u001b[1;32m    872\u001b[0m                     \u001b[0;32mpass\u001b[0m\u001b[0;34m\u001b[0m\u001b[0;34m\u001b[0m\u001b[0m\n\u001b[0;32m--> 873\u001b[0;31m             \u001b[0;32mreturn\u001b[0m \u001b[0mself\u001b[0m\u001b[0;34m.\u001b[0m\u001b[0m_getitem_tuple\u001b[0m\u001b[0;34m(\u001b[0m\u001b[0mkey\u001b[0m\u001b[0;34m)\u001b[0m\u001b[0;34m\u001b[0m\u001b[0;34m\u001b[0m\u001b[0m\n\u001b[0m\u001b[1;32m    874\u001b[0m         \u001b[0;32melse\u001b[0m\u001b[0;34m:\u001b[0m\u001b[0;34m\u001b[0m\u001b[0;34m\u001b[0m\u001b[0m\n\u001b[1;32m    875\u001b[0m             \u001b[0;31m# we by definition only have the 0th axis\u001b[0m\u001b[0;34m\u001b[0m\u001b[0;34m\u001b[0m\u001b[0;34m\u001b[0m\u001b[0m\n",
      "\u001b[0;32m~/anaconda3/envs/PythonData/lib/python3.7/site-packages/pandas/core/indexing.py\u001b[0m in \u001b[0;36m_getitem_tuple\u001b[0;34m(self, tup)\u001b[0m\n\u001b[1;32m   1053\u001b[0m             \u001b[0;32mreturn\u001b[0m \u001b[0mself\u001b[0m\u001b[0;34m.\u001b[0m\u001b[0m_multi_take\u001b[0m\u001b[0;34m(\u001b[0m\u001b[0mtup\u001b[0m\u001b[0;34m)\u001b[0m\u001b[0;34m\u001b[0m\u001b[0;34m\u001b[0m\u001b[0m\n\u001b[1;32m   1054\u001b[0m \u001b[0;34m\u001b[0m\u001b[0m\n\u001b[0;32m-> 1055\u001b[0;31m         \u001b[0;32mreturn\u001b[0m \u001b[0mself\u001b[0m\u001b[0;34m.\u001b[0m\u001b[0m_getitem_tuple_same_dim\u001b[0m\u001b[0;34m(\u001b[0m\u001b[0mtup\u001b[0m\u001b[0;34m)\u001b[0m\u001b[0;34m\u001b[0m\u001b[0;34m\u001b[0m\u001b[0m\n\u001b[0m\u001b[1;32m   1056\u001b[0m \u001b[0;34m\u001b[0m\u001b[0m\n\u001b[1;32m   1057\u001b[0m     \u001b[0;32mdef\u001b[0m \u001b[0m_get_label\u001b[0m\u001b[0;34m(\u001b[0m\u001b[0mself\u001b[0m\u001b[0;34m,\u001b[0m \u001b[0mlabel\u001b[0m\u001b[0;34m,\u001b[0m \u001b[0maxis\u001b[0m\u001b[0;34m:\u001b[0m \u001b[0mint\u001b[0m\u001b[0;34m)\u001b[0m\u001b[0;34m:\u001b[0m\u001b[0;34m\u001b[0m\u001b[0;34m\u001b[0m\u001b[0m\n",
      "\u001b[0;32m~/anaconda3/envs/PythonData/lib/python3.7/site-packages/pandas/core/indexing.py\u001b[0m in \u001b[0;36m_getitem_tuple_same_dim\u001b[0;34m(self, tup)\u001b[0m\n\u001b[1;32m    748\u001b[0m                 \u001b[0;32mcontinue\u001b[0m\u001b[0;34m\u001b[0m\u001b[0;34m\u001b[0m\u001b[0m\n\u001b[1;32m    749\u001b[0m \u001b[0;34m\u001b[0m\u001b[0m\n\u001b[0;32m--> 750\u001b[0;31m             \u001b[0mretval\u001b[0m \u001b[0;34m=\u001b[0m \u001b[0mgetattr\u001b[0m\u001b[0;34m(\u001b[0m\u001b[0mretval\u001b[0m\u001b[0;34m,\u001b[0m \u001b[0mself\u001b[0m\u001b[0;34m.\u001b[0m\u001b[0mname\u001b[0m\u001b[0;34m)\u001b[0m\u001b[0;34m.\u001b[0m\u001b[0m_getitem_axis\u001b[0m\u001b[0;34m(\u001b[0m\u001b[0mkey\u001b[0m\u001b[0;34m,\u001b[0m \u001b[0maxis\u001b[0m\u001b[0;34m=\u001b[0m\u001b[0mi\u001b[0m\u001b[0;34m)\u001b[0m\u001b[0;34m\u001b[0m\u001b[0;34m\u001b[0m\u001b[0m\n\u001b[0m\u001b[1;32m    751\u001b[0m             \u001b[0;31m# We should never have retval.ndim < self.ndim, as that should\u001b[0m\u001b[0;34m\u001b[0m\u001b[0;34m\u001b[0m\u001b[0;34m\u001b[0m\u001b[0m\n\u001b[1;32m    752\u001b[0m             \u001b[0;31m#  be handled by the _getitem_lowerdim call above.\u001b[0m\u001b[0;34m\u001b[0m\u001b[0;34m\u001b[0m\u001b[0;34m\u001b[0m\u001b[0m\n",
      "\u001b[0;32m~/anaconda3/envs/PythonData/lib/python3.7/site-packages/pandas/core/indexing.py\u001b[0m in \u001b[0;36m_getitem_axis\u001b[0;34m(self, key, axis)\u001b[0m\n\u001b[1;32m   1097\u001b[0m                     \u001b[0;32mraise\u001b[0m \u001b[0mValueError\u001b[0m\u001b[0;34m(\u001b[0m\u001b[0;34m\"Cannot index with multidimensional key\"\u001b[0m\u001b[0;34m)\u001b[0m\u001b[0;34m\u001b[0m\u001b[0;34m\u001b[0m\u001b[0m\n\u001b[1;32m   1098\u001b[0m \u001b[0;34m\u001b[0m\u001b[0m\n\u001b[0;32m-> 1099\u001b[0;31m                 \u001b[0;32mreturn\u001b[0m \u001b[0mself\u001b[0m\u001b[0;34m.\u001b[0m\u001b[0m_getitem_iterable\u001b[0m\u001b[0;34m(\u001b[0m\u001b[0mkey\u001b[0m\u001b[0;34m,\u001b[0m \u001b[0maxis\u001b[0m\u001b[0;34m=\u001b[0m\u001b[0maxis\u001b[0m\u001b[0;34m)\u001b[0m\u001b[0;34m\u001b[0m\u001b[0;34m\u001b[0m\u001b[0m\n\u001b[0m\u001b[1;32m   1100\u001b[0m \u001b[0;34m\u001b[0m\u001b[0m\n\u001b[1;32m   1101\u001b[0m             \u001b[0;31m# nested tuple slicing\u001b[0m\u001b[0;34m\u001b[0m\u001b[0;34m\u001b[0m\u001b[0;34m\u001b[0m\u001b[0m\n",
      "\u001b[0;32m~/anaconda3/envs/PythonData/lib/python3.7/site-packages/pandas/core/indexing.py\u001b[0m in \u001b[0;36m_getitem_iterable\u001b[0;34m(self, key, axis)\u001b[0m\n\u001b[1;32m   1035\u001b[0m \u001b[0;34m\u001b[0m\u001b[0m\n\u001b[1;32m   1036\u001b[0m         \u001b[0;31m# A collection of keys\u001b[0m\u001b[0;34m\u001b[0m\u001b[0;34m\u001b[0m\u001b[0;34m\u001b[0m\u001b[0m\n\u001b[0;32m-> 1037\u001b[0;31m         \u001b[0mkeyarr\u001b[0m\u001b[0;34m,\u001b[0m \u001b[0mindexer\u001b[0m \u001b[0;34m=\u001b[0m \u001b[0mself\u001b[0m\u001b[0;34m.\u001b[0m\u001b[0m_get_listlike_indexer\u001b[0m\u001b[0;34m(\u001b[0m\u001b[0mkey\u001b[0m\u001b[0;34m,\u001b[0m \u001b[0maxis\u001b[0m\u001b[0;34m,\u001b[0m \u001b[0mraise_missing\u001b[0m\u001b[0;34m=\u001b[0m\u001b[0;32mFalse\u001b[0m\u001b[0;34m)\u001b[0m\u001b[0;34m\u001b[0m\u001b[0;34m\u001b[0m\u001b[0m\n\u001b[0m\u001b[1;32m   1038\u001b[0m         return self.obj._reindex_with_indexers(\n\u001b[1;32m   1039\u001b[0m             \u001b[0;34m{\u001b[0m\u001b[0maxis\u001b[0m\u001b[0;34m:\u001b[0m \u001b[0;34m[\u001b[0m\u001b[0mkeyarr\u001b[0m\u001b[0;34m,\u001b[0m \u001b[0mindexer\u001b[0m\u001b[0;34m]\u001b[0m\u001b[0;34m}\u001b[0m\u001b[0;34m,\u001b[0m \u001b[0mcopy\u001b[0m\u001b[0;34m=\u001b[0m\u001b[0;32mTrue\u001b[0m\u001b[0;34m,\u001b[0m \u001b[0mallow_dups\u001b[0m\u001b[0;34m=\u001b[0m\u001b[0;32mTrue\u001b[0m\u001b[0;34m\u001b[0m\u001b[0;34m\u001b[0m\u001b[0m\n",
      "\u001b[0;32m~/anaconda3/envs/PythonData/lib/python3.7/site-packages/pandas/core/indexing.py\u001b[0m in \u001b[0;36m_get_listlike_indexer\u001b[0;34m(self, key, axis, raise_missing)\u001b[0m\n\u001b[1;32m   1252\u001b[0m             \u001b[0mkeyarr\u001b[0m\u001b[0;34m,\u001b[0m \u001b[0mindexer\u001b[0m\u001b[0;34m,\u001b[0m \u001b[0mnew_indexer\u001b[0m \u001b[0;34m=\u001b[0m \u001b[0max\u001b[0m\u001b[0;34m.\u001b[0m\u001b[0m_reindex_non_unique\u001b[0m\u001b[0;34m(\u001b[0m\u001b[0mkeyarr\u001b[0m\u001b[0;34m)\u001b[0m\u001b[0;34m\u001b[0m\u001b[0;34m\u001b[0m\u001b[0m\n\u001b[1;32m   1253\u001b[0m \u001b[0;34m\u001b[0m\u001b[0m\n\u001b[0;32m-> 1254\u001b[0;31m         \u001b[0mself\u001b[0m\u001b[0;34m.\u001b[0m\u001b[0m_validate_read_indexer\u001b[0m\u001b[0;34m(\u001b[0m\u001b[0mkeyarr\u001b[0m\u001b[0;34m,\u001b[0m \u001b[0mindexer\u001b[0m\u001b[0;34m,\u001b[0m \u001b[0maxis\u001b[0m\u001b[0;34m,\u001b[0m \u001b[0mraise_missing\u001b[0m\u001b[0;34m=\u001b[0m\u001b[0mraise_missing\u001b[0m\u001b[0;34m)\u001b[0m\u001b[0;34m\u001b[0m\u001b[0;34m\u001b[0m\u001b[0m\n\u001b[0m\u001b[1;32m   1255\u001b[0m         \u001b[0;32mreturn\u001b[0m \u001b[0mkeyarr\u001b[0m\u001b[0;34m,\u001b[0m \u001b[0mindexer\u001b[0m\u001b[0;34m\u001b[0m\u001b[0;34m\u001b[0m\u001b[0m\n\u001b[1;32m   1256\u001b[0m \u001b[0;34m\u001b[0m\u001b[0m\n",
      "\u001b[0;32m~/anaconda3/envs/PythonData/lib/python3.7/site-packages/pandas/core/indexing.py\u001b[0m in \u001b[0;36m_validate_read_indexer\u001b[0;34m(self, key, indexer, axis, raise_missing)\u001b[0m\n\u001b[1;32m   1314\u001b[0m                 \u001b[0;32mwith\u001b[0m \u001b[0moption_context\u001b[0m\u001b[0;34m(\u001b[0m\u001b[0;34m\"display.max_seq_items\"\u001b[0m\u001b[0;34m,\u001b[0m \u001b[0;36m10\u001b[0m\u001b[0;34m,\u001b[0m \u001b[0;34m\"display.width\"\u001b[0m\u001b[0;34m,\u001b[0m \u001b[0;36m80\u001b[0m\u001b[0;34m)\u001b[0m\u001b[0;34m:\u001b[0m\u001b[0;34m\u001b[0m\u001b[0;34m\u001b[0m\u001b[0m\n\u001b[1;32m   1315\u001b[0m                     raise KeyError(\n\u001b[0;32m-> 1316\u001b[0;31m                         \u001b[0;34m\"Passing list-likes to .loc or [] with any missing labels \"\u001b[0m\u001b[0;34m\u001b[0m\u001b[0;34m\u001b[0m\u001b[0m\n\u001b[0m\u001b[1;32m   1317\u001b[0m                         \u001b[0;34m\"is no longer supported. \"\u001b[0m\u001b[0;34m\u001b[0m\u001b[0;34m\u001b[0m\u001b[0m\n\u001b[1;32m   1318\u001b[0m                         \u001b[0;34mf\"The following labels were missing: {not_found}. \"\u001b[0m\u001b[0;34m\u001b[0m\u001b[0;34m\u001b[0m\u001b[0m\n",
      "\u001b[0;31mKeyError\u001b[0m: \"Passing list-likes to .loc or [] with any missing labels is no longer supported. The following labels were missing: Index(['id', 'title_kaggle', 'url', 'budget_kaggle', 'release_date_kaggle',\\n       ...\\n       'Cinematography', 'Editor(s)', 'Writer(s)', 'Composer(s)', 'Based on'],\\n      dtype='object', length=15). See https://pandas.pydata.org/pandas-docs/stable/user_guide/indexing.html#deprecate-loc-reindex-listlike\""
     ]
    }
   ],
   "source": [
    "# Reorder columns to present the dataframe more clearly:\n",
    "# Consider the following organizational paradigm:\n",
    "'''\n",
    "Identifying information (IDs, titles, URLs, etc.)\n",
    "Quantitative facts (runtime, budget, revenue, etc.)\n",
    "Qualitative facts (genres, languages, country, etc.)\n",
    "Business data (production companies, distributors, etc.)\n",
    "People (producers, director, cast, writers, etc.)\n",
    "'''\n",
    "# Use the .loc() method to capture all rows and reorder the columns accordingly by passing in a list of reodrered column names\n",
    "movies_df = movies_df.loc[:, ['imdb_id','id','title_kaggle','original_title','tagline','belongs_to_collection','url','imdb_link',\n",
    "                       'runtime','budget_kaggle','revenue','release_date_kaggle','popularity','vote_average','vote_count',\n",
    "                       'genres','original_language','overview','spoken_languages','Country',\n",
    "                       'production_companies','production_countries','Distributor',\n",
    "                       'Producer(s)','Director','Starring','Cinematography','Editor(s)','Writer(s)','Composer(s)','Based on'\n",
    "                      ]]\n",
    "\n",
    "# Alternatively we can pass in a new list into the index of the dataframe;\n",
    "    # movies_df[['new_column_name_1', 'new_column_name_2']]"
   ]
  },
  {
   "cell_type": "code",
   "execution_count": 231,
   "metadata": {},
   "outputs": [],
   "source": [
    "# Use the rename() method to pass in a dictionary or function, renaming values in the following format:\n",
    "# {<id in column header>:<new id>}\n",
    "# Docs: https://pandas.pydata.org/pandas-docs/stable/reference/api/pandas.DataFrame.rename.html\n",
    "movies_df.rename({'id':'kaggle_id',\n",
    "                  'title_kaggle':'title',\n",
    "                  'url':'wikipedia_url',\n",
    "                  'budget_kaggle':'budget',\n",
    "                  'release_date_kaggle':'release_date',\n",
    "                  'Country':'country',\n",
    "                  'Distributor':'distributor',\n",
    "                  'Producer(s)':'producers',\n",
    "                  'Director':'director',\n",
    "                  'Starring':'starring',\n",
    "                  'Cinematography':'cinematography',\n",
    "                  'Editor(s)':'editors',\n",
    "                  'Writer(s)':'writers',\n",
    "                  'Composer(s)':'composers',\n",
    "                  'Based on':'based_on'\n",
    "                 }, axis='columns', inplace=True)"
   ]
  },
  {
   "cell_type": "code",
   "execution_count": null,
   "metadata": {},
   "outputs": [],
   "source": [
    "# Because the ratings data is too lengthy, it will be difficult to cull succinct and actionable information from it rapidly. We can opt to use the groupby() function to quickly generate descriptive statistics for the concept of (\"A movie is more popular if it receives more votes\")"
   ]
  },
  {
   "cell_type": "code",
   "execution_count": 234,
   "metadata": {},
   "outputs": [],
   "source": [
    "\n",
    "# Execute our groupby and rename the userId column to count\n",
    "# Note the backslash allows us to chain a method but on a separate line for readability\n",
    "rating_counts = ratings.groupby(['movieId','rating'], as_index=False).count() \\\n",
    "                .rename({'userId':'count'}, axis=1)"
   ]
  },
  {
   "cell_type": "code",
   "execution_count": 235,
   "metadata": {},
   "outputs": [
    {
     "output_type": "execute_result",
     "data": {
      "text/plain": [
       "        movieId               rating  count  timestamp\n",
       "0             1                 0.50    441        441\n",
       "1             1                 1.00    804        804\n",
       "2             1                 1.50    438        438\n",
       "3             1                 2.00   2083       2083\n",
       "4             1                 2.50   1584       1584\n",
       "...         ...                  ...    ...        ...\n",
       "239376   176267                 4.00      1          1\n",
       "239377   176269                 3.50      1          1\n",
       "239378   176271                 5.00      1          1\n",
       "239379   176273                 1.00      1          1\n",
       "239380   176275                 3.00      1          1\n",
       "\n",
       "[239381 rows x 4 columns]"
      ],
      "text/html": "<div>\n<style scoped>\n    .dataframe tbody tr th:only-of-type {\n        vertical-align: middle;\n    }\n\n    .dataframe tbody tr th {\n        vertical-align: top;\n    }\n\n    .dataframe thead th {\n        text-align: right;\n    }\n</style>\n<table border=\"1\" class=\"dataframe\">\n  <thead>\n    <tr style=\"text-align: right;\">\n      <th></th>\n      <th>movieId</th>\n      <th>rating</th>\n      <th>count</th>\n      <th>timestamp</th>\n    </tr>\n  </thead>\n  <tbody>\n    <tr>\n      <th>0</th>\n      <td>1</td>\n      <td>0.50</td>\n      <td>441</td>\n      <td>441</td>\n    </tr>\n    <tr>\n      <th>1</th>\n      <td>1</td>\n      <td>1.00</td>\n      <td>804</td>\n      <td>804</td>\n    </tr>\n    <tr>\n      <th>2</th>\n      <td>1</td>\n      <td>1.50</td>\n      <td>438</td>\n      <td>438</td>\n    </tr>\n    <tr>\n      <th>3</th>\n      <td>1</td>\n      <td>2.00</td>\n      <td>2083</td>\n      <td>2083</td>\n    </tr>\n    <tr>\n      <th>4</th>\n      <td>1</td>\n      <td>2.50</td>\n      <td>1584</td>\n      <td>1584</td>\n    </tr>\n    <tr>\n      <th>...</th>\n      <td>...</td>\n      <td>...</td>\n      <td>...</td>\n      <td>...</td>\n    </tr>\n    <tr>\n      <th>239376</th>\n      <td>176267</td>\n      <td>4.00</td>\n      <td>1</td>\n      <td>1</td>\n    </tr>\n    <tr>\n      <th>239377</th>\n      <td>176269</td>\n      <td>3.50</td>\n      <td>1</td>\n      <td>1</td>\n    </tr>\n    <tr>\n      <th>239378</th>\n      <td>176271</td>\n      <td>5.00</td>\n      <td>1</td>\n      <td>1</td>\n    </tr>\n    <tr>\n      <th>239379</th>\n      <td>176273</td>\n      <td>1.00</td>\n      <td>1</td>\n      <td>1</td>\n    </tr>\n    <tr>\n      <th>239380</th>\n      <td>176275</td>\n      <td>3.00</td>\n      <td>1</td>\n      <td>1</td>\n    </tr>\n  </tbody>\n</table>\n<p>239381 rows × 4 columns</p>\n</div>"
     },
     "metadata": {},
     "execution_count": 235
    }
   ],
   "source": [
    "rating_counts"
   ]
  },
  {
   "cell_type": "code",
   "execution_count": 236,
   "metadata": {},
   "outputs": [],
   "source": [
    "# Use the pivot() method to pass in a new index, columns and values argument based off the original dataframe\n",
    "rating_counts = ratings.groupby(['movieId','rating'], as_index=False).count() \\\n",
    "                .rename({'userId':'count'}, axis=1) \\\n",
    "                .pivot(index='movieId',columns='rating', values='count')"
   ]
  },
  {
   "cell_type": "code",
   "execution_count": 237,
   "metadata": {},
   "outputs": [
    {
     "output_type": "execute_result",
     "data": {
      "text/plain": [
       "rating                  0.50                 1.00                 1.50  \\\n",
       "movieId                                                                  \n",
       "1                     441.00               804.00               438.00   \n",
       "2                     263.00               797.00               525.00   \n",
       "3                     169.00               772.00               233.00   \n",
       "4                      47.00               351.00                31.00   \n",
       "5                     237.00               785.00               270.00   \n",
       "...                      ...                  ...                  ...   \n",
       "176267                   nan                  nan                  nan   \n",
       "176269                   nan                  nan                  nan   \n",
       "176271                   nan                  nan                  nan   \n",
       "176273                   nan                 1.00                  nan   \n",
       "176275                   nan                  nan                  nan   \n",
       "\n",
       "rating                  2.00                 2.50                 3.00  \\\n",
       "movieId                                                                  \n",
       "1                   2,083.00             1,584.00            11,577.00   \n",
       "2                   2,479.00             1,810.00             8,510.00   \n",
       "3                   1,665.00               616.00             6,213.00   \n",
       "4                     496.00                77.00             1,133.00   \n",
       "5                   1,716.00               664.00             6,608.00   \n",
       "...                      ...                  ...                  ...   \n",
       "176267                   nan                  nan                  nan   \n",
       "176269                   nan                  nan                  nan   \n",
       "176271                   nan                  nan                  nan   \n",
       "176273                   nan                  nan                  nan   \n",
       "176275                   nan                  nan                 1.00   \n",
       "\n",
       "rating                  3.50                 4.00                 4.50  \\\n",
       "movieId                                                                  \n",
       "1                   5,741.00            22,020.00             5,325.00   \n",
       "2                   2,916.00             6,035.00               690.00   \n",
       "3                     759.00             3,433.00               154.00   \n",
       "4                      66.00               557.00                12.00   \n",
       "5                     723.00             2,959.00               166.00   \n",
       "...                      ...                  ...                  ...   \n",
       "176267                   nan                 1.00                  nan   \n",
       "176269                  1.00                  nan                  nan   \n",
       "176271                   nan                  nan                  nan   \n",
       "176273                   nan                  nan                  nan   \n",
       "176275                   nan                  nan                  nan   \n",
       "\n",
       "rating                  5.00  \n",
       "movieId                       \n",
       "1                  15,995.00  \n",
       "2                   2,035.00  \n",
       "3                   1,483.00  \n",
       "4                     211.00  \n",
       "5                   1,130.00  \n",
       "...                      ...  \n",
       "176267                   nan  \n",
       "176269                   nan  \n",
       "176271                  1.00  \n",
       "176273                   nan  \n",
       "176275                   nan  \n",
       "\n",
       "[45115 rows x 10 columns]"
      ],
      "text/html": "<div>\n<style scoped>\n    .dataframe tbody tr th:only-of-type {\n        vertical-align: middle;\n    }\n\n    .dataframe tbody tr th {\n        vertical-align: top;\n    }\n\n    .dataframe thead th {\n        text-align: right;\n    }\n</style>\n<table border=\"1\" class=\"dataframe\">\n  <thead>\n    <tr style=\"text-align: right;\">\n      <th>rating</th>\n      <th>0.50</th>\n      <th>1.00</th>\n      <th>1.50</th>\n      <th>2.00</th>\n      <th>2.50</th>\n      <th>3.00</th>\n      <th>3.50</th>\n      <th>4.00</th>\n      <th>4.50</th>\n      <th>5.00</th>\n    </tr>\n    <tr>\n      <th>movieId</th>\n      <th></th>\n      <th></th>\n      <th></th>\n      <th></th>\n      <th></th>\n      <th></th>\n      <th></th>\n      <th></th>\n      <th></th>\n      <th></th>\n    </tr>\n  </thead>\n  <tbody>\n    <tr>\n      <th>1</th>\n      <td>441.00</td>\n      <td>804.00</td>\n      <td>438.00</td>\n      <td>2,083.00</td>\n      <td>1,584.00</td>\n      <td>11,577.00</td>\n      <td>5,741.00</td>\n      <td>22,020.00</td>\n      <td>5,325.00</td>\n      <td>15,995.00</td>\n    </tr>\n    <tr>\n      <th>2</th>\n      <td>263.00</td>\n      <td>797.00</td>\n      <td>525.00</td>\n      <td>2,479.00</td>\n      <td>1,810.00</td>\n      <td>8,510.00</td>\n      <td>2,916.00</td>\n      <td>6,035.00</td>\n      <td>690.00</td>\n      <td>2,035.00</td>\n    </tr>\n    <tr>\n      <th>3</th>\n      <td>169.00</td>\n      <td>772.00</td>\n      <td>233.00</td>\n      <td>1,665.00</td>\n      <td>616.00</td>\n      <td>6,213.00</td>\n      <td>759.00</td>\n      <td>3,433.00</td>\n      <td>154.00</td>\n      <td>1,483.00</td>\n    </tr>\n    <tr>\n      <th>4</th>\n      <td>47.00</td>\n      <td>351.00</td>\n      <td>31.00</td>\n      <td>496.00</td>\n      <td>77.00</td>\n      <td>1,133.00</td>\n      <td>66.00</td>\n      <td>557.00</td>\n      <td>12.00</td>\n      <td>211.00</td>\n    </tr>\n    <tr>\n      <th>5</th>\n      <td>237.00</td>\n      <td>785.00</td>\n      <td>270.00</td>\n      <td>1,716.00</td>\n      <td>664.00</td>\n      <td>6,608.00</td>\n      <td>723.00</td>\n      <td>2,959.00</td>\n      <td>166.00</td>\n      <td>1,130.00</td>\n    </tr>\n    <tr>\n      <th>...</th>\n      <td>...</td>\n      <td>...</td>\n      <td>...</td>\n      <td>...</td>\n      <td>...</td>\n      <td>...</td>\n      <td>...</td>\n      <td>...</td>\n      <td>...</td>\n      <td>...</td>\n    </tr>\n    <tr>\n      <th>176267</th>\n      <td>nan</td>\n      <td>nan</td>\n      <td>nan</td>\n      <td>nan</td>\n      <td>nan</td>\n      <td>nan</td>\n      <td>nan</td>\n      <td>1.00</td>\n      <td>nan</td>\n      <td>nan</td>\n    </tr>\n    <tr>\n      <th>176269</th>\n      <td>nan</td>\n      <td>nan</td>\n      <td>nan</td>\n      <td>nan</td>\n      <td>nan</td>\n      <td>nan</td>\n      <td>1.00</td>\n      <td>nan</td>\n      <td>nan</td>\n      <td>nan</td>\n    </tr>\n    <tr>\n      <th>176271</th>\n      <td>nan</td>\n      <td>nan</td>\n      <td>nan</td>\n      <td>nan</td>\n      <td>nan</td>\n      <td>nan</td>\n      <td>nan</td>\n      <td>nan</td>\n      <td>nan</td>\n      <td>1.00</td>\n    </tr>\n    <tr>\n      <th>176273</th>\n      <td>nan</td>\n      <td>1.00</td>\n      <td>nan</td>\n      <td>nan</td>\n      <td>nan</td>\n      <td>nan</td>\n      <td>nan</td>\n      <td>nan</td>\n      <td>nan</td>\n      <td>nan</td>\n    </tr>\n    <tr>\n      <th>176275</th>\n      <td>nan</td>\n      <td>nan</td>\n      <td>nan</td>\n      <td>nan</td>\n      <td>nan</td>\n      <td>1.00</td>\n      <td>nan</td>\n      <td>nan</td>\n      <td>nan</td>\n      <td>nan</td>\n    </tr>\n  </tbody>\n</table>\n<p>45115 rows × 10 columns</p>\n</div>"
     },
     "metadata": {},
     "execution_count": 237
    }
   ],
   "source": [
    "rating_counts"
   ]
  },
  {
   "cell_type": "code",
   "execution_count": 238,
   "metadata": {},
   "outputs": [],
   "source": [
    "# Rename the columns of the rating_counts dataframe for +readability\n",
    "rating_counts.columns = ['rating_' + str(col) for col in rating_counts.columns]"
   ]
  },
  {
   "cell_type": "code",
   "execution_count": 239,
   "metadata": {},
   "outputs": [],
   "source": [
    "# Now that our rating_counts dataframe has the movieID as the index (aka kaggle_id), it acts as a PRIMARY KEY for a LEFT JOIN onto the movies_df dataframe\n",
    "\n",
    "movies_with_ratings_df = pd.merge(movies_df, rating_counts, left_on='kaggle_id', right_index=True, how='left')\n"
   ]
  },
  {
   "cell_type": "code",
   "execution_count": 240,
   "metadata": {},
   "outputs": [],
   "source": [
    "# Fill columns which return nan for ratings (aka they never received a rating in that specific category) with 0\n",
    "\n",
    "movies_with_ratings_df[rating_counts.columns] = movies_with_ratings_df[rating_counts.columns].fillna(0)\n"
   ]
  },
  {
   "cell_type": "code",
   "execution_count": 241,
   "metadata": {},
   "outputs": [
    {
     "output_type": "execute_result",
     "data": {
      "text/plain": [
       "        imdb_id  kaggle_id                            title  \\\n",
       "0     tt0098987       9548  The Adventures of Ford Fairlane   \n",
       "1     tt0098994      25501             After Dark, My Sweet   \n",
       "2     tt0099005      11856                      Air America   \n",
       "3     tt0099012       8217                            Alice   \n",
       "4     tt0099018      25943                  Almost an Angel   \n",
       "...         ...        ...                              ...   \n",
       "6072  tt5639354     429191                A Fantastic Woman   \n",
       "6073  tt5390066     390059                       Permission   \n",
       "6074  tt6304162     429174                         Loveless   \n",
       "6075  tt5795086     412302                           Gemini   \n",
       "6076  tt3859310     341689  How to Talk to Girls at Parties   \n",
       "\n",
       "                       original_title  \\\n",
       "0     The Adventures of Ford Fairlane   \n",
       "1                After Dark, My Sweet   \n",
       "2                         Air America   \n",
       "3                               Alice   \n",
       "4                     Almost an Angel   \n",
       "...                               ...   \n",
       "6072             Una mujer fantástica   \n",
       "6073                       Permission   \n",
       "6074                         Нелюбовь   \n",
       "6075                           Gemini   \n",
       "6076  How to Talk to Girls at Parties   \n",
       "\n",
       "                                      tagline belongs_to_collection  \\\n",
       "0         Kojak. Columbo. Dirty Harry. Wimps.                   NaN   \n",
       "1             All they risked was everything.                   NaN   \n",
       "2     The few. The proud. The totally insane.                   NaN   \n",
       "3                                         NaN                   NaN   \n",
       "4                    Who does he think he is?                   NaN   \n",
       "...                                       ...                   ...   \n",
       "6072                                      NaN                   NaN   \n",
       "6073                                      NaN                   NaN   \n",
       "6074                                      NaN                   NaN   \n",
       "6075                                      NaN                   NaN   \n",
       "6076        Some girls are out of this world.                   NaN   \n",
       "\n",
       "                                          wikipedia_url  \\\n",
       "0     https://en.wikipedia.org/wiki/The_Adventures_o...   \n",
       "1     https://en.wikipedia.org/wiki/After_Dark,_My_S...   \n",
       "2      https://en.wikipedia.org/wiki/Air_America_(film)   \n",
       "3       https://en.wikipedia.org/wiki/Alice_(1990_film)   \n",
       "4         https://en.wikipedia.org/wiki/Almost_an_Angel   \n",
       "...                                                 ...   \n",
       "6072    https://en.wikipedia.org/wiki/A_Fantastic_Woman   \n",
       "6073    https://en.wikipedia.org/wiki/Permission_(film)   \n",
       "6074      https://en.wikipedia.org/wiki/Loveless_(film)   \n",
       "6075   https://en.wikipedia.org/wiki/Gemini_(2017_film)   \n",
       "6076  https://en.wikipedia.org/wiki/How_to_Talk_to_G...   \n",
       "\n",
       "                                  imdb_link              runtime  \\\n",
       "0     https://www.imdb.com/title/tt0098987/               104.00   \n",
       "1     https://www.imdb.com/title/tt0098994/               114.00   \n",
       "2     https://www.imdb.com/title/tt0099005/               112.00   \n",
       "3     https://www.imdb.com/title/tt0099012/               102.00   \n",
       "4     https://www.imdb.com/title/tt0099018/                95.00   \n",
       "...                                     ...                  ...   \n",
       "6072  https://www.imdb.com/title/tt5639354/               104.00   \n",
       "6073  https://www.imdb.com/title/tt5390066/                96.00   \n",
       "6074  https://www.imdb.com/title/tt6304162/               128.00   \n",
       "6075  https://www.imdb.com/title/tt5795086/                92.00   \n",
       "6076  https://www.imdb.com/title/tt3859310/               102.00   \n",
       "\n",
       "                   budget  ...           rating_0.5           rating_1.0  \\\n",
       "0           49,000,000.00  ...                 0.00                 0.00   \n",
       "1            6,000,000.00  ...                 0.00                 0.00   \n",
       "2           35,000,000.00  ...                 0.00                 0.00   \n",
       "3           12,000,000.00  ...                 0.00                 0.00   \n",
       "4           25,000,000.00  ...                 3.00                 0.00   \n",
       "...                   ...  ...                  ...                  ...   \n",
       "6072                  nan  ...                 0.00                 0.00   \n",
       "6073                  nan  ...                 0.00                 0.00   \n",
       "6074                  nan  ...                 0.00                 0.00   \n",
       "6075                  nan  ...                 0.00                 0.00   \n",
       "6076                  nan  ...                 0.00                 0.00   \n",
       "\n",
       "               rating_1.5           rating_2.0           rating_2.5  \\\n",
       "0                    0.00                 0.00                 0.00   \n",
       "1                    0.00                 0.00                 0.00   \n",
       "2                    0.00                 0.00                 0.00   \n",
       "3                    0.00                 0.00                 0.00   \n",
       "4                    3.00                 2.00                 5.00   \n",
       "...                   ...                  ...                  ...   \n",
       "6072                 0.00                 0.00                 0.00   \n",
       "6073                 0.00                 0.00                 0.00   \n",
       "6074                 0.00                 0.00                 0.00   \n",
       "6075                 0.00                 0.00                 0.00   \n",
       "6076                 0.00                 0.00                 0.00   \n",
       "\n",
       "               rating_3.0           rating_3.5           rating_4.0  \\\n",
       "0                    0.00                 0.00                 0.00   \n",
       "1                    0.00                 0.00                 0.00   \n",
       "2                    0.00                 0.00                 0.00   \n",
       "3                    0.00                 0.00                 0.00   \n",
       "4                   26.00                37.00                46.00   \n",
       "...                   ...                  ...                  ...   \n",
       "6072                 0.00                 0.00                 0.00   \n",
       "6073                 0.00                 0.00                 0.00   \n",
       "6074                 0.00                 0.00                 0.00   \n",
       "6075                 0.00                 0.00                 0.00   \n",
       "6076                 0.00                 0.00                 0.00   \n",
       "\n",
       "               rating_4.5           rating_5.0  \n",
       "0                    0.00                 0.00  \n",
       "1                    0.00                 0.00  \n",
       "2                    0.00                 0.00  \n",
       "3                    0.00                 0.00  \n",
       "4                   16.00                11.00  \n",
       "...                   ...                  ...  \n",
       "6072                 0.00                 0.00  \n",
       "6073                 0.00                 0.00  \n",
       "6074                 0.00                 0.00  \n",
       "6075                 0.00                 0.00  \n",
       "6076                 0.00                 0.00  \n",
       "\n",
       "[6073 rows x 41 columns]"
      ],
      "text/html": "<div>\n<style scoped>\n    .dataframe tbody tr th:only-of-type {\n        vertical-align: middle;\n    }\n\n    .dataframe tbody tr th {\n        vertical-align: top;\n    }\n\n    .dataframe thead th {\n        text-align: right;\n    }\n</style>\n<table border=\"1\" class=\"dataframe\">\n  <thead>\n    <tr style=\"text-align: right;\">\n      <th></th>\n      <th>imdb_id</th>\n      <th>kaggle_id</th>\n      <th>title</th>\n      <th>original_title</th>\n      <th>tagline</th>\n      <th>belongs_to_collection</th>\n      <th>wikipedia_url</th>\n      <th>imdb_link</th>\n      <th>runtime</th>\n      <th>budget</th>\n      <th>...</th>\n      <th>rating_0.5</th>\n      <th>rating_1.0</th>\n      <th>rating_1.5</th>\n      <th>rating_2.0</th>\n      <th>rating_2.5</th>\n      <th>rating_3.0</th>\n      <th>rating_3.5</th>\n      <th>rating_4.0</th>\n      <th>rating_4.5</th>\n      <th>rating_5.0</th>\n    </tr>\n  </thead>\n  <tbody>\n    <tr>\n      <th>0</th>\n      <td>tt0098987</td>\n      <td>9548</td>\n      <td>The Adventures of Ford Fairlane</td>\n      <td>The Adventures of Ford Fairlane</td>\n      <td>Kojak. Columbo. Dirty Harry. Wimps.</td>\n      <td>NaN</td>\n      <td>https://en.wikipedia.org/wiki/The_Adventures_o...</td>\n      <td>https://www.imdb.com/title/tt0098987/</td>\n      <td>104.00</td>\n      <td>49,000,000.00</td>\n      <td>...</td>\n      <td>0.00</td>\n      <td>0.00</td>\n      <td>0.00</td>\n      <td>0.00</td>\n      <td>0.00</td>\n      <td>0.00</td>\n      <td>0.00</td>\n      <td>0.00</td>\n      <td>0.00</td>\n      <td>0.00</td>\n    </tr>\n    <tr>\n      <th>1</th>\n      <td>tt0098994</td>\n      <td>25501</td>\n      <td>After Dark, My Sweet</td>\n      <td>After Dark, My Sweet</td>\n      <td>All they risked was everything.</td>\n      <td>NaN</td>\n      <td>https://en.wikipedia.org/wiki/After_Dark,_My_S...</td>\n      <td>https://www.imdb.com/title/tt0098994/</td>\n      <td>114.00</td>\n      <td>6,000,000.00</td>\n      <td>...</td>\n      <td>0.00</td>\n      <td>0.00</td>\n      <td>0.00</td>\n      <td>0.00</td>\n      <td>0.00</td>\n      <td>0.00</td>\n      <td>0.00</td>\n      <td>0.00</td>\n      <td>0.00</td>\n      <td>0.00</td>\n    </tr>\n    <tr>\n      <th>2</th>\n      <td>tt0099005</td>\n      <td>11856</td>\n      <td>Air America</td>\n      <td>Air America</td>\n      <td>The few. The proud. The totally insane.</td>\n      <td>NaN</td>\n      <td>https://en.wikipedia.org/wiki/Air_America_(film)</td>\n      <td>https://www.imdb.com/title/tt0099005/</td>\n      <td>112.00</td>\n      <td>35,000,000.00</td>\n      <td>...</td>\n      <td>0.00</td>\n      <td>0.00</td>\n      <td>0.00</td>\n      <td>0.00</td>\n      <td>0.00</td>\n      <td>0.00</td>\n      <td>0.00</td>\n      <td>0.00</td>\n      <td>0.00</td>\n      <td>0.00</td>\n    </tr>\n    <tr>\n      <th>3</th>\n      <td>tt0099012</td>\n      <td>8217</td>\n      <td>Alice</td>\n      <td>Alice</td>\n      <td>NaN</td>\n      <td>NaN</td>\n      <td>https://en.wikipedia.org/wiki/Alice_(1990_film)</td>\n      <td>https://www.imdb.com/title/tt0099012/</td>\n      <td>102.00</td>\n      <td>12,000,000.00</td>\n      <td>...</td>\n      <td>0.00</td>\n      <td>0.00</td>\n      <td>0.00</td>\n      <td>0.00</td>\n      <td>0.00</td>\n      <td>0.00</td>\n      <td>0.00</td>\n      <td>0.00</td>\n      <td>0.00</td>\n      <td>0.00</td>\n    </tr>\n    <tr>\n      <th>4</th>\n      <td>tt0099018</td>\n      <td>25943</td>\n      <td>Almost an Angel</td>\n      <td>Almost an Angel</td>\n      <td>Who does he think he is?</td>\n      <td>NaN</td>\n      <td>https://en.wikipedia.org/wiki/Almost_an_Angel</td>\n      <td>https://www.imdb.com/title/tt0099018/</td>\n      <td>95.00</td>\n      <td>25,000,000.00</td>\n      <td>...</td>\n      <td>3.00</td>\n      <td>0.00</td>\n      <td>3.00</td>\n      <td>2.00</td>\n      <td>5.00</td>\n      <td>26.00</td>\n      <td>37.00</td>\n      <td>46.00</td>\n      <td>16.00</td>\n      <td>11.00</td>\n    </tr>\n    <tr>\n      <th>...</th>\n      <td>...</td>\n      <td>...</td>\n      <td>...</td>\n      <td>...</td>\n      <td>...</td>\n      <td>...</td>\n      <td>...</td>\n      <td>...</td>\n      <td>...</td>\n      <td>...</td>\n      <td>...</td>\n      <td>...</td>\n      <td>...</td>\n      <td>...</td>\n      <td>...</td>\n      <td>...</td>\n      <td>...</td>\n      <td>...</td>\n      <td>...</td>\n      <td>...</td>\n      <td>...</td>\n    </tr>\n    <tr>\n      <th>6072</th>\n      <td>tt5639354</td>\n      <td>429191</td>\n      <td>A Fantastic Woman</td>\n      <td>Una mujer fantástica</td>\n      <td>NaN</td>\n      <td>NaN</td>\n      <td>https://en.wikipedia.org/wiki/A_Fantastic_Woman</td>\n      <td>https://www.imdb.com/title/tt5639354/</td>\n      <td>104.00</td>\n      <td>nan</td>\n      <td>...</td>\n      <td>0.00</td>\n      <td>0.00</td>\n      <td>0.00</td>\n      <td>0.00</td>\n      <td>0.00</td>\n      <td>0.00</td>\n      <td>0.00</td>\n      <td>0.00</td>\n      <td>0.00</td>\n      <td>0.00</td>\n    </tr>\n    <tr>\n      <th>6073</th>\n      <td>tt5390066</td>\n      <td>390059</td>\n      <td>Permission</td>\n      <td>Permission</td>\n      <td>NaN</td>\n      <td>NaN</td>\n      <td>https://en.wikipedia.org/wiki/Permission_(film)</td>\n      <td>https://www.imdb.com/title/tt5390066/</td>\n      <td>96.00</td>\n      <td>nan</td>\n      <td>...</td>\n      <td>0.00</td>\n      <td>0.00</td>\n      <td>0.00</td>\n      <td>0.00</td>\n      <td>0.00</td>\n      <td>0.00</td>\n      <td>0.00</td>\n      <td>0.00</td>\n      <td>0.00</td>\n      <td>0.00</td>\n    </tr>\n    <tr>\n      <th>6074</th>\n      <td>tt6304162</td>\n      <td>429174</td>\n      <td>Loveless</td>\n      <td>Нелюбовь</td>\n      <td>NaN</td>\n      <td>NaN</td>\n      <td>https://en.wikipedia.org/wiki/Loveless_(film)</td>\n      <td>https://www.imdb.com/title/tt6304162/</td>\n      <td>128.00</td>\n      <td>nan</td>\n      <td>...</td>\n      <td>0.00</td>\n      <td>0.00</td>\n      <td>0.00</td>\n      <td>0.00</td>\n      <td>0.00</td>\n      <td>0.00</td>\n      <td>0.00</td>\n      <td>0.00</td>\n      <td>0.00</td>\n      <td>0.00</td>\n    </tr>\n    <tr>\n      <th>6075</th>\n      <td>tt5795086</td>\n      <td>412302</td>\n      <td>Gemini</td>\n      <td>Gemini</td>\n      <td>NaN</td>\n      <td>NaN</td>\n      <td>https://en.wikipedia.org/wiki/Gemini_(2017_film)</td>\n      <td>https://www.imdb.com/title/tt5795086/</td>\n      <td>92.00</td>\n      <td>nan</td>\n      <td>...</td>\n      <td>0.00</td>\n      <td>0.00</td>\n      <td>0.00</td>\n      <td>0.00</td>\n      <td>0.00</td>\n      <td>0.00</td>\n      <td>0.00</td>\n      <td>0.00</td>\n      <td>0.00</td>\n      <td>0.00</td>\n    </tr>\n    <tr>\n      <th>6076</th>\n      <td>tt3859310</td>\n      <td>341689</td>\n      <td>How to Talk to Girls at Parties</td>\n      <td>How to Talk to Girls at Parties</td>\n      <td>Some girls are out of this world.</td>\n      <td>NaN</td>\n      <td>https://en.wikipedia.org/wiki/How_to_Talk_to_G...</td>\n      <td>https://www.imdb.com/title/tt3859310/</td>\n      <td>102.00</td>\n      <td>nan</td>\n      <td>...</td>\n      <td>0.00</td>\n      <td>0.00</td>\n      <td>0.00</td>\n      <td>0.00</td>\n      <td>0.00</td>\n      <td>0.00</td>\n      <td>0.00</td>\n      <td>0.00</td>\n      <td>0.00</td>\n      <td>0.00</td>\n    </tr>\n  </tbody>\n</table>\n<p>6073 rows × 41 columns</p>\n</div>"
     },
     "metadata": {},
     "execution_count": 241
    }
   ],
   "source": [
    "movies_with_ratings_df"
   ]
  },
  {
   "cell_type": "code",
   "execution_count": null,
   "metadata": {},
   "outputs": [],
   "source": []
  }
 ]
}