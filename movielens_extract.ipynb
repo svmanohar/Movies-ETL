{
 "metadata": {
  "language_info": {
   "codemirror_mode": {
    "name": "ipython",
    "version": 3
   },
   "file_extension": ".py",
   "mimetype": "text/x-python",
   "name": "python",
   "nbconvert_exporter": "python",
   "pygments_lexer": "ipython3",
   "version": "3.7.1-final"
  },
  "orig_nbformat": 2,
  "kernelspec": {
   "name": "python3",
   "display_name": "Python 3",
   "language": "python"
  }
 },
 "nbformat": 4,
 "nbformat_minor": 2,
 "cells": [
  {
   "cell_type": "code",
   "execution_count": 2,
   "metadata": {},
   "outputs": [],
   "source": [
    "# import movie metadata into pandas Dataframes\n",
    "import pandas as pd\n",
    "import re\n",
    "kaggle_metadata = pd.read_csv('Data/movies_metadata.csv', low_memory=False)\n",
    "ratings = pd.read_csv('Data/ratings.csv')"
   ]
  },
  {
   "cell_type": "code",
   "execution_count": 3,
   "metadata": {},
   "outputs": [
    {
     "output_type": "execute_result",
     "data": {
      "text/plain": [
       "       adult                              belongs_to_collection    budget  \\\n",
       "1271   False                                                NaN         0   \n",
       "31259  False  {'id': 458017, 'name': 'Tom and Jerry Collecti...         0   \n",
       "29792  False                                                NaN         0   \n",
       "29139  False                                                NaN         0   \n",
       "13742  False  {'id': 146534, 'name': 'Without a Paddle Colle...   6300000   \n",
       "3828   False                                                NaN  12000000   \n",
       "23593  False                                                NaN         0   \n",
       "6097   False                                                NaN         0   \n",
       "36928  False                                                NaN         0   \n",
       "9358   False  {'id': 142717, 'name': 'The Cremaster Cycle', ...         0   \n",
       "\n",
       "                                                  genres  \\\n",
       "1271   [{'id': 35, 'name': 'Comedy'}, {'id': 10749, '...   \n",
       "31259  [{'id': 16, 'name': 'Animation'}, {'id': 10751...   \n",
       "29792  [{'id': 9648, 'name': 'Mystery'}, {'id': 28, '...   \n",
       "29139  [{'id': 35, 'name': 'Comedy'}, {'id': 18, 'nam...   \n",
       "13742  [{'id': 28, 'name': 'Action'}, {'id': 12, 'nam...   \n",
       "3828   [{'id': 35, 'name': 'Comedy'}, {'id': 18, 'nam...   \n",
       "23593                      [{'id': 18, 'name': 'Drama'}]   \n",
       "6097   [{'id': 36, 'name': 'History'}, {'id': 18, 'na...   \n",
       "36928                      [{'id': 18, 'name': 'Drama'}]   \n",
       "9358                       [{'id': 18, 'name': 'Drama'}]   \n",
       "\n",
       "                                                homepage      id    imdb_id  \\\n",
       "1271                                                 NaN   18762  tt0112537   \n",
       "31259  http://familyentertainment.kidswb.com/product/...   72972  tt2027255   \n",
       "29792                       http://www.german-angst.com/  252596  tt3398436   \n",
       "29139                                                NaN  214216  tt0096872   \n",
       "13742                                                NaN   28677  tt1276107   \n",
       "3828                                                 NaN   10763  tt0205271   \n",
       "23593                                                NaN  259943  tt3125472   \n",
       "6097                                                 NaN    8996  tt0099776   \n",
       "36928                                                NaN  329216  tt0109820   \n",
       "9358                                                 NaN   23986  tt0321781   \n",
       "\n",
       "      original_language                      original_title  \\\n",
       "1271                 en                          Blue Juice   \n",
       "31259                en    Tom and Jerry & The Wizard of Oz   \n",
       "29792                de                        German Angst   \n",
       "29139                en                           Babycakes   \n",
       "13742                en  Without a Paddle: Nature's Calling   \n",
       "3828                 en                 Dr. T and the Women   \n",
       "23593                zh                                  归来   \n",
       "6097                 en                       Europa Europa   \n",
       "36928                en             The Foot Shooting Party   \n",
       "9358                 en                         Cremaster 3   \n",
       "\n",
       "                                                overview    ...      \\\n",
       "1271   JC is the hero of the Cornish surfing communit...    ...       \n",
       "31259  They're off to see the Wizard, the wonderful W...    ...       \n",
       "29792  Horror anthology consisting of three episodes ...    ...       \n",
       "29139  Grace is an overweight mortuary cosmetician wh...    ...       \n",
       "13742  Venturing into the woods causes nothing but tr...    ...       \n",
       "3828   Dr. Sullivan Travis is a man at the top of his...    ...       \n",
       "23593  Lu and Feng are a devoted couple forced to sep...    ...       \n",
       "6097   A Jewish boy separated from his family in the ...    ...       \n",
       "36928  The lead singer of a band gets drafted for war...    ...       \n",
       "9358   CREMASTER 3 (2002) is set in New York City and...    ...       \n",
       "\n",
       "      release_date revenue runtime  \\\n",
       "1271    1995-09-15     0.0    90.0   \n",
       "31259   2011-08-23     0.0    59.0   \n",
       "29792   2015-01-24     0.0   111.0   \n",
       "29139   1989-02-14     0.0   100.0   \n",
       "13742   2009-01-13     0.0    96.0   \n",
       "3828    2000-09-13     0.0   121.0   \n",
       "23593   2014-05-16     0.0   111.0   \n",
       "6097    1990-01-01     0.0   108.0   \n",
       "36928   1994-01-01     0.0    27.0   \n",
       "9358    2002-05-15     0.0   182.0   \n",
       "\n",
       "                                        spoken_languages    status  \\\n",
       "1271            [{'iso_639_1': 'en', 'name': 'English'}]  Released   \n",
       "31259  [{'iso_639_1': 'en', 'name': 'English'}, {'iso...  Released   \n",
       "29792  [{'iso_639_1': 'en', 'name': 'English'}, {'iso...  Released   \n",
       "29139                                                 []  Released   \n",
       "13742           [{'iso_639_1': 'en', 'name': 'English'}]  Released   \n",
       "3828            [{'iso_639_1': 'en', 'name': 'English'}]  Released   \n",
       "23593               [{'iso_639_1': 'zh', 'name': '普通话'}]  Released   \n",
       "6097   [{'iso_639_1': 'de', 'name': 'Deutsch'}, {'iso...  Released   \n",
       "36928           [{'iso_639_1': 'en', 'name': 'English'}]  Released   \n",
       "9358                                                  []  Released   \n",
       "\n",
       "                                                 tagline  \\\n",
       "1271                                   The ride is wild!   \n",
       "31259                                                NaN   \n",
       "29792                                  Love. Sex. Death.   \n",
       "29139  Shy, fat girl vows to win over a hunky subway ...   \n",
       "13742                   Three guys. One chance. No plan.   \n",
       "3828          He is overwhelmed by the woman in his life   \n",
       "23593                                                NaN   \n",
       "6097                                                 NaN   \n",
       "36928                                                NaN   \n",
       "9358                                                 NaN   \n",
       "\n",
       "                                    title  video vote_average vote_count  \n",
       "1271                           Blue Juice  False          3.6       13.0  \n",
       "31259    Tom and Jerry & The Wizard of Oz  False          6.0       26.0  \n",
       "29792                        German Angst  False          5.9       11.0  \n",
       "29139                           Babycakes  False          4.0        1.0  \n",
       "13742  Without a Paddle: Nature's Calling  False          5.1       18.0  \n",
       "3828                  Dr. T and the Women  False          4.6       70.0  \n",
       "23593                         Coming Home  False          6.9       49.0  \n",
       "6097                        Europa Europa  False          7.3       48.0  \n",
       "36928             The Foot Shooting Party  False          6.0        1.0  \n",
       "9358                          Cremaster 3  False          6.8       10.0  \n",
       "\n",
       "[10 rows x 24 columns]"
      ],
      "text/html": "<div>\n<style scoped>\n    .dataframe tbody tr th:only-of-type {\n        vertical-align: middle;\n    }\n\n    .dataframe tbody tr th {\n        vertical-align: top;\n    }\n\n    .dataframe thead th {\n        text-align: right;\n    }\n</style>\n<table border=\"1\" class=\"dataframe\">\n  <thead>\n    <tr style=\"text-align: right;\">\n      <th></th>\n      <th>adult</th>\n      <th>belongs_to_collection</th>\n      <th>budget</th>\n      <th>genres</th>\n      <th>homepage</th>\n      <th>id</th>\n      <th>imdb_id</th>\n      <th>original_language</th>\n      <th>original_title</th>\n      <th>overview</th>\n      <th>...</th>\n      <th>release_date</th>\n      <th>revenue</th>\n      <th>runtime</th>\n      <th>spoken_languages</th>\n      <th>status</th>\n      <th>tagline</th>\n      <th>title</th>\n      <th>video</th>\n      <th>vote_average</th>\n      <th>vote_count</th>\n    </tr>\n  </thead>\n  <tbody>\n    <tr>\n      <th>1271</th>\n      <td>False</td>\n      <td>NaN</td>\n      <td>0</td>\n      <td>[{'id': 35, 'name': 'Comedy'}, {'id': 10749, '...</td>\n      <td>NaN</td>\n      <td>18762</td>\n      <td>tt0112537</td>\n      <td>en</td>\n      <td>Blue Juice</td>\n      <td>JC is the hero of the Cornish surfing communit...</td>\n      <td>...</td>\n      <td>1995-09-15</td>\n      <td>0.0</td>\n      <td>90.0</td>\n      <td>[{'iso_639_1': 'en', 'name': 'English'}]</td>\n      <td>Released</td>\n      <td>The ride is wild!</td>\n      <td>Blue Juice</td>\n      <td>False</td>\n      <td>3.6</td>\n      <td>13.0</td>\n    </tr>\n    <tr>\n      <th>31259</th>\n      <td>False</td>\n      <td>{'id': 458017, 'name': 'Tom and Jerry Collecti...</td>\n      <td>0</td>\n      <td>[{'id': 16, 'name': 'Animation'}, {'id': 10751...</td>\n      <td>http://familyentertainment.kidswb.com/product/...</td>\n      <td>72972</td>\n      <td>tt2027255</td>\n      <td>en</td>\n      <td>Tom and Jerry &amp; The Wizard of Oz</td>\n      <td>They're off to see the Wizard, the wonderful W...</td>\n      <td>...</td>\n      <td>2011-08-23</td>\n      <td>0.0</td>\n      <td>59.0</td>\n      <td>[{'iso_639_1': 'en', 'name': 'English'}, {'iso...</td>\n      <td>Released</td>\n      <td>NaN</td>\n      <td>Tom and Jerry &amp; The Wizard of Oz</td>\n      <td>False</td>\n      <td>6.0</td>\n      <td>26.0</td>\n    </tr>\n    <tr>\n      <th>29792</th>\n      <td>False</td>\n      <td>NaN</td>\n      <td>0</td>\n      <td>[{'id': 9648, 'name': 'Mystery'}, {'id': 28, '...</td>\n      <td>http://www.german-angst.com/</td>\n      <td>252596</td>\n      <td>tt3398436</td>\n      <td>de</td>\n      <td>German Angst</td>\n      <td>Horror anthology consisting of three episodes ...</td>\n      <td>...</td>\n      <td>2015-01-24</td>\n      <td>0.0</td>\n      <td>111.0</td>\n      <td>[{'iso_639_1': 'en', 'name': 'English'}, {'iso...</td>\n      <td>Released</td>\n      <td>Love. Sex. Death.</td>\n      <td>German Angst</td>\n      <td>False</td>\n      <td>5.9</td>\n      <td>11.0</td>\n    </tr>\n    <tr>\n      <th>29139</th>\n      <td>False</td>\n      <td>NaN</td>\n      <td>0</td>\n      <td>[{'id': 35, 'name': 'Comedy'}, {'id': 18, 'nam...</td>\n      <td>NaN</td>\n      <td>214216</td>\n      <td>tt0096872</td>\n      <td>en</td>\n      <td>Babycakes</td>\n      <td>Grace is an overweight mortuary cosmetician wh...</td>\n      <td>...</td>\n      <td>1989-02-14</td>\n      <td>0.0</td>\n      <td>100.0</td>\n      <td>[]</td>\n      <td>Released</td>\n      <td>Shy, fat girl vows to win over a hunky subway ...</td>\n      <td>Babycakes</td>\n      <td>False</td>\n      <td>4.0</td>\n      <td>1.0</td>\n    </tr>\n    <tr>\n      <th>13742</th>\n      <td>False</td>\n      <td>{'id': 146534, 'name': 'Without a Paddle Colle...</td>\n      <td>6300000</td>\n      <td>[{'id': 28, 'name': 'Action'}, {'id': 12, 'nam...</td>\n      <td>NaN</td>\n      <td>28677</td>\n      <td>tt1276107</td>\n      <td>en</td>\n      <td>Without a Paddle: Nature's Calling</td>\n      <td>Venturing into the woods causes nothing but tr...</td>\n      <td>...</td>\n      <td>2009-01-13</td>\n      <td>0.0</td>\n      <td>96.0</td>\n      <td>[{'iso_639_1': 'en', 'name': 'English'}]</td>\n      <td>Released</td>\n      <td>Three guys. One chance. No plan.</td>\n      <td>Without a Paddle: Nature's Calling</td>\n      <td>False</td>\n      <td>5.1</td>\n      <td>18.0</td>\n    </tr>\n    <tr>\n      <th>3828</th>\n      <td>False</td>\n      <td>NaN</td>\n      <td>12000000</td>\n      <td>[{'id': 35, 'name': 'Comedy'}, {'id': 18, 'nam...</td>\n      <td>NaN</td>\n      <td>10763</td>\n      <td>tt0205271</td>\n      <td>en</td>\n      <td>Dr. T and the Women</td>\n      <td>Dr. Sullivan Travis is a man at the top of his...</td>\n      <td>...</td>\n      <td>2000-09-13</td>\n      <td>0.0</td>\n      <td>121.0</td>\n      <td>[{'iso_639_1': 'en', 'name': 'English'}]</td>\n      <td>Released</td>\n      <td>He is overwhelmed by the woman in his life</td>\n      <td>Dr. T and the Women</td>\n      <td>False</td>\n      <td>4.6</td>\n      <td>70.0</td>\n    </tr>\n    <tr>\n      <th>23593</th>\n      <td>False</td>\n      <td>NaN</td>\n      <td>0</td>\n      <td>[{'id': 18, 'name': 'Drama'}]</td>\n      <td>NaN</td>\n      <td>259943</td>\n      <td>tt3125472</td>\n      <td>zh</td>\n      <td>归来</td>\n      <td>Lu and Feng are a devoted couple forced to sep...</td>\n      <td>...</td>\n      <td>2014-05-16</td>\n      <td>0.0</td>\n      <td>111.0</td>\n      <td>[{'iso_639_1': 'zh', 'name': '普通话'}]</td>\n      <td>Released</td>\n      <td>NaN</td>\n      <td>Coming Home</td>\n      <td>False</td>\n      <td>6.9</td>\n      <td>49.0</td>\n    </tr>\n    <tr>\n      <th>6097</th>\n      <td>False</td>\n      <td>NaN</td>\n      <td>0</td>\n      <td>[{'id': 36, 'name': 'History'}, {'id': 18, 'na...</td>\n      <td>NaN</td>\n      <td>8996</td>\n      <td>tt0099776</td>\n      <td>en</td>\n      <td>Europa Europa</td>\n      <td>A Jewish boy separated from his family in the ...</td>\n      <td>...</td>\n      <td>1990-01-01</td>\n      <td>0.0</td>\n      <td>108.0</td>\n      <td>[{'iso_639_1': 'de', 'name': 'Deutsch'}, {'iso...</td>\n      <td>Released</td>\n      <td>NaN</td>\n      <td>Europa Europa</td>\n      <td>False</td>\n      <td>7.3</td>\n      <td>48.0</td>\n    </tr>\n    <tr>\n      <th>36928</th>\n      <td>False</td>\n      <td>NaN</td>\n      <td>0</td>\n      <td>[{'id': 18, 'name': 'Drama'}]</td>\n      <td>NaN</td>\n      <td>329216</td>\n      <td>tt0109820</td>\n      <td>en</td>\n      <td>The Foot Shooting Party</td>\n      <td>The lead singer of a band gets drafted for war...</td>\n      <td>...</td>\n      <td>1994-01-01</td>\n      <td>0.0</td>\n      <td>27.0</td>\n      <td>[{'iso_639_1': 'en', 'name': 'English'}]</td>\n      <td>Released</td>\n      <td>NaN</td>\n      <td>The Foot Shooting Party</td>\n      <td>False</td>\n      <td>6.0</td>\n      <td>1.0</td>\n    </tr>\n    <tr>\n      <th>9358</th>\n      <td>False</td>\n      <td>{'id': 142717, 'name': 'The Cremaster Cycle', ...</td>\n      <td>0</td>\n      <td>[{'id': 18, 'name': 'Drama'}]</td>\n      <td>NaN</td>\n      <td>23986</td>\n      <td>tt0321781</td>\n      <td>en</td>\n      <td>Cremaster 3</td>\n      <td>CREMASTER 3 (2002) is set in New York City and...</td>\n      <td>...</td>\n      <td>2002-05-15</td>\n      <td>0.0</td>\n      <td>182.0</td>\n      <td>[]</td>\n      <td>Released</td>\n      <td>NaN</td>\n      <td>Cremaster 3</td>\n      <td>False</td>\n      <td>6.8</td>\n      <td>10.0</td>\n    </tr>\n  </tbody>\n</table>\n<p>10 rows × 24 columns</p>\n</div>"
     },
     "metadata": {},
     "execution_count": 3
    }
   ],
   "source": [
    "# Examine our extracted data --------------------------------\n",
    "# Instead of using head() and tail() methods, we can use the sample(n=<# of values to pull>) method to randomly pull a number of values from the dataframe\n",
    "# Pull 10 values from the kaggle_metadata dataframe\n",
    "kaggle_metadata.sample(n=10)"
   ]
  },
  {
   "cell_type": "code",
   "execution_count": 4,
   "metadata": {},
   "outputs": [],
   "source": [
    "# Convert output of read_csv to DataFrame\n",
    "kaggle_metadata = pd.DataFrame(kaggle_metadata)"
   ]
  },
  {
   "cell_type": "code",
   "execution_count": 5,
   "metadata": {},
   "outputs": [
    {
     "output_type": "execute_result",
     "data": {
      "text/plain": [
       "['adult',\n",
       " 'belongs_to_collection',\n",
       " 'budget',\n",
       " 'genres',\n",
       " 'homepage',\n",
       " 'id',\n",
       " 'imdb_id',\n",
       " 'original_language',\n",
       " 'original_title',\n",
       " 'overview',\n",
       " 'popularity',\n",
       " 'poster_path',\n",
       " 'production_companies',\n",
       " 'production_countries',\n",
       " 'release_date',\n",
       " 'revenue',\n",
       " 'runtime',\n",
       " 'spoken_languages',\n",
       " 'status',\n",
       " 'tagline',\n",
       " 'title',\n",
       " 'video',\n",
       " 'vote_average',\n",
       " 'vote_count']"
      ]
     },
     "metadata": {},
     "execution_count": 5
    }
   ],
   "source": [
    "# Cast the dataframe's columns to a list to inspect\n",
    "kaggle_metadata.columns.tolist()"
   ]
  },
  {
   "cell_type": "code",
   "execution_count": 6,
   "metadata": {},
   "outputs": [],
   "source": [
    "# Planning our ETL pipeline\n",
    "# 1. Inspect\n",
    "# 2. Plan\n",
    "# 3. Execute\n",
    "\n",
    "# We want to slim down the number of columns in the above dataframe to a more manageable and RELEVANT number"
   ]
  },
  {
   "cell_type": "code",
   "execution_count": 7,
   "metadata": {},
   "outputs": [
    {
     "output_type": "execute_result",
     "data": {
      "text/plain": [
       "adult                     object\n",
       "belongs_to_collection     object\n",
       "budget                    object\n",
       "genres                    object\n",
       "homepage                  object\n",
       "id                        object\n",
       "imdb_id                   object\n",
       "original_language         object\n",
       "original_title            object\n",
       "overview                  object\n",
       "popularity                object\n",
       "poster_path               object\n",
       "production_companies      object\n",
       "production_countries      object\n",
       "release_date              object\n",
       "revenue                  float64\n",
       "runtime                  float64\n",
       "spoken_languages          object\n",
       "status                    object\n",
       "tagline                   object\n",
       "title                     object\n",
       "video                     object\n",
       "vote_average             float64\n",
       "vote_count               float64\n",
       "dtype: object"
      ]
     },
     "metadata": {},
     "execution_count": 7
    }
   ],
   "source": [
    "kaggle_metadata.dtypes"
   ]
  },
  {
   "cell_type": "code",
   "execution_count": 8,
   "metadata": {},
   "outputs": [
    {
     "output_type": "execute_result",
     "data": {
      "text/plain": [
       "False                                                                                                                             45454\n",
       "True                                                                                                                                  9\n",
       " Avalanche Sharks tells the story of a bikini contest that turns into a horrifying affair when it is hit by a shark avalanche.        1\n",
       " - Written by Ørnås                                                                                                                   1\n",
       " Rune Balot goes to a casino connected to the October corporation to try to wrap up her case once and for all.                        1\n",
       "Name: adult, dtype: int64"
      ]
     },
     "metadata": {},
     "execution_count": 8
    }
   ],
   "source": [
    "# Convert discrepant data types:\n",
    "# video: Boolean\n",
    "# budget: numeric\n",
    "# id: numeric\n",
    "# release_date: datetime\n",
    "# popularity: numeric\n",
    "# adult: Boolean\n"
   ]
  },
  {
   "cell_type": "code",
   "execution_count": 9,
   "metadata": {},
   "outputs": [
    {
     "output_type": "execute_result",
     "data": {
      "text/plain": [
       "False                                                                                                                             45454\n",
       "True                                                                                                                                  9\n",
       " Avalanche Sharks tells the story of a bikini contest that turns into a horrifying affair when it is hit by a shark avalanche.        1\n",
       " - Written by Ørnås                                                                                                                   1\n",
       " Rune Balot goes to a casino connected to the October corporation to try to wrap up her case once and for all.                        1\n",
       "Name: adult, dtype: int64"
      ]
     },
     "metadata": {},
     "execution_count": 9
    }
   ],
   "source": [
    "# Tackle Adult column:\n",
    "\n",
    "# Check data\n",
    "kaggle_metadata['adult'].value_counts()"
   ]
  },
  {
   "cell_type": "code",
   "execution_count": 10,
   "metadata": {},
   "outputs": [
    {
     "output_type": "execute_result",
     "data": {
      "text/plain": [
       "                                                   adult  \\\n",
       "19730                                 - Written by Ørnås   \n",
       "29503   Rune Balot goes to a casino connected to the ...   \n",
       "35587   Avalanche Sharks tells the story of a bikini ...   \n",
       "\n",
       "      belongs_to_collection                            budget  \\\n",
       "19730              0.065736  /ff9qCepilowshEtG2GYWwzt2bs4.jpg   \n",
       "29503              1.931659  /zV8bHuSL6WXoD6FWogP9j4x80bL.jpg   \n",
       "35587              2.185485  /zaSf5OG7V8X8gqFvly88zDdRm46.jpg   \n",
       "\n",
       "                                                  genres  \\\n",
       "19730  [{'name': 'Carousel Productions', 'id': 11176}...   \n",
       "29503  [{'name': 'Aniplex', 'id': 2883}, {'name': 'Go...   \n",
       "35587  [{'name': 'Odyssey Media', 'id': 17161}, {'nam...   \n",
       "\n",
       "                                                homepage          id imdb_id  \\\n",
       "19730  [{'iso_3166_1': 'CA', 'name': 'Canada'}, {'iso...  1997-08-20       0   \n",
       "29503  [{'iso_3166_1': 'US', 'name': 'United States o...  2012-09-29       0   \n",
       "35587           [{'iso_3166_1': 'CA', 'name': 'Canada'}]  2014-01-01       0   \n",
       "\n",
       "      original_language                            original_title  overview  \\\n",
       "19730             104.0  [{'iso_639_1': 'en', 'name': 'English'}]  Released   \n",
       "29503              68.0      [{'iso_639_1': 'ja', 'name': '日本語'}]  Released   \n",
       "35587              82.0  [{'iso_639_1': 'en', 'name': 'English'}]  Released   \n",
       "\n",
       "         ...     release_date revenue runtime spoken_languages status  \\\n",
       "19730    ...                1     NaN     NaN              NaN    NaN   \n",
       "29503    ...               12     NaN     NaN              NaN    NaN   \n",
       "35587    ...               22     NaN     NaN              NaN    NaN   \n",
       "\n",
       "       tagline  title video vote_average vote_count  \n",
       "19730      NaN    NaN   NaN          NaN        NaN  \n",
       "29503      NaN    NaN   NaN          NaN        NaN  \n",
       "35587      NaN    NaN   NaN          NaN        NaN  \n",
       "\n",
       "[3 rows x 24 columns]"
      ],
      "text/html": "<div>\n<style scoped>\n    .dataframe tbody tr th:only-of-type {\n        vertical-align: middle;\n    }\n\n    .dataframe tbody tr th {\n        vertical-align: top;\n    }\n\n    .dataframe thead th {\n        text-align: right;\n    }\n</style>\n<table border=\"1\" class=\"dataframe\">\n  <thead>\n    <tr style=\"text-align: right;\">\n      <th></th>\n      <th>adult</th>\n      <th>belongs_to_collection</th>\n      <th>budget</th>\n      <th>genres</th>\n      <th>homepage</th>\n      <th>id</th>\n      <th>imdb_id</th>\n      <th>original_language</th>\n      <th>original_title</th>\n      <th>overview</th>\n      <th>...</th>\n      <th>release_date</th>\n      <th>revenue</th>\n      <th>runtime</th>\n      <th>spoken_languages</th>\n      <th>status</th>\n      <th>tagline</th>\n      <th>title</th>\n      <th>video</th>\n      <th>vote_average</th>\n      <th>vote_count</th>\n    </tr>\n  </thead>\n  <tbody>\n    <tr>\n      <th>19730</th>\n      <td>- Written by Ørnås</td>\n      <td>0.065736</td>\n      <td>/ff9qCepilowshEtG2GYWwzt2bs4.jpg</td>\n      <td>[{'name': 'Carousel Productions', 'id': 11176}...</td>\n      <td>[{'iso_3166_1': 'CA', 'name': 'Canada'}, {'iso...</td>\n      <td>1997-08-20</td>\n      <td>0</td>\n      <td>104.0</td>\n      <td>[{'iso_639_1': 'en', 'name': 'English'}]</td>\n      <td>Released</td>\n      <td>...</td>\n      <td>1</td>\n      <td>NaN</td>\n      <td>NaN</td>\n      <td>NaN</td>\n      <td>NaN</td>\n      <td>NaN</td>\n      <td>NaN</td>\n      <td>NaN</td>\n      <td>NaN</td>\n      <td>NaN</td>\n    </tr>\n    <tr>\n      <th>29503</th>\n      <td>Rune Balot goes to a casino connected to the ...</td>\n      <td>1.931659</td>\n      <td>/zV8bHuSL6WXoD6FWogP9j4x80bL.jpg</td>\n      <td>[{'name': 'Aniplex', 'id': 2883}, {'name': 'Go...</td>\n      <td>[{'iso_3166_1': 'US', 'name': 'United States o...</td>\n      <td>2012-09-29</td>\n      <td>0</td>\n      <td>68.0</td>\n      <td>[{'iso_639_1': 'ja', 'name': '日本語'}]</td>\n      <td>Released</td>\n      <td>...</td>\n      <td>12</td>\n      <td>NaN</td>\n      <td>NaN</td>\n      <td>NaN</td>\n      <td>NaN</td>\n      <td>NaN</td>\n      <td>NaN</td>\n      <td>NaN</td>\n      <td>NaN</td>\n      <td>NaN</td>\n    </tr>\n    <tr>\n      <th>35587</th>\n      <td>Avalanche Sharks tells the story of a bikini ...</td>\n      <td>2.185485</td>\n      <td>/zaSf5OG7V8X8gqFvly88zDdRm46.jpg</td>\n      <td>[{'name': 'Odyssey Media', 'id': 17161}, {'nam...</td>\n      <td>[{'iso_3166_1': 'CA', 'name': 'Canada'}]</td>\n      <td>2014-01-01</td>\n      <td>0</td>\n      <td>82.0</td>\n      <td>[{'iso_639_1': 'en', 'name': 'English'}]</td>\n      <td>Released</td>\n      <td>...</td>\n      <td>22</td>\n      <td>NaN</td>\n      <td>NaN</td>\n      <td>NaN</td>\n      <td>NaN</td>\n      <td>NaN</td>\n      <td>NaN</td>\n      <td>NaN</td>\n      <td>NaN</td>\n      <td>NaN</td>\n    </tr>\n  </tbody>\n</table>\n<p>3 rows × 24 columns</p>\n</div>"
     },
     "metadata": {},
     "execution_count": 10
    }
   ],
   "source": [
    "# Clean data\n",
    "# The following uses Pandas boolean operator ~ (aka all values that are False for .isin(['True','False']), or values that aren't True or False)\n",
    "kaggle_metadata[~kaggle_metadata['adult'].isin(['True','False'])]\n"
   ]
  },
  {
   "cell_type": "code",
   "execution_count": 11,
   "metadata": {},
   "outputs": [],
   "source": [
    "# Since we don't want to include Adult movies in our HACKATHON dataset, we should keep rows where Adult is False, and drop all True rows\n",
    "kaggle_metadata = kaggle_metadata[kaggle_metadata['adult'] == 'False'].drop('adult',axis='columns')\n"
   ]
  },
  {
   "cell_type": "code",
   "execution_count": 12,
   "metadata": {},
   "outputs": [
    {
     "output_type": "execute_result",
     "data": {
      "text/plain": [
       "False    45358\n",
       "True        93\n",
       "Name: video, dtype: int64"
      ]
     },
     "metadata": {},
     "execution_count": 12
    }
   ],
   "source": [
    "# Check values of the video column\n",
    "kaggle_metadata['video'].value_counts()\n"
   ]
  },
  {
   "cell_type": "code",
   "execution_count": null,
   "metadata": {},
   "outputs": [],
   "source": [
    "# This data is clean!"
   ]
  }
 ]
}